{
 "cells": [
  {
   "cell_type": "markdown",
   "metadata": {},
   "source": [
    "# Importando bibliotecas"
   ]
  },
  {
   "cell_type": "code",
   "execution_count": 1,
   "metadata": {},
   "outputs": [
    {
     "data": {
      "text/html": [
       "<style type='text/css'>\n",
       ".datatable table.frame { margin-bottom: 0; }\n",
       ".datatable table.frame thead { border-bottom: none; }\n",
       ".datatable table.frame tr.coltypes td {  color: #FFFFFF;  line-height: 6px;  padding: 0 0.5em;}\n",
       ".datatable .bool    { background: #DDDD99; }\n",
       ".datatable .object  { background: #565656; }\n",
       ".datatable .int     { background: #5D9E5D; }\n",
       ".datatable .float   { background: #4040CC; }\n",
       ".datatable .str     { background: #CC4040; }\n",
       ".datatable .row_index {  background: var(--jp-border-color3);  border-right: 1px solid var(--jp-border-color0);  color: var(--jp-ui-font-color3);  font-size: 9px;}\n",
       ".datatable .frame tr.coltypes .row_index {  background: var(--jp-border-color0);}\n",
       ".datatable th:nth-child(2) { padding-left: 12px; }\n",
       ".datatable .hellipsis {  color: var(--jp-cell-editor-border-color);}\n",
       ".datatable .vellipsis {  background: var(--jp-layout-color0);  color: var(--jp-cell-editor-border-color);}\n",
       ".datatable .na {  color: var(--jp-cell-editor-border-color);  font-size: 80%;}\n",
       ".datatable .footer { font-size: 9px; }\n",
       ".datatable .frame_dimensions {  background: var(--jp-border-color3);  border-top: 1px solid var(--jp-border-color0);  color: var(--jp-ui-font-color3);  display: inline-block;  opacity: 0.6;  padding: 1px 10px 1px 5px;}\n",
       "</style>\n"
      ],
      "text/plain": [
       "<IPython.core.display.HTML object>"
      ]
     },
     "metadata": {},
     "output_type": "display_data"
    },
    {
     "name": "stdout",
     "output_type": "stream",
     "text": [
      "datatable: 0.11.1\n",
      "numpy    : 1.20.1\n",
      "pyarrow  : 4.0.0\n",
      "tqdm     : 4.60.0\n",
      "sys      : 3.7.4 (default, Aug  9 2019, 18:34:13) [MSC v.1915 64 bit (AMD64)]\n",
      "re       : 2.2.1\n",
      "pandas   : 1.2.2\n",
      "\n"
     ]
    }
   ],
   "source": [
    "#pyarrow para manipulação de grandes conjuntos de dados\n",
    "import pyarrow.parquet as pq\n",
    "import pyarrow as pa\n",
    "\n",
    "# biblotecas para manipulação de dados\n",
    "import pandas as pd\n",
    "import datatable as dt\n",
    "import numpy as np\n",
    "\n",
    "#Bibliotecas auxiliares\n",
    "import os\n",
    "from functools import reduce\n",
    "import re\n",
    "import pickle\n",
    "import gc\n",
    "import tqdm\n",
    "\n",
    "#Biblioteca propria\n",
    "import sys\n",
    "sys.path.append(\"../src/\")\n",
    "from eda.eda import describe\n",
    "from io_pyarrow.io_pyarrow import pyarrow_read_csv,write_table_from_pandas, read_table_to_pandas #leitura e escrita de arquivos csv grandes\n",
    "\n",
    "%reload_ext watermark\n",
    "%watermark --iversions"
   ]
  },
  {
   "cell_type": "markdown",
   "metadata": {},
   "source": [
    "___"
   ]
  },
  {
   "cell_type": "markdown",
   "metadata": {},
   "source": [
    "# Importando arquivo"
   ]
  },
  {
   "cell_type": "code",
   "execution_count": 2,
   "metadata": {},
   "outputs": [],
   "source": [
    "#Definindo path dos arquivos\n",
    "path_data = \"../data/raw/\""
   ]
  },
  {
   "cell_type": "markdown",
   "metadata": {},
   "source": [
    "## Dados da FAPESP\n",
    "<b> Descrição </b>: Pasta de arquivos, com dados anonimizados de pacientes que fizeram teste para COVID-19 a partir de 1/11/2019 e respectivos resultados de exames laboratoriais, contendo dentre outros o identificador anonimizado do paciente  <br>\n",
    "fonte: https://repositoriodatasharingfapesp.uspdigital.usp.br/"
   ]
  },
  {
   "cell_type": "markdown",
   "metadata": {},
   "source": [
    "### Hospital Sírio Libanes"
   ]
  },
  {
   "cell_type": "code",
   "execution_count": 4,
   "metadata": {},
   "outputs": [
    {
     "name": "stdout",
     "output_type": "stream",
     "text": [
      "(1463834, 9)\n",
      "(8971, 7)\n",
      "(42691, 8)\n",
      "Wall time: 1.55 s\n"
     ]
    }
   ],
   "source": [
    "%%time\n",
    "hsl_exames = pyarrow_read_csv(path_data + \"FAPESP/HSL_Exames_3.csv\",sep=\"|\")\n",
    "print(hsl_exames.shape)\n",
    "hsl_pacientes = pyarrow_read_csv(path_data + \"FAPESP/HSL_Pacientes_3.csv\",sep=\"|\")\n",
    "print(hsl_pacientes.shape)\n",
    "hsl_desfechos = pyarrow_read_csv(path_data + \"FAPESP/HSL_Desfechos_3.csv\",sep=\"|\")\n",
    "print(hsl_desfechos.shape)"
   ]
  },
  {
   "cell_type": "markdown",
   "metadata": {},
   "source": [
    "___"
   ]
  },
  {
   "cell_type": "markdown",
   "metadata": {},
   "source": [
    "# Analisando a bases de dados"
   ]
  },
  {
   "cell_type": "markdown",
   "metadata": {},
   "source": [
    "### Ajustando dados do Fleury"
   ]
  },
  {
   "cell_type": "code",
   "execution_count": 5,
   "metadata": {},
   "outputs": [
    {
     "name": "stdout",
     "output_type": "stream",
     "text": [
      "Quantidade de linhas: 1463834\n"
     ]
    },
    {
     "data": {
      "text/html": [
       "<div>\n",
       "<style scoped>\n",
       "    .dataframe tbody tr th:only-of-type {\n",
       "        vertical-align: middle;\n",
       "    }\n",
       "\n",
       "    .dataframe tbody tr th {\n",
       "        vertical-align: top;\n",
       "    }\n",
       "\n",
       "    .dataframe thead th {\n",
       "        text-align: right;\n",
       "    }\n",
       "</style>\n",
       "<table border=\"1\" class=\"dataframe\">\n",
       "  <thead>\n",
       "    <tr style=\"text-align: right;\">\n",
       "      <th></th>\n",
       "      <th>variable</th>\n",
       "      <th>type</th>\n",
       "      <th>na</th>\n",
       "      <th>na_pct</th>\n",
       "      <th>unique</th>\n",
       "      <th>min</th>\n",
       "      <th>quat25</th>\n",
       "      <th>median</th>\n",
       "      <th>mean</th>\n",
       "      <th>quat75</th>\n",
       "      <th>max</th>\n",
       "      <th>std</th>\n",
       "      <th>skewness</th>\n",
       "      <th>kurtosis</th>\n",
       "      <th>media_desvio</th>\n",
       "    </tr>\n",
       "  </thead>\n",
       "  <tbody>\n",
       "    <tr>\n",
       "      <th>0</th>\n",
       "      <td>ID_PACIENTE</td>\n",
       "      <td>object</td>\n",
       "      <td>0</td>\n",
       "      <td>0.0%</td>\n",
       "      <td>8971</td>\n",
       "      <td>-</td>\n",
       "      <td>-</td>\n",
       "      <td>-</td>\n",
       "      <td>-</td>\n",
       "      <td>-</td>\n",
       "      <td>-</td>\n",
       "      <td>-</td>\n",
       "      <td>-</td>\n",
       "      <td>-</td>\n",
       "      <td>-</td>\n",
       "    </tr>\n",
       "    <tr>\n",
       "      <th>1</th>\n",
       "      <td>ID_ATENDIMENTO</td>\n",
       "      <td>object</td>\n",
       "      <td>0</td>\n",
       "      <td>0.0%</td>\n",
       "      <td>19550</td>\n",
       "      <td>-</td>\n",
       "      <td>-</td>\n",
       "      <td>-</td>\n",
       "      <td>-</td>\n",
       "      <td>-</td>\n",
       "      <td>-</td>\n",
       "      <td>-</td>\n",
       "      <td>-</td>\n",
       "      <td>-</td>\n",
       "      <td>-</td>\n",
       "    </tr>\n",
       "    <tr>\n",
       "      <th>2</th>\n",
       "      <td>DT_COLETA</td>\n",
       "      <td>object</td>\n",
       "      <td>0</td>\n",
       "      <td>0.0%</td>\n",
       "      <td>308</td>\n",
       "      <td>-</td>\n",
       "      <td>-</td>\n",
       "      <td>-</td>\n",
       "      <td>-</td>\n",
       "      <td>-</td>\n",
       "      <td>-</td>\n",
       "      <td>-</td>\n",
       "      <td>-</td>\n",
       "      <td>-</td>\n",
       "      <td>-</td>\n",
       "    </tr>\n",
       "    <tr>\n",
       "      <th>3</th>\n",
       "      <td>DE_ORIGEM</td>\n",
       "      <td>object</td>\n",
       "      <td>0</td>\n",
       "      <td>0.0%</td>\n",
       "      <td>95</td>\n",
       "      <td>-</td>\n",
       "      <td>-</td>\n",
       "      <td>-</td>\n",
       "      <td>-</td>\n",
       "      <td>-</td>\n",
       "      <td>-</td>\n",
       "      <td>-</td>\n",
       "      <td>-</td>\n",
       "      <td>-</td>\n",
       "      <td>-</td>\n",
       "    </tr>\n",
       "    <tr>\n",
       "      <th>4</th>\n",
       "      <td>DE_EXAME</td>\n",
       "      <td>object</td>\n",
       "      <td>0</td>\n",
       "      <td>0.0%</td>\n",
       "      <td>665</td>\n",
       "      <td>-</td>\n",
       "      <td>-</td>\n",
       "      <td>-</td>\n",
       "      <td>-</td>\n",
       "      <td>-</td>\n",
       "      <td>-</td>\n",
       "      <td>-</td>\n",
       "      <td>-</td>\n",
       "      <td>-</td>\n",
       "      <td>-</td>\n",
       "    </tr>\n",
       "    <tr>\n",
       "      <th>5</th>\n",
       "      <td>DE_ANALITO</td>\n",
       "      <td>object</td>\n",
       "      <td>0</td>\n",
       "      <td>0.0%</td>\n",
       "      <td>954</td>\n",
       "      <td>-</td>\n",
       "      <td>-</td>\n",
       "      <td>-</td>\n",
       "      <td>-</td>\n",
       "      <td>-</td>\n",
       "      <td>-</td>\n",
       "      <td>-</td>\n",
       "      <td>-</td>\n",
       "      <td>-</td>\n",
       "      <td>-</td>\n",
       "    </tr>\n",
       "    <tr>\n",
       "      <th>6</th>\n",
       "      <td>DE_RESULTADO</td>\n",
       "      <td>object</td>\n",
       "      <td>0</td>\n",
       "      <td>0.0%</td>\n",
       "      <td>15520</td>\n",
       "      <td>-</td>\n",
       "      <td>-</td>\n",
       "      <td>-</td>\n",
       "      <td>-</td>\n",
       "      <td>-</td>\n",
       "      <td>-</td>\n",
       "      <td>-</td>\n",
       "      <td>-</td>\n",
       "      <td>-</td>\n",
       "      <td>-</td>\n",
       "    </tr>\n",
       "    <tr>\n",
       "      <th>7</th>\n",
       "      <td>CD_UNIDADE</td>\n",
       "      <td>object</td>\n",
       "      <td>0</td>\n",
       "      <td>0.0%</td>\n",
       "      <td>54</td>\n",
       "      <td>-</td>\n",
       "      <td>-</td>\n",
       "      <td>-</td>\n",
       "      <td>-</td>\n",
       "      <td>-</td>\n",
       "      <td>-</td>\n",
       "      <td>-</td>\n",
       "      <td>-</td>\n",
       "      <td>-</td>\n",
       "      <td>-</td>\n",
       "    </tr>\n",
       "    <tr>\n",
       "      <th>8</th>\n",
       "      <td>DE_VALOR_REFERENCIA</td>\n",
       "      <td>object</td>\n",
       "      <td>0</td>\n",
       "      <td>0.0%</td>\n",
       "      <td>670</td>\n",
       "      <td>-</td>\n",
       "      <td>-</td>\n",
       "      <td>-</td>\n",
       "      <td>-</td>\n",
       "      <td>-</td>\n",
       "      <td>-</td>\n",
       "      <td>-</td>\n",
       "      <td>-</td>\n",
       "      <td>-</td>\n",
       "      <td>-</td>\n",
       "    </tr>\n",
       "    <tr>\n",
       "      <th>9</th>\n",
       "      <td>DT_ATENDIMENTO</td>\n",
       "      <td>object</td>\n",
       "      <td>128224</td>\n",
       "      <td>8.8%</td>\n",
       "      <td>308</td>\n",
       "      <td>-</td>\n",
       "      <td>-</td>\n",
       "      <td>-</td>\n",
       "      <td>-</td>\n",
       "      <td>-</td>\n",
       "      <td>-</td>\n",
       "      <td>-</td>\n",
       "      <td>-</td>\n",
       "      <td>-</td>\n",
       "      <td>-</td>\n",
       "    </tr>\n",
       "    <tr>\n",
       "      <th>10</th>\n",
       "      <td>DE_TIPO_ATENDIMENTO</td>\n",
       "      <td>object</td>\n",
       "      <td>128224</td>\n",
       "      <td>8.8%</td>\n",
       "      <td>5</td>\n",
       "      <td>-</td>\n",
       "      <td>-</td>\n",
       "      <td>-</td>\n",
       "      <td>-</td>\n",
       "      <td>-</td>\n",
       "      <td>-</td>\n",
       "      <td>-</td>\n",
       "      <td>-</td>\n",
       "      <td>-</td>\n",
       "      <td>-</td>\n",
       "    </tr>\n",
       "    <tr>\n",
       "      <th>11</th>\n",
       "      <td>ID_CLINICA</td>\n",
       "      <td>float64</td>\n",
       "      <td>128224</td>\n",
       "      <td>8.8%</td>\n",
       "      <td>29</td>\n",
       "      <td>1.0</td>\n",
       "      <td>1.0</td>\n",
       "      <td>1.0</td>\n",
       "      <td>8.54</td>\n",
       "      <td>8.0</td>\n",
       "      <td>1027.0</td>\n",
       "      <td>28.37</td>\n",
       "      <td>27.24</td>\n",
       "      <td>961.95</td>\n",
       "      <td>0.3</td>\n",
       "    </tr>\n",
       "    <tr>\n",
       "      <th>12</th>\n",
       "      <td>DE_CLINICA</td>\n",
       "      <td>object</td>\n",
       "      <td>128224</td>\n",
       "      <td>8.8%</td>\n",
       "      <td>29</td>\n",
       "      <td>-</td>\n",
       "      <td>-</td>\n",
       "      <td>-</td>\n",
       "      <td>-</td>\n",
       "      <td>-</td>\n",
       "      <td>-</td>\n",
       "      <td>-</td>\n",
       "      <td>-</td>\n",
       "      <td>-</td>\n",
       "      <td>-</td>\n",
       "    </tr>\n",
       "    <tr>\n",
       "      <th>13</th>\n",
       "      <td>DT_DESFECHO</td>\n",
       "      <td>object</td>\n",
       "      <td>128224</td>\n",
       "      <td>8.8%</td>\n",
       "      <td>310</td>\n",
       "      <td>-</td>\n",
       "      <td>-</td>\n",
       "      <td>-</td>\n",
       "      <td>-</td>\n",
       "      <td>-</td>\n",
       "      <td>-</td>\n",
       "      <td>-</td>\n",
       "      <td>-</td>\n",
       "      <td>-</td>\n",
       "      <td>-</td>\n",
       "    </tr>\n",
       "    <tr>\n",
       "      <th>14</th>\n",
       "      <td>DE_DESFECHO</td>\n",
       "      <td>object</td>\n",
       "      <td>128224</td>\n",
       "      <td>8.8%</td>\n",
       "      <td>15</td>\n",
       "      <td>-</td>\n",
       "      <td>-</td>\n",
       "      <td>-</td>\n",
       "      <td>-</td>\n",
       "      <td>-</td>\n",
       "      <td>-</td>\n",
       "      <td>-</td>\n",
       "      <td>-</td>\n",
       "      <td>-</td>\n",
       "      <td>-</td>\n",
       "    </tr>\n",
       "    <tr>\n",
       "      <th>15</th>\n",
       "      <td>IC_SEXO</td>\n",
       "      <td>object</td>\n",
       "      <td>0</td>\n",
       "      <td>0.0%</td>\n",
       "      <td>2</td>\n",
       "      <td>-</td>\n",
       "      <td>-</td>\n",
       "      <td>-</td>\n",
       "      <td>-</td>\n",
       "      <td>-</td>\n",
       "      <td>-</td>\n",
       "      <td>-</td>\n",
       "      <td>-</td>\n",
       "      <td>-</td>\n",
       "      <td>-</td>\n",
       "    </tr>\n",
       "    <tr>\n",
       "      <th>16</th>\n",
       "      <td>aa_nascimento</td>\n",
       "      <td>object</td>\n",
       "      <td>0</td>\n",
       "      <td>0.0%</td>\n",
       "      <td>91</td>\n",
       "      <td>-</td>\n",
       "      <td>-</td>\n",
       "      <td>-</td>\n",
       "      <td>-</td>\n",
       "      <td>-</td>\n",
       "      <td>-</td>\n",
       "      <td>-</td>\n",
       "      <td>-</td>\n",
       "      <td>-</td>\n",
       "      <td>-</td>\n",
       "    </tr>\n",
       "    <tr>\n",
       "      <th>17</th>\n",
       "      <td>CD_PAIS</td>\n",
       "      <td>object</td>\n",
       "      <td>0</td>\n",
       "      <td>0.0%</td>\n",
       "      <td>2</td>\n",
       "      <td>-</td>\n",
       "      <td>-</td>\n",
       "      <td>-</td>\n",
       "      <td>-</td>\n",
       "      <td>-</td>\n",
       "      <td>-</td>\n",
       "      <td>-</td>\n",
       "      <td>-</td>\n",
       "      <td>-</td>\n",
       "      <td>-</td>\n",
       "    </tr>\n",
       "    <tr>\n",
       "      <th>18</th>\n",
       "      <td>CD_UF</td>\n",
       "      <td>object</td>\n",
       "      <td>0</td>\n",
       "      <td>0.0%</td>\n",
       "      <td>4</td>\n",
       "      <td>-</td>\n",
       "      <td>-</td>\n",
       "      <td>-</td>\n",
       "      <td>-</td>\n",
       "      <td>-</td>\n",
       "      <td>-</td>\n",
       "      <td>-</td>\n",
       "      <td>-</td>\n",
       "      <td>-</td>\n",
       "      <td>-</td>\n",
       "    </tr>\n",
       "    <tr>\n",
       "      <th>19</th>\n",
       "      <td>CD_MUNICIPIO</td>\n",
       "      <td>object</td>\n",
       "      <td>0</td>\n",
       "      <td>0.0%</td>\n",
       "      <td>7</td>\n",
       "      <td>-</td>\n",
       "      <td>-</td>\n",
       "      <td>-</td>\n",
       "      <td>-</td>\n",
       "      <td>-</td>\n",
       "      <td>-</td>\n",
       "      <td>-</td>\n",
       "      <td>-</td>\n",
       "      <td>-</td>\n",
       "      <td>-</td>\n",
       "    </tr>\n",
       "    <tr>\n",
       "      <th>20</th>\n",
       "      <td>CD_CEPREDUZIDO</td>\n",
       "      <td>object</td>\n",
       "      <td>0</td>\n",
       "      <td>0.0%</td>\n",
       "      <td>2</td>\n",
       "      <td>-</td>\n",
       "      <td>-</td>\n",
       "      <td>-</td>\n",
       "      <td>-</td>\n",
       "      <td>-</td>\n",
       "      <td>-</td>\n",
       "      <td>-</td>\n",
       "      <td>-</td>\n",
       "      <td>-</td>\n",
       "      <td>-</td>\n",
       "    </tr>\n",
       "  </tbody>\n",
       "</table>\n",
       "</div>"
      ],
      "text/plain": [
       "               variable     type      na na_pct  unique  min quat25 median  \\\n",
       "0           ID_PACIENTE   object       0   0.0%    8971    -      -      -   \n",
       "1        ID_ATENDIMENTO   object       0   0.0%   19550    -      -      -   \n",
       "2             DT_COLETA   object       0   0.0%     308    -      -      -   \n",
       "3             DE_ORIGEM   object       0   0.0%      95    -      -      -   \n",
       "4              DE_EXAME   object       0   0.0%     665    -      -      -   \n",
       "5            DE_ANALITO   object       0   0.0%     954    -      -      -   \n",
       "6          DE_RESULTADO   object       0   0.0%   15520    -      -      -   \n",
       "7            CD_UNIDADE   object       0   0.0%      54    -      -      -   \n",
       "8   DE_VALOR_REFERENCIA   object       0   0.0%     670    -      -      -   \n",
       "9        DT_ATENDIMENTO   object  128224   8.8%     308    -      -      -   \n",
       "10  DE_TIPO_ATENDIMENTO   object  128224   8.8%       5    -      -      -   \n",
       "11           ID_CLINICA  float64  128224   8.8%      29  1.0    1.0    1.0   \n",
       "12           DE_CLINICA   object  128224   8.8%      29    -      -      -   \n",
       "13          DT_DESFECHO   object  128224   8.8%     310    -      -      -   \n",
       "14          DE_DESFECHO   object  128224   8.8%      15    -      -      -   \n",
       "15              IC_SEXO   object       0   0.0%       2    -      -      -   \n",
       "16        aa_nascimento   object       0   0.0%      91    -      -      -   \n",
       "17              CD_PAIS   object       0   0.0%       2    -      -      -   \n",
       "18                CD_UF   object       0   0.0%       4    -      -      -   \n",
       "19         CD_MUNICIPIO   object       0   0.0%       7    -      -      -   \n",
       "20       CD_CEPREDUZIDO   object       0   0.0%       2    -      -      -   \n",
       "\n",
       "    mean quat75     max    std skewness kurtosis media_desvio  \n",
       "0      -      -       -      -        -        -            -  \n",
       "1      -      -       -      -        -        -            -  \n",
       "2      -      -       -      -        -        -            -  \n",
       "3      -      -       -      -        -        -            -  \n",
       "4      -      -       -      -        -        -            -  \n",
       "5      -      -       -      -        -        -            -  \n",
       "6      -      -       -      -        -        -            -  \n",
       "7      -      -       -      -        -        -            -  \n",
       "8      -      -       -      -        -        -            -  \n",
       "9      -      -       -      -        -        -            -  \n",
       "10     -      -       -      -        -        -            -  \n",
       "11  8.54    8.0  1027.0  28.37    27.24   961.95          0.3  \n",
       "12     -      -       -      -        -        -            -  \n",
       "13     -      -       -      -        -        -            -  \n",
       "14     -      -       -      -        -        -            -  \n",
       "15     -      -       -      -        -        -            -  \n",
       "16     -      -       -      -        -        -            -  \n",
       "17     -      -       -      -        -        -            -  \n",
       "18     -      -       -      -        -        -            -  \n",
       "19     -      -       -      -        -        -            -  \n",
       "20     -      -       -      -        -        -            -  "
      ]
     },
     "execution_count": 5,
     "metadata": {},
     "output_type": "execute_result"
    }
   ],
   "source": [
    "hsl = hsl_exames.merge(hsl_desfechos,\n",
    "                       on = [\"ID_PACIENTE\",\"ID_ATENDIMENTO\"],\n",
    "                       how = 'left').merge(hsl_pacientes,\n",
    "                                           on = \"ID_PACIENTE\",\n",
    "                                           how = 'left')\n",
    "\n",
    "describe(hsl)"
   ]
  },
  {
   "cell_type": "code",
   "execution_count": 6,
   "metadata": {},
   "outputs": [],
   "source": [
    "hsl_ = hsl.copy()"
   ]
  },
  {
   "cell_type": "markdown",
   "metadata": {},
   "source": [
    "#### DT_COLETA"
   ]
  },
  {
   "cell_type": "code",
   "execution_count": 7,
   "metadata": {},
   "outputs": [
    {
     "name": "stdout",
     "output_type": "stream",
     "text": [
      "Quantidade de registros que não puderam ser convertidos: 0\n"
     ]
    }
   ],
   "source": [
    "#DT_COLETA é um dado no formato de data que deve ser convertido\n",
    "hsl_.DT_COLETA = pd.to_datetime(hsl_.DT_COLETA,errors='coerce')\n",
    "print(\"Quantidade de registros que não puderam ser convertidos:\",hsl_.DT_COLETA.isna().sum())"
   ]
  },
  {
   "cell_type": "markdown",
   "metadata": {},
   "source": [
    "#### DE_ORIGEM"
   ]
  },
  {
   "cell_type": "markdown",
   "metadata": {},
   "source": [
    "<font color = 'red'><b> Verificar se existe alguma forma de reduzir esse volume de DE_ORIGEM</b></font>\n",
    "\n",
    "De acordo com o dicionario de dados, o formato deveria ser composto por elementos de 4 caracteres, mas não é isso que ocorre aqui"
   ]
  },
  {
   "cell_type": "code",
   "execution_count": 23,
   "metadata": {},
   "outputs": [
    {
     "data": {
      "text/plain": [
       "DE_ORIGEM               DE_CLINICA                \n",
       "Unidades de Internação  Ambulatório                      233\n",
       "                        Ambulância                      2658\n",
       "                        CL Médica Síndromes Virais       159\n",
       "                        Cirurgia                       19930\n",
       "                        Clínica Médica                325089\n",
       "                        Consulta                         210\n",
       "                        Cuidando de Quem Cuida            26\n",
       "                        Exames                           929\n",
       "                        Hospital Dia                     101\n",
       "                        Oncologia                        125\n",
       "                        Ortopedia                       1697\n",
       "                        Outros                          4194\n",
       "                        Pediatria                         87\n",
       "                        Peq. Cirurgias                    46\n",
       "                        Procedimentos                     16\n",
       "                        Procedimentos Enfermagem          97\n",
       "Name: ID_PACIENTE, dtype: int64"
      ]
     },
     "execution_count": 23,
     "metadata": {},
     "output_type": "execute_result"
    }
   ],
   "source": [
    "hsl_.query(\"'Unidades de Internação' == DE_ORIGEM\").groupby([\"DE_ORIGEM\",\"DE_CLINICA\"]).ID_PACIENTE.count()"
   ]
  },
  {
   "cell_type": "code",
   "execution_count": 17,
   "metadata": {
    "scrolled": true
   },
   "outputs": [
    {
     "data": {
      "text/plain": [
       "{'UTI': 718522,\n",
       " 'Unidades de Internação': 363883,\n",
       " 'Pronto Socorro': 146810,\n",
       " 'Recepção do Centro Diagnóstico': 120367,\n",
       " 'Centro de Oncologia': 16483,\n",
       " 'Laboratório de Patologia Clínica': 13403,\n",
       " 'Recepção CDI - 2º andar - Itaim': 12764,\n",
       " 'Hemodiálise': 10768,\n",
       " 'Programa Cuidando de Quem Cuida': 9468,\n",
       " 'Oncologia Clínica - Brasília': 8312,\n",
       " 'Apoio Administrativo - Jardins': 4432,\n",
       " 'Tomografia': 3465,\n",
       " 'Ultrassonografia': 3240,\n",
       " 'Ultrassonografia - Jardins': 2038,\n",
       " 'Centro Cirurgico': 1732,\n",
       " 'Laboratório de Patologia Clínica - Brasília IV': 1697,\n",
       " 'Oncologia Clínica - Itaim': 1669,\n",
       " 'Ecocardiografia': 1645,\n",
       " 'Laboratório de Anatomia Patológica': 1530,\n",
       " 'Oncologia Clínica - Brasília II': 1422,\n",
       " 'Laboratório de Patologia Clínica - Itaim': 1283,\n",
       " 'Tomografia - Itaim': 1275,\n",
       " 'Radiologia Geral': 1223,\n",
       " 'Check Up - Itaim': 1214,\n",
       " 'Central de Agendamento do SADT': 1199,\n",
       " 'Ultrassonografia - Itaim': 1194,\n",
       " 'Medicina do Trabalho': 849,\n",
       " 'Ressonância Magnética': 825,\n",
       " 'Laboratório de Patologia Clínica - Brasília III': 641,\n",
       " 'Apoio Administrativo e Financeiro - Brasília IV': 565,\n",
       " 'Laboratório de Patologia Clínica - Jardins': 537,\n",
       " 'Ultrassonografia - Brasília III': 491,\n",
       " 'Teste Ergométrico': 479,\n",
       " 'Ressonância Magnética - Itaim': 476,\n",
       " 'Ecocardiograma - Itaim': 453,\n",
       " 'Hospitalidade - Brasília IV': 430,\n",
       " 'Eletrocardiograma': 421,\n",
       " 'Densitometria Óssea': 414,\n",
       " 'Apoio Administrativo - Brasília III': 399,\n",
       " 'Medicina da Família - Brasília IV': 388,\n",
       " 'Teste Ergométrico - Itaim': 376,\n",
       " 'Centro de Infusão ': 364,\n",
       " 'Pronto Atendimento': 348,\n",
       " 'Endoscopia': 343,\n",
       " 'Mamografia - Itaim': 244,\n",
       " 'Holter': 236,\n",
       " 'Eletrocardiograma - Itaim': 232,\n",
       " 'Núcleos 1': 227,\n",
       " 'Mamografia': 207,\n",
       " 'Radiologia Geral - Itaim': 207,\n",
       " 'Eletroencefalograma': 194,\n",
       " 'Endoscopia - Itaim': 169,\n",
       " 'Medicina Nuclear': 166,\n",
       " 'Saúde Corporativa - Fleury - São Caetano': 158,\n",
       " 'Mamografia-Brasília III': 141,\n",
       " 'Mamografia - Jardins': 127,\n",
       " 'Saúde Corporativa - Itaú - CT': 127,\n",
       " 'Tomografia - Brasília III': 124,\n",
       " 'Núcleos 2': 118,\n",
       " 'Densitometria Óssea - Itaim': 105,\n",
       " 'Densitometria Óssea - Jardins': 105,\n",
       " 'Entrega domiciliar de exames': 98,\n",
       " 'Preparo Colono - 14ºC': 97,\n",
       " 'Intervenção guiada por TC e US': 77,\n",
       " 'Saúde Corporativa - Santander - Sede JK': 72,\n",
       " 'Ressonância Magnética - Brasília IV': 68,\n",
       " 'Tomografia - Brasília IV': 66,\n",
       " 'Saúde Corporativa - Itaú - CAT': 61,\n",
       " 'MAPA - Monitorização Ambulatorial de Pressão Arterial': 60,\n",
       " 'Atendimento - Centro de Oncologia': 58,\n",
       " 'Preparo Colono - 13ºC': 53,\n",
       " 'Saúde Corporativa - Itaú - CEIC': 50,\n",
       " 'Atendimento - Recepção / Internação': 49,\n",
       " 'Administração de Contratos': 42,\n",
       " 'PET CT - Brasília III': 39,\n",
       " 'Central de Guias Externos': 37,\n",
       " 'Saúde Corporativa - Itaú - CA ITM': 35,\n",
       " 'Saúde Corporativa - Banco Votorantim - Bela Vista': 30,\n",
       " 'Saúde Corporativa - Itaú - Bela Vista': 26,\n",
       " 'Laboratório de Anatomia Patológica - Brasília IV': 24,\n",
       " 'Central de Etiquetagem': 10,\n",
       " 'Ultrassonografia - Brasília IV': 10,\n",
       " 'Saúde Corporativa - Fleury - Braz Leme': 9,\n",
       " 'Administração - Itaim': 8,\n",
       " 'Same - Itaim': 6,\n",
       " 'Intervenção guiada por US - Brasília IV': 5,\n",
       " 'Eletromiografia': 4,\n",
       " 'Intervenção guiada por TC - Brasília IV': 4,\n",
       " 'Banco de Sangue': 3,\n",
       " 'Saúde Corporativa - Unimed Seguros - Bela Vista': 2,\n",
       " 'Saúde Corporativa - Banco Votorantim': 2,\n",
       " 'Secretária do Centro Diagnóstico': 2,\n",
       " 'Anatomia Patológica - Jardins': 1,\n",
       " 'Unidade Cardiológica do Exercício': 1,\n",
       " 'Capacidade e Operações': 1}"
      ]
     },
     "execution_count": 17,
     "metadata": {},
     "output_type": "execute_result"
    }
   ],
   "source": [
    "hsl_.DE_ORIGEM.value_counts().to_dict()"
   ]
  },
  {
   "cell_type": "markdown",
   "metadata": {},
   "source": [
    "#### CD_UNIDADE"
   ]
  },
  {
   "cell_type": "code",
   "execution_count": 28,
   "metadata": {},
   "outputs": [
    {
     "data": {
      "text/plain": [
       "                       359175\n",
       "/mm3                   224443\n",
       "mg/dL                  202485\n",
       "%                      124745\n",
       "mL/minuto               95140\n",
       "g/dL                    67158\n",
       "mEq/L                   64908\n",
       "U/L                     49367\n",
       "mmHg                    41930\n",
       "mmol/L                  39115\n",
       "segundos                34949\n",
       "fL                      31175\n",
       "pg                      29541\n",
       "milhões/mm3             29541\n",
       "ng/mL                   26291\n",
       "g/L                      7078\n",
       "mL/min/1,73 m2           4636\n",
       "ng/dL                    4515\n",
       "pg/mL                    4158\n",
       "microg/L                 3661\n",
       "microg/dL                2953\n",
       "UI/mL                    2031\n",
       "microU/mL                1951\n",
       "UA/mL                    1904\n",
       "U/mL                     1490\n",
       "UI/L                     1319\n",
       "ng/L                     1192\n",
       "mm                       1090\n",
       "mUI/L                    1002\n",
       "mU/L                      913\n",
       "micromol/L                846\n",
       "microgramas/mL            789\n",
       "mg/L                      588\n",
       "pmol/L                    485\n",
       "nmol/L                    397\n",
       "kU/L                      368\n",
       "mg/g creatinina            97\n",
       "U/MPL                      68\n",
       "U/GPL                      68\n",
       "mOsm/Kg                    47\n",
       "mg/24h                     44\n",
       "segundo                    30\n",
       "microg/24h                 28\n",
       "mcg/g de fezes             26\n",
       "microg/g creatinina        23\n",
       "Unidades                   22\n",
       "mEq/24h                    14\n",
       "cópias/mL                  14\n",
       "minutos                    10\n",
       "microgr/minuto              6\n",
       "U/APL                       4\n",
       "mg/g de fezes secas         2\n",
       "mIU/mL                      1\n",
       "UR/mL                       1\n",
       "Name: CD_UNIDADE, dtype: int64"
      ]
     },
     "execution_count": 28,
     "metadata": {},
     "output_type": "execute_result"
    }
   ],
   "source": [
    "#Existem alguns casos vazios para CD_Unidade\n",
    "hsl_.CD_UNIDADE.value_counts()"
   ]
  },
  {
   "cell_type": "code",
   "execution_count": 29,
   "metadata": {},
   "outputs": [],
   "source": [
    "#Existem algumas unidades vazias, portanto vamos aplicar NaN a elas e transformar em categoria\n",
    "hsl_.CD_UNIDADE = hsl_.CD_UNIDADE.replace({\"\":np.nan})\n",
    "hsl_.CD_UNIDADE = pd.Categorical(hsl_.CD_UNIDADE,categories=hsl_.CD_UNIDADE.value_counts().index)"
   ]
  },
  {
   "cell_type": "markdown",
   "metadata": {},
   "source": [
    "#### DE_VALOR_REFERENCIA"
   ]
  },
  {
   "cell_type": "code",
   "execution_count": 40,
   "metadata": {},
   "outputs": [
    {
     "data": {
      "text/plain": [
       "                             279462\n",
       "Superior a 60                 99776\n",
       "Ver resultado tradicional     38411\n",
       "1.700 a 7.000                 34000\n",
       "0,70 a 1,30                   32694\n",
       "                              ...  \n",
       "13,9 a 85,5                       1\n",
       "2161 a 5691                       1\n",
       "33 a 258                          1\n",
       "inferior a 1/1600                 1\n",
       "5000 a 12000                      1\n",
       "Name: DE_VALOR_REFERENCIA, Length: 670, dtype: int64"
      ]
     },
     "execution_count": 40,
     "metadata": {},
     "output_type": "execute_result"
    }
   ],
   "source": [
    "#Existem alguns valores vazios em valor de referencia\n",
    "hsl_.DE_VALOR_REFERENCIA.value_counts()"
   ]
  },
  {
   "cell_type": "code",
   "execution_count": 41,
   "metadata": {},
   "outputs": [],
   "source": [
    "# Vamos pegar esses valores em branco e transformá-los\n",
    "hsl_.DE_VALOR_REFERENCIA = hsl_.DE_VALOR_REFERENCIA.replace({\"\":np.nan})"
   ]
  },
  {
   "cell_type": "markdown",
   "metadata": {},
   "source": [
    "#### DT_ATENDIMENTO"
   ]
  },
  {
   "cell_type": "code",
   "execution_count": 46,
   "metadata": {},
   "outputs": [
    {
     "name": "stdout",
     "output_type": "stream",
     "text": [
      "Quantidade de registros que não puderam ser convertidos: 128224\n"
     ]
    }
   ],
   "source": [
    "hsl_.DT_ATENDIMENTO = pd.to_datetime(hsl_.DT_ATENDIMENTO,errors = 'coerce')\n",
    "print(\"Quantidade de registros que não puderam ser convertidos:\",hsl_.DT_ATENDIMENTO.isna().sum())"
   ]
  },
  {
   "cell_type": "code",
   "execution_count": 49,
   "metadata": {},
   "outputs": [
    {
     "data": {
      "text/plain": [
       "NaN    128224\n",
       "Name: dt_original, dtype: int64"
      ]
     },
     "execution_count": 49,
     "metadata": {},
     "output_type": "execute_result"
    }
   ],
   "source": [
    "#Alguns registros não puderam ser convertidos\n",
    "#Motivo: os valores já era registros faltantes antes da conversão\n",
    "pd.DataFrame({\"dt_convertida\": hsl_.DT_ATENDIMENTO , \"dt_original\": hsl.DT_ATENDIMENTO}).query(\"dt_convertida != dt_convertida\").dt_original.value_counts(dropna=False)"
   ]
  },
  {
   "cell_type": "markdown",
   "metadata": {},
   "source": [
    "#### DE_TIPO_ATENDIMENTO"
   ]
  },
  {
   "cell_type": "code",
   "execution_count": 62,
   "metadata": {},
   "outputs": [
    {
     "data": {
      "text/plain": [
       "Internado             955519\n",
       "Externo               187027\n",
       "Pronto Atendimento    147631\n",
       "NaN                   128224\n",
       "Ambulatorial           45433\n",
       "Name: DE_TIPO_ATENDIMENTO, dtype: int64"
      ]
     },
     "execution_count": 62,
     "metadata": {},
     "output_type": "execute_result"
    }
   ],
   "source": [
    "#São apenas 5 possíveis, então, vamos converter para dados categoricos\n",
    "hsl_.DE_TIPO_ATENDIMENTO.value_counts(dropna = False)"
   ]
  },
  {
   "cell_type": "code",
   "execution_count": 63,
   "metadata": {},
   "outputs": [],
   "source": [
    "hsl_.DE_TIPO_ATENDIMENTO = pd.Categorical(hsl_.DE_TIPO_ATENDIMENTO,categories=hsl_.DE_TIPO_ATENDIMENTO.value_counts().index)"
   ]
  },
  {
   "cell_type": "markdown",
   "metadata": {},
   "source": [
    "#### DE_CLINICA"
   ]
  },
  {
   "cell_type": "code",
   "execution_count": 67,
   "metadata": {},
   "outputs": [
    {
     "data": {
      "text/plain": [
       "Clínica Médica                924492\n",
       "Procedimentos                 172239\n",
       "NaN                           128224\n",
       "CL Médica Síndromes Virais     76404\n",
       "Cirurgia                       53320\n",
       "Oncologia                      22076\n",
       "Outros                         19991\n",
       "Ambulância                     17200\n",
       "Exames                         15529\n",
       "Hemodiálise                    10424\n",
       "Cuidando de Quem Cuida         10148\n",
       "Ortopedia                       4252\n",
       "Pediatria                       2948\n",
       "Geriatria                       1374\n",
       "Check-up                         954\n",
       "Medicina Trabalho                857\n",
       "Neurologia                       785\n",
       "Fast track                       680\n",
       "Cardiologia                      590\n",
       "Ambulatório                      413\n",
       "Consulta                         362\n",
       "Procedimentos Enfermagem         167\n",
       "Hospital Dia                     101\n",
       "Centro Reabilitação               67\n",
       "Centro de Infusão                 63\n",
       "Itaim - Clínica Médica            52\n",
       "Retorno Digital Adulto            47\n",
       "Peq. Cirurgias                    46\n",
       "Anatomia Patologica               29\n",
       "Name: DE_CLINICA, dtype: int64"
      ]
     },
     "execution_count": 67,
     "metadata": {},
     "output_type": "execute_result"
    }
   ],
   "source": [
    "hsl_.DE_CLINICA.value_counts(dropna=False)"
   ]
  },
  {
   "cell_type": "code",
   "execution_count": 68,
   "metadata": {},
   "outputs": [],
   "source": [
    "#Convertendo para dados numericos\n",
    "hsl_.DE_CLINICA = pd.Categorical(hsl_.DE_CLINICA,categories=hsl_.DE_TIPO_ATENDIMENTO.value_counts().index)"
   ]
  },
  {
   "cell_type": "markdown",
   "metadata": {},
   "source": [
    "#### IC_SEXO"
   ]
  },
  {
   "cell_type": "code",
   "execution_count": null,
   "metadata": {},
   "outputs": [],
   "source": []
  },
  {
   "cell_type": "markdown",
   "metadata": {},
   "source": [
    "#### AA_NASCIMENTO"
   ]
  },
  {
   "cell_type": "markdown",
   "metadata": {},
   "source": [
    "#### CD_PAIS"
   ]
  },
  {
   "cell_type": "markdown",
   "metadata": {},
   "source": [
    "#### CD_UF"
   ]
  },
  {
   "cell_type": "markdown",
   "metadata": {},
   "source": [
    "#### CD_MUNICIPIO"
   ]
  },
  {
   "cell_type": "markdown",
   "metadata": {},
   "source": [
    "#### CD_CEPREDUZIDO"
   ]
  },
  {
   "cell_type": "markdown",
   "metadata": {},
   "source": [
    "#### DE_RESULTADO"
   ]
  },
  {
   "cell_type": "markdown",
   "metadata": {},
   "source": [
    "De acordo com o dicionário de dados:\n",
    "\n",
    "<i>\"Se DE_ANALITO exige valor numérico, NNNN se inteiro ou NNNN,NNN se casas decimais\n",
    "Se DE_ANALITO exige qualitativo, String com domínio restrito \n",
    "Se DE_ANALITO por observação microscópica, String conteúdo livre \"</i>\n",
    "\n",
    "Portanto, vamos fazer essa divisão"
   ]
  },
  {
   "cell_type": "code",
   "execution_count": 30,
   "metadata": {},
   "outputs": [
    {
     "data": {
      "text/plain": [
       "superior a 60                                                                                                       39933\n",
       "superior a 90                                                                                                       23177\n",
       "normais                                                                                                             15655\n",
       "não foram observados caracteres tóxico-degenerativos nos neutrófilos, não foram observadas atipias linfocitárias    15628\n",
       "NEGATIVO                                                                                                            13140\n",
       "                                                                                                                    ...  \n",
       "424,7                                                                                                                   1\n",
       "49,87                                                                                                                   1\n",
       "1747                                                                                                                    1\n",
       "25,52                                                                                                                   1\n",
       "2332                                                                                                                    1\n",
       "Name: DE_RESULTADO, Length: 15520, dtype: int64"
      ]
     },
     "execution_count": 30,
     "metadata": {},
     "output_type": "execute_result"
    }
   ],
   "source": [
    "hsl_.DE_RESULTADO.value_counts()"
   ]
  },
  {
   "cell_type": "code",
   "execution_count": 31,
   "metadata": {},
   "outputs": [],
   "source": [
    "def func_filtro_numerico_DE_RESULTADO(x):\n",
    "    if((re.search(\"[0-9]+\",x.lower()) == None) & (re.search(\"[0-9]+,[0-9]+\",x.lower()) == None)):\n",
    "        return False\n",
    "    elif(re.search(\"[0-9]+,[0-9]+\",x.lower()) != None):\n",
    "        if(re.search(\"[0-9]+,[0-9]+\",x.lower()).span()[1] - re.search(\"[0-9]+,[0-9]+\",x.lower()).span()[0] == len(x)):\n",
    "            return True\n",
    "        else:\n",
    "            return False\n",
    "    else:\n",
    "        if(re.search(\"[0-9]+\",x.lower()).span()[1] - re.search(\"[0-9]+\",x.lower()).span()[0] == len(x)):\n",
    "            return True\n",
    "        else:\n",
    "            return False"
   ]
  },
  {
   "cell_type": "code",
   "execution_count": 34,
   "metadata": {},
   "outputs": [],
   "source": [
    "filtro_numerico_DE_RESULTADO = hsl_.DE_RESULTADO.apply(func_filtro_numerico_DE_RESULTADO)"
   ]
  },
  {
   "cell_type": "code",
   "execution_count": 35,
   "metadata": {},
   "outputs": [],
   "source": [
    "hsl_[\"DE_RESULTADO_NUMERICO\"] = pd.to_numeric(hsl_.DE_RESULTADO[filtro_numerico_DE_RESULTADO].str.replace(\",\",\".\"),errors=\"coerce\")\n",
    "hsl_[\"DE_RESULTADO_NAO_NUMERICO\"] = hsl_.DE_RESULTADO[~filtro_numerico_DE_RESULTADO]"
   ]
  },
  {
   "cell_type": "markdown",
   "metadata": {},
   "source": [
    "#### DE_ANALITO"
   ]
  },
  {
   "cell_type": "code",
   "execution_count": 27,
   "metadata": {},
   "outputs": [
    {
     "data": {
      "text/plain": [
       "Creatinina                                         51321\n",
       "Hemoglobina                                        31921\n",
       "Hematócrito                                        30120\n",
       "Plaquetas                                          29899\n",
       "Leucócitos                                         29543\n",
       "                                                   ...  \n",
       "Cultura para Bacilo gram - Parcial                     1\n",
       "Rast - F232 - nGal d 2 Ovoalbumina                     1\n",
       "Bk (Baar), Cultura (Lavado Bronquico) - Parcial        1\n",
       "Receptor de Fosfolipase A2 (PLA-2R)                    1\n",
       "Normetanefrina, urina                                  1\n",
       "Name: DE_ANALITO, Length: 954, dtype: int64"
      ]
     },
     "execution_count": 27,
     "metadata": {},
     "output_type": "execute_result"
    }
   ],
   "source": [
    "hsl_.DE_ANALITO.value_counts()"
   ]
  },
  {
   "cell_type": "markdown",
   "metadata": {},
   "source": [
    "#### DE_EXAME"
   ]
  },
  {
   "cell_type": "code",
   "execution_count": 25,
   "metadata": {},
   "outputs": [
    {
     "data": {
      "text/plain": [
       "Hemograma                                                     644292\n",
       "Calculo da Estimativa da Taxa, de Filtracao Glomular, soro    124720\n",
       "Gasometria Venosa                                              68844\n",
       "Gasometria Arterial                                            56946\n",
       "Urina Tipo I - Jato Medio                                      44139\n",
       "                                                               ...  \n",
       "Fator de crescimento do endotélio vascular (VEGF), plasma          1\n",
       "Cevada, Soro                                                       1\n",
       "Beta Caroteno (Pro Vit. A)                                         1\n",
       "Insulina, Livre, Soro                                              1\n",
       "Prova do Laco                                                      1\n",
       "Name: DE_EXAME, Length: 665, dtype: int64"
      ]
     },
     "execution_count": 25,
     "metadata": {},
     "output_type": "execute_result"
    }
   ],
   "source": [
    "hsl_.DE_EXAME.value_counts()"
   ]
  }
 ],
 "metadata": {
  "kernelspec": {
   "display_name": "Python 3",
   "language": "python",
   "name": "python3"
  },
  "language_info": {
   "codemirror_mode": {
    "name": "ipython",
    "version": 3
   },
   "file_extension": ".py",
   "mimetype": "text/x-python",
   "name": "python",
   "nbconvert_exporter": "python",
   "pygments_lexer": "ipython3",
   "version": "3.7.4"
  },
  "toc-autonumbering": true
 },
 "nbformat": 4,
 "nbformat_minor": 4
}
