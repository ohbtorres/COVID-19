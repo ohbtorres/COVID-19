{
 "cells": [
  {
   "cell_type": "markdown",
   "metadata": {},
   "source": [
    "<p style=\"font-size:5emPasta de arquivos, com dados anonimizados de pacientes que fizeram teste para COVID-19 a partir de 1/11/2019\"> ANÁLISE DA COVID-19 </p>"
   ]
  },
  {
   "cell_type": "markdown",
   "metadata": {},
   "source": [
    "# Importando bibliotecas"
   ]
  },
  {
   "cell_type": "code",
   "execution_count": 38,
   "metadata": {},
   "outputs": [
    {
     "name": "stdout",
     "output_type": "stream",
     "text": [
      "plotnine  : 0.7.1\n",
      "matplotlib: 3.3.3\n",
      "seaborn   : 0.11.1\n",
      "pandas    : 1.2.2\n",
      "numpy     : 1.20.1\n",
      "\n"
     ]
    }
   ],
   "source": [
    "# biblotecas para manipulação de dados\n",
    "import pandas as pd\n",
    "import numpy as np\n",
    "\n",
    "#bibliotecas para visualização de dados\n",
    "import matplotlib.pyplot as plt\n",
    "import seaborn as sns\n",
    "import plotnine as gg\n",
    "\n",
    "#Inserir imagens\n",
    "from IPython.display import Image\n",
    "\n",
    "#Bibliotecas auxiliares\n",
    "import os\n",
    "from functools import reduce\n",
    "\n",
    "%reload_ext watermark\n",
    "%watermark --iversions"
   ]
  },
  {
   "cell_type": "markdown",
   "metadata": {},
   "source": [
    "# Importando arquivos"
   ]
  },
  {
   "cell_type": "code",
   "execution_count": 10,
   "metadata": {},
   "outputs": [],
   "source": [
    "#Definindo path dos arquivos\n",
    "path_data = \"../data/external/\""
   ]
  },
  {
   "cell_type": "markdown",
   "metadata": {},
   "source": [
    "## Dados da FAPESP\n",
    "<b> Descrição </b>: Pasta de arquivos, com dados anonimizados de pacientes que fizeram teste para COVID-19 a partir de 1/11/2019 e respectivos resultados de exames laboratoriais, contendo dentre outros o identificador anonimizado do paciente  <br>\n",
    "fonte: https://repositoriodatasharingfapesp.uspdigital.usp.br/"
   ]
  },
  {
   "cell_type": "markdown",
   "metadata": {},
   "source": [
    "### Dicionario de dados"
   ]
  },
  {
   "cell_type": "markdown",
   "metadata": {},
   "source": [
    "<b>EXAMES</b>"
   ]
  },
  {
   "cell_type": "markdown",
   "metadata": {},
   "source": [
    "<img src=\"../images/FAPESP_Exames.png\" width=1000 />"
   ]
  },
  {
   "cell_type": "markdown",
   "metadata": {},
   "source": [
    "<b>PACIENTES</b>"
   ]
  },
  {
   "cell_type": "markdown",
   "metadata": {},
   "source": [
    "<img src=\"../images/FAPESP_Pacientes.png\" width=800 />"
   ]
  },
  {
   "cell_type": "markdown",
   "metadata": {},
   "source": [
    "### Hospital Albert Einstein"
   ]
  },
  {
   "cell_type": "code",
   "execution_count": 9,
   "metadata": {},
   "outputs": [],
   "source": [
    "einstein_exames = pd.read_csv(path_data + \"FAPESP/EINSTEIN_Exames_2.csv\",sep=\"|\")\n",
    "einstein_pacientes = pd.read_csv(path_data + \"FAPESP/EINSTEIN_Pacientes_2.csv\",sep=\"|\")"
   ]
  },
  {
   "cell_type": "markdown",
   "metadata": {},
   "source": [
    "### Grupo Fleury"
   ]
  },
  {
   "cell_type": "code",
   "execution_count": 12,
   "metadata": {},
   "outputs": [],
   "source": [
    "fleury_exames = pd.read_csv(path_data + \"FAPESP/GrupoFleury_Exames_3.csv\",sep=\"|\")\n",
    "fleury_pacientes = pd.read_csv(path_data + \"FAPESP/GrupoFleury_Pacientes_3.csv\",sep=\"|\")"
   ]
  },
  {
   "cell_type": "markdown",
   "metadata": {},
   "source": [
    "### Hospital Sírio Libanes"
   ]
  },
  {
   "cell_type": "code",
   "execution_count": 16,
   "metadata": {},
   "outputs": [],
   "source": [
    "sl_exames = pd.read_csv(path_data + \"FAPESP/HSL_Exames_3.csv\",sep=\"|\")\n",
    "sl_pacientes = pd.read_csv(path_data + \"FAPESP/HSL_Pacientes_3.csv\",sep=\"|\")\n",
    "sl_desfecho = pd.read_csv(path_data + \"FAPESP/HSL_Desfechos_3.csv\",sep=\"|\")"
   ]
  },
  {
   "cell_type": "markdown",
   "metadata": {},
   "source": [
    "### Hospital das Clinicas da Faculdade de Medicina da Universidade de Sao Paulo "
   ]
  },
  {
   "cell_type": "code",
   "execution_count": 18,
   "metadata": {},
   "outputs": [],
   "source": [
    "hc_exames = pd.read_csv(path_data + \"FAPESP/HC_EXAMES_1.csv\",sep=\"|\")\n",
    "hc_pacientes = pd.read_csv(path_data + \"FAPESP/HC_PACIENTES_1.csv\",sep=\"|\")"
   ]
  },
  {
   "cell_type": "markdown",
   "metadata": {},
   "source": [
    "### Beneficência Portuguesa de São Paulo"
   ]
  },
  {
   "cell_type": "code",
   "execution_count": 35,
   "metadata": {},
   "outputs": [],
   "source": [
    "bpsp_exames = pd.read_csv(path_data + \"FAPESP/bpsp_exames_01.csv\",sep=\"|\")\n",
    "bpsp_pacientes = pd.read_csv(path_data + \"FAPESP/bpsp_pacientes_01.csv\",sep=\"|\")\n",
    "bpsp_desfecho = pd.read_csv(path_data + \"FAPESP/bpsp_desfecho_01.csv\",sep=\"|\")"
   ]
  },
  {
   "cell_type": "markdown",
   "metadata": {},
   "source": [
    "## Portal da Transparência"
   ]
  },
  {
   "cell_type": "markdown",
   "metadata": {},
   "source": [
    "<b>Descrição</b>: A atualização permanente do número de registros de óbitos em meio a pandemia da Covid-19 é uma iniciativa dos Cartórios de Registro Civil do Brasil <br>\n",
    "fonte: https://transparencia.registrocivil.org.br/especial-covid"
   ]
  },
  {
   "cell_type": "code",
   "execution_count": 57,
   "metadata": {},
   "outputs": [],
   "source": [
    "obitos = reduce(lambda x,y: pd.concat((x,y),axis = 0),\n",
    "                [pd.read_csv(path_data + \"Portal_Transparencia/\" + file) for file in os.listdir(path_data + \"Portal_Transparencia\")])"
   ]
  }
 ],
 "metadata": {
  "kernelspec": {
   "display_name": "Python 3",
   "language": "python",
   "name": "python3"
  },
  "language_info": {
   "codemirror_mode": {
    "name": "ipython",
    "version": 3
   },
   "file_extension": ".py",
   "mimetype": "text/x-python",
   "name": "python",
   "nbconvert_exporter": "python",
   "pygments_lexer": "ipython3",
   "version": "3.7.4"
  },
  "toc-autonumbering": true
 },
 "nbformat": 4,
 "nbformat_minor": 4
}
