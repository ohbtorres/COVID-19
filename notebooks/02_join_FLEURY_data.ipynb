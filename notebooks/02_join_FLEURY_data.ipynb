{
 "cells": [
  {
   "cell_type": "markdown",
   "metadata": {},
   "source": [
    "# Importando bibliotecas"
   ]
  },
  {
   "cell_type": "code",
   "execution_count": 36,
   "metadata": {},
   "outputs": [
    {
     "name": "stdout",
     "output_type": "stream",
     "text": [
      "tqdm     : 4.60.0\n",
      "datatable: 0.11.1\n",
      "pandas   : 1.2.2\n",
      "re       : 2.2.1\n",
      "sys      : 3.7.4 (default, Aug  9 2019, 18:34:13) [MSC v.1915 64 bit (AMD64)]\n",
      "numpy    : 1.20.1\n",
      "\n"
     ]
    }
   ],
   "source": [
    "# biblotecas para manipulação de dados\n",
    "import pandas as pd\n",
    "import datatable as dt\n",
    "import numpy as np\n",
    "\n",
    "#Bibliotecas auxiliares\n",
    "import os\n",
    "from functools import reduce\n",
    "import re\n",
    "import pickle\n",
    "import gc\n",
    "import tqdm\n",
    "\n",
    "#Biblioteca propria\n",
    "import sys\n",
    "sys.path.append(\"../src/\")\n",
    "from eda.eda import describe\n",
    "from io_pyarrow.io_pyarrow import pyarrow_read_csv,write_table_from_pandas, read_table_to_pandas #leitura e escrita de arquivos csv grandes\n",
    "\n",
    "%reload_ext watermark\n",
    "%watermark --iversions"
   ]
  },
  {
   "cell_type": "markdown",
   "metadata": {},
   "source": [
    "___"
   ]
  },
  {
   "cell_type": "markdown",
   "metadata": {},
   "source": [
    "# Importando arquivo"
   ]
  },
  {
   "cell_type": "code",
   "execution_count": 2,
   "metadata": {},
   "outputs": [],
   "source": [
    "#Definindo path dos arquivos\n",
    "path_data = \"../data/raw/\""
   ]
  },
  {
   "cell_type": "markdown",
   "metadata": {},
   "source": [
    "## Dados da FAPESP\n",
    "<b> Descrição </b>: Pasta de arquivos, com dados anonimizados de pacientes que fizeram teste para COVID-19 a partir de 1/11/2019 e respectivos resultados de exames laboratoriais, contendo dentre outros o identificador anonimizado do paciente  <br>\n",
    "fonte: https://repositoriodatasharingfapesp.uspdigital.usp.br/"
   ]
  },
  {
   "cell_type": "markdown",
   "metadata": {},
   "source": [
    "### Grupo Fleury"
   ]
  },
  {
   "cell_type": "code",
   "execution_count": 3,
   "metadata": {},
   "outputs": [
    {
     "name": "stdout",
     "output_type": "stream",
     "text": [
      "Wall time: 1min\n"
     ]
    }
   ],
   "source": [
    "%%time\n",
    "fleury_exames = pyarrow_read_csv(path_data + \"FAPESP/GrupoFleury_Exames_3.csv\",sep=\"|\")\n",
    "fleury_pacientes = pyarrow_read_csv(path_data + \"FAPESP/GrupoFleury_Pacientes_3.csv\",sep=\"|\")"
   ]
  },
  {
   "cell_type": "markdown",
   "metadata": {},
   "source": [
    "___"
   ]
  },
  {
   "cell_type": "markdown",
   "metadata": {},
   "source": [
    "# Analisando a bases de dados"
   ]
  },
  {
   "cell_type": "markdown",
   "metadata": {},
   "source": [
    "### Ajustando dados do Fleury"
   ]
  },
  {
   "cell_type": "code",
   "execution_count": 4,
   "metadata": {},
   "outputs": [
    {
     "name": "stdout",
     "output_type": "stream",
     "text": [
      "Quantidade de linhas: 19274381\n"
     ]
    },
    {
     "data": {
      "text/html": [
       "<div>\n",
       "<style scoped>\n",
       "    .dataframe tbody tr th:only-of-type {\n",
       "        vertical-align: middle;\n",
       "    }\n",
       "\n",
       "    .dataframe tbody tr th {\n",
       "        vertical-align: top;\n",
       "    }\n",
       "\n",
       "    .dataframe thead th {\n",
       "        text-align: right;\n",
       "    }\n",
       "</style>\n",
       "<table border=\"1\" class=\"dataframe\">\n",
       "  <thead>\n",
       "    <tr style=\"text-align: right;\">\n",
       "      <th></th>\n",
       "      <th>variable</th>\n",
       "      <th>type</th>\n",
       "      <th>na</th>\n",
       "      <th>na_pct</th>\n",
       "      <th>unique</th>\n",
       "      <th>min</th>\n",
       "      <th>quat25</th>\n",
       "      <th>median</th>\n",
       "      <th>mean</th>\n",
       "      <th>quat75</th>\n",
       "      <th>max</th>\n",
       "      <th>std</th>\n",
       "      <th>skewness</th>\n",
       "      <th>kurtosis</th>\n",
       "      <th>media_desvio</th>\n",
       "    </tr>\n",
       "  </thead>\n",
       "  <tbody>\n",
       "    <tr>\n",
       "      <th>0</th>\n",
       "      <td>ID_PACIENTE</td>\n",
       "      <td>object</td>\n",
       "      <td>0</td>\n",
       "      <td>0.0%</td>\n",
       "      <td>470969</td>\n",
       "      <td>-</td>\n",
       "      <td>-</td>\n",
       "      <td>-</td>\n",
       "      <td>-</td>\n",
       "      <td>-</td>\n",
       "      <td>-</td>\n",
       "      <td>-</td>\n",
       "      <td>-</td>\n",
       "      <td>-</td>\n",
       "      <td>-</td>\n",
       "    </tr>\n",
       "    <tr>\n",
       "      <th>1</th>\n",
       "      <td>ID_ATENDIMENTO</td>\n",
       "      <td>object</td>\n",
       "      <td>0</td>\n",
       "      <td>0.0%</td>\n",
       "      <td>952463</td>\n",
       "      <td>-</td>\n",
       "      <td>-</td>\n",
       "      <td>-</td>\n",
       "      <td>-</td>\n",
       "      <td>-</td>\n",
       "      <td>-</td>\n",
       "      <td>-</td>\n",
       "      <td>-</td>\n",
       "      <td>-</td>\n",
       "      <td>-</td>\n",
       "    </tr>\n",
       "    <tr>\n",
       "      <th>2</th>\n",
       "      <td>DT_COLETA</td>\n",
       "      <td>object</td>\n",
       "      <td>0</td>\n",
       "      <td>0.0%</td>\n",
       "      <td>411</td>\n",
       "      <td>-</td>\n",
       "      <td>-</td>\n",
       "      <td>-</td>\n",
       "      <td>-</td>\n",
       "      <td>-</td>\n",
       "      <td>-</td>\n",
       "      <td>-</td>\n",
       "      <td>-</td>\n",
       "      <td>-</td>\n",
       "      <td>-</td>\n",
       "    </tr>\n",
       "    <tr>\n",
       "      <th>3</th>\n",
       "      <td>DE_ORIGEM</td>\n",
       "      <td>object</td>\n",
       "      <td>0</td>\n",
       "      <td>0.0%</td>\n",
       "      <td>1</td>\n",
       "      <td>-</td>\n",
       "      <td>-</td>\n",
       "      <td>-</td>\n",
       "      <td>-</td>\n",
       "      <td>-</td>\n",
       "      <td>-</td>\n",
       "      <td>-</td>\n",
       "      <td>-</td>\n",
       "      <td>-</td>\n",
       "      <td>-</td>\n",
       "    </tr>\n",
       "    <tr>\n",
       "      <th>4</th>\n",
       "      <td>DE_EXAME</td>\n",
       "      <td>object</td>\n",
       "      <td>0</td>\n",
       "      <td>0.0%</td>\n",
       "      <td>830</td>\n",
       "      <td>-</td>\n",
       "      <td>-</td>\n",
       "      <td>-</td>\n",
       "      <td>-</td>\n",
       "      <td>-</td>\n",
       "      <td>-</td>\n",
       "      <td>-</td>\n",
       "      <td>-</td>\n",
       "      <td>-</td>\n",
       "      <td>-</td>\n",
       "    </tr>\n",
       "    <tr>\n",
       "      <th>5</th>\n",
       "      <td>DE_ANALITO</td>\n",
       "      <td>object</td>\n",
       "      <td>0</td>\n",
       "      <td>0.0%</td>\n",
       "      <td>1158</td>\n",
       "      <td>-</td>\n",
       "      <td>-</td>\n",
       "      <td>-</td>\n",
       "      <td>-</td>\n",
       "      <td>-</td>\n",
       "      <td>-</td>\n",
       "      <td>-</td>\n",
       "      <td>-</td>\n",
       "      <td>-</td>\n",
       "      <td>-</td>\n",
       "    </tr>\n",
       "    <tr>\n",
       "      <th>6</th>\n",
       "      <td>DE_RESULTADO</td>\n",
       "      <td>object</td>\n",
       "      <td>0</td>\n",
       "      <td>0.0%</td>\n",
       "      <td>32613</td>\n",
       "      <td>-</td>\n",
       "      <td>-</td>\n",
       "      <td>-</td>\n",
       "      <td>-</td>\n",
       "      <td>-</td>\n",
       "      <td>-</td>\n",
       "      <td>-</td>\n",
       "      <td>-</td>\n",
       "      <td>-</td>\n",
       "      <td>-</td>\n",
       "    </tr>\n",
       "    <tr>\n",
       "      <th>7</th>\n",
       "      <td>CD_UNIDADE</td>\n",
       "      <td>object</td>\n",
       "      <td>0</td>\n",
       "      <td>0.0%</td>\n",
       "      <td>57</td>\n",
       "      <td>-</td>\n",
       "      <td>-</td>\n",
       "      <td>-</td>\n",
       "      <td>-</td>\n",
       "      <td>-</td>\n",
       "      <td>-</td>\n",
       "      <td>-</td>\n",
       "      <td>-</td>\n",
       "      <td>-</td>\n",
       "      <td>-</td>\n",
       "    </tr>\n",
       "    <tr>\n",
       "      <th>8</th>\n",
       "      <td>DE_VALOR_REFERENCIA</td>\n",
       "      <td>object</td>\n",
       "      <td>0</td>\n",
       "      <td>0.0%</td>\n",
       "      <td>1102</td>\n",
       "      <td>-</td>\n",
       "      <td>-</td>\n",
       "      <td>-</td>\n",
       "      <td>-</td>\n",
       "      <td>-</td>\n",
       "      <td>-</td>\n",
       "      <td>-</td>\n",
       "      <td>-</td>\n",
       "      <td>-</td>\n",
       "      <td>-</td>\n",
       "    </tr>\n",
       "    <tr>\n",
       "      <th>9</th>\n",
       "      <td>IC_SEXO</td>\n",
       "      <td>object</td>\n",
       "      <td>94</td>\n",
       "      <td>0.0%</td>\n",
       "      <td>3</td>\n",
       "      <td>-</td>\n",
       "      <td>-</td>\n",
       "      <td>-</td>\n",
       "      <td>-</td>\n",
       "      <td>-</td>\n",
       "      <td>-</td>\n",
       "      <td>-</td>\n",
       "      <td>-</td>\n",
       "      <td>-</td>\n",
       "      <td>-</td>\n",
       "    </tr>\n",
       "    <tr>\n",
       "      <th>10</th>\n",
       "      <td>AA_NASCIMENTO</td>\n",
       "      <td>object</td>\n",
       "      <td>94</td>\n",
       "      <td>0.0%</td>\n",
       "      <td>92</td>\n",
       "      <td>-</td>\n",
       "      <td>-</td>\n",
       "      <td>-</td>\n",
       "      <td>-</td>\n",
       "      <td>-</td>\n",
       "      <td>-</td>\n",
       "      <td>-</td>\n",
       "      <td>-</td>\n",
       "      <td>-</td>\n",
       "      <td>-</td>\n",
       "    </tr>\n",
       "    <tr>\n",
       "      <th>11</th>\n",
       "      <td>CD_PAIS</td>\n",
       "      <td>object</td>\n",
       "      <td>94</td>\n",
       "      <td>0.0%</td>\n",
       "      <td>2</td>\n",
       "      <td>-</td>\n",
       "      <td>-</td>\n",
       "      <td>-</td>\n",
       "      <td>-</td>\n",
       "      <td>-</td>\n",
       "      <td>-</td>\n",
       "      <td>-</td>\n",
       "      <td>-</td>\n",
       "      <td>-</td>\n",
       "      <td>-</td>\n",
       "    </tr>\n",
       "    <tr>\n",
       "      <th>12</th>\n",
       "      <td>CD_UF</td>\n",
       "      <td>object</td>\n",
       "      <td>94</td>\n",
       "      <td>0.0%</td>\n",
       "      <td>22</td>\n",
       "      <td>-</td>\n",
       "      <td>-</td>\n",
       "      <td>-</td>\n",
       "      <td>-</td>\n",
       "      <td>-</td>\n",
       "      <td>-</td>\n",
       "      <td>-</td>\n",
       "      <td>-</td>\n",
       "      <td>-</td>\n",
       "      <td>-</td>\n",
       "    </tr>\n",
       "    <tr>\n",
       "      <th>13</th>\n",
       "      <td>CD_MUNICIPIO</td>\n",
       "      <td>object</td>\n",
       "      <td>94</td>\n",
       "      <td>0.0%</td>\n",
       "      <td>135</td>\n",
       "      <td>-</td>\n",
       "      <td>-</td>\n",
       "      <td>-</td>\n",
       "      <td>-</td>\n",
       "      <td>-</td>\n",
       "      <td>-</td>\n",
       "      <td>-</td>\n",
       "      <td>-</td>\n",
       "      <td>-</td>\n",
       "      <td>-</td>\n",
       "    </tr>\n",
       "    <tr>\n",
       "      <th>14</th>\n",
       "      <td>CD_CEPREDUZIDO</td>\n",
       "      <td>object</td>\n",
       "      <td>94</td>\n",
       "      <td>0.0%</td>\n",
       "      <td>1151</td>\n",
       "      <td>-</td>\n",
       "      <td>-</td>\n",
       "      <td>-</td>\n",
       "      <td>-</td>\n",
       "      <td>-</td>\n",
       "      <td>-</td>\n",
       "      <td>-</td>\n",
       "      <td>-</td>\n",
       "      <td>-</td>\n",
       "      <td>-</td>\n",
       "    </tr>\n",
       "  </tbody>\n",
       "</table>\n",
       "</div>"
      ],
      "text/plain": [
       "               variable    type  na na_pct  unique min quat25 median mean  \\\n",
       "0           ID_PACIENTE  object   0   0.0%  470969   -      -      -    -   \n",
       "1        ID_ATENDIMENTO  object   0   0.0%  952463   -      -      -    -   \n",
       "2             DT_COLETA  object   0   0.0%     411   -      -      -    -   \n",
       "3             DE_ORIGEM  object   0   0.0%       1   -      -      -    -   \n",
       "4              DE_EXAME  object   0   0.0%     830   -      -      -    -   \n",
       "5            DE_ANALITO  object   0   0.0%    1158   -      -      -    -   \n",
       "6          DE_RESULTADO  object   0   0.0%   32613   -      -      -    -   \n",
       "7            CD_UNIDADE  object   0   0.0%      57   -      -      -    -   \n",
       "8   DE_VALOR_REFERENCIA  object   0   0.0%    1102   -      -      -    -   \n",
       "9               IC_SEXO  object  94   0.0%       3   -      -      -    -   \n",
       "10        AA_NASCIMENTO  object  94   0.0%      92   -      -      -    -   \n",
       "11              CD_PAIS  object  94   0.0%       2   -      -      -    -   \n",
       "12                CD_UF  object  94   0.0%      22   -      -      -    -   \n",
       "13         CD_MUNICIPIO  object  94   0.0%     135   -      -      -    -   \n",
       "14       CD_CEPREDUZIDO  object  94   0.0%    1151   -      -      -    -   \n",
       "\n",
       "   quat75 max std skewness kurtosis media_desvio  \n",
       "0       -   -   -        -        -            -  \n",
       "1       -   -   -        -        -            -  \n",
       "2       -   -   -        -        -            -  \n",
       "3       -   -   -        -        -            -  \n",
       "4       -   -   -        -        -            -  \n",
       "5       -   -   -        -        -            -  \n",
       "6       -   -   -        -        -            -  \n",
       "7       -   -   -        -        -            -  \n",
       "8       -   -   -        -        -            -  \n",
       "9       -   -   -        -        -            -  \n",
       "10      -   -   -        -        -            -  \n",
       "11      -   -   -        -        -            -  \n",
       "12      -   -   -        -        -            -  \n",
       "13      -   -   -        -        -            -  \n",
       "14      -   -   -        -        -            -  "
      ]
     },
     "execution_count": 4,
     "metadata": {},
     "output_type": "execute_result"
    }
   ],
   "source": [
    "fleury = fleury_exames.merge(fleury_pacientes,\n",
    "                             on = \"ID_PACIENTE\",\n",
    "                             how = 'left')\n",
    "del(fleury_exames)\n",
    "del(fleury_pacientes)\n",
    "describe(fleury)"
   ]
  },
  {
   "cell_type": "code",
   "execution_count": 5,
   "metadata": {},
   "outputs": [],
   "source": [
    "#salvando o arquivo, pois é um dataframe muito grande\n",
    "write_table_from_pandas(fleury,\"../data/interim/raw_fleury.parquet\")"
   ]
  },
  {
   "cell_type": "code",
   "execution_count": 3,
   "metadata": {},
   "outputs": [
    {
     "name": "stdout",
     "output_type": "stream",
     "text": [
      "Wall time: 17.7 s\n"
     ]
    }
   ],
   "source": [
    "%%time\n",
    "fleury = read_table_to_pandas(\"../data/interim/raw_fleury.parquet\")"
   ]
  },
  {
   "cell_type": "code",
   "execution_count": 4,
   "metadata": {},
   "outputs": [],
   "source": [
    "fleury_ = fleury.copy()"
   ]
  },
  {
   "cell_type": "markdown",
   "metadata": {},
   "source": [
    "#### DT_COLETA"
   ]
  },
  {
   "cell_type": "code",
   "execution_count": 5,
   "metadata": {},
   "outputs": [],
   "source": [
    "#DT_COLETA é um dado no formato de data que deve ser convertido\n",
    "fleury_.DT_COLETA = pd.to_datetime(fleury.DT_COLETA,errors='coerce')"
   ]
  },
  {
   "cell_type": "code",
   "execution_count": 6,
   "metadata": {},
   "outputs": [
    {
     "data": {
      "text/plain": [
       "0"
      ]
     },
     "execution_count": 6,
     "metadata": {},
     "output_type": "execute_result"
    }
   ],
   "source": [
    "fleury_.DT_COLETA.isna().sum()"
   ]
  },
  {
   "cell_type": "markdown",
   "metadata": {},
   "source": [
    "#### DE_ORIGEM"
   ]
  },
  {
   "cell_type": "code",
   "execution_count": 7,
   "metadata": {},
   "outputs": [],
   "source": [
    "#Possui apenas um valor, portanto não há necessidade de manter essa informação\n",
    "fleury_ = fleury_.drop(columns = \"DE_ORIGEM\")"
   ]
  },
  {
   "cell_type": "markdown",
   "metadata": {},
   "source": [
    "#### CD_UNIDADE"
   ]
  },
  {
   "cell_type": "code",
   "execution_count": 8,
   "metadata": {},
   "outputs": [
    {
     "data": {
      "text/plain": [
       "                       4913738\n",
       "mg/dL                  2990870\n",
       "%                      2250992\n",
       "/mm3                   2012392\n",
       "g/dL                    902600\n",
       "U/L                     850142\n",
       "UA/mL                   745771\n",
       "fL                      553192\n",
       "ng/dL                   502019\n",
       "ng/mL                   353048\n",
       "pg                      281537\n",
       "milhões/mm3             281537\n",
       "g/L                     267367\n",
       "mEq/L                   265482\n",
       "microg/dL               255886\n",
       "microg/L                246419\n",
       "mUI/L                   213458\n",
       "segundos                205510\n",
       "UI/L                    157782\n",
       "U/mL                    145587\n",
       "mU/L                    139788\n",
       "ng/L                    113787\n",
       "UI/mL                    87461\n",
       "mmol/L                   75567\n",
       "pg/mL                    66243\n",
       "pmol/L                   61493\n",
       "mm                       58754\n",
       "micromol/L               55623\n",
       "kU/L                     53591\n",
       "nmol/L                   44004\n",
       "por campo                36506\n",
       "microgramas/mL           30811\n",
       "mg/L                     19467\n",
       "mg/24h                    5304\n",
       "U/GPL                     4839\n",
       "U/MPL                     4774\n",
       "microg/g creatinina       3243\n",
       "Unidades                  2948\n",
       "mg/g creatinina           2672\n",
       "microg/24h                1915\n",
       "mL/minuto                 1300\n",
       "mmHg                      1114\n",
       "mcg/g de fezes            1106\n",
       "cópias/mL                 1104\n",
       "minutos                   1100\n",
       "mL/min/1,73 m2            1096\n",
       "mEq/24h                    824\n",
       "microgr/minuto             637\n",
       "U/APL                      581\n",
       "mg/g de fezes secas        557\n",
       "segundo                    351\n",
       "mOsm/Kg                    304\n",
       "g/g creatinina             124\n",
       "UR/mL                       27\n",
       "microU/mL                   21\n",
       "minuto                       9\n",
       "mIU/mL                       7\n",
       "Name: CD_UNIDADE, dtype: int64"
      ]
     },
     "execution_count": 8,
     "metadata": {},
     "output_type": "execute_result"
    }
   ],
   "source": [
    "#Existem alguns casos vazios para CD_Unidade\n",
    "fleury_.CD_UNIDADE.value_counts()"
   ]
  },
  {
   "cell_type": "code",
   "execution_count": 9,
   "metadata": {},
   "outputs": [],
   "source": [
    "#Existem algumas unidades vazias, portanto vamos aplicar NaN a elas e transformar em categoria\n",
    "fleury_.CD_UNIDADE = fleury_.CD_UNIDADE.replace({\"\":np.nan})\n",
    "fleury_.CD_UNIDADE = pd.Categorical(fleury_.CD_UNIDADE,categories=fleury_.CD_UNIDADE.value_counts().index)"
   ]
  },
  {
   "cell_type": "markdown",
   "metadata": {},
   "source": [
    "#### DE_VALOR_REFERENCIA"
   ]
  },
  {
   "cell_type": "code",
   "execution_count": 10,
   "metadata": {},
   "outputs": [
    {
     "data": {
      "text/plain": [
       "                     4699971\n",
       "Não reagente         1173352\n",
       "inferior a 0,8        717949\n",
       "150.000 a 450.000     280420\n",
       "1.700 a 7.000         278126\n",
       "                      ...   \n",
       "155 a 275                  1\n",
       "29 a 161                   1\n",
       "5 a 34                     1\n",
       "100 a 810                  1\n",
       "Até 0,8                    1\n",
       "Name: DE_VALOR_REFERENCIA, Length: 1102, dtype: int64"
      ]
     },
     "execution_count": 10,
     "metadata": {},
     "output_type": "execute_result"
    }
   ],
   "source": [
    "#Existem alguns valores vazios em valor de referencia\n",
    "fleury_.DE_VALOR_REFERENCIA.value_counts()"
   ]
  },
  {
   "cell_type": "code",
   "execution_count": 11,
   "metadata": {},
   "outputs": [],
   "source": [
    "# Vamos pegar esses valores em branco e transformá-los\n",
    "fleury_.DE_VALOR_REFERENCIA = fleury_.DE_VALOR_REFERENCIA.replace({\"\":np.nan})"
   ]
  },
  {
   "cell_type": "markdown",
   "metadata": {},
   "source": [
    "#### IC_SEXO"
   ]
  },
  {
   "cell_type": "code",
   "execution_count": 12,
   "metadata": {},
   "outputs": [
    {
     "data": {
      "text/plain": [
       "F      12004191\n",
       "M       7270096\n",
       "NaN          94\n",
       "Name: IC_SEXO, dtype: int64"
      ]
     },
     "execution_count": 12,
     "metadata": {},
     "output_type": "execute_result"
    }
   ],
   "source": [
    "#Existem alguns casos vazios, que foram provenientes da tabela de pacientes, mas são poucos os casos\n",
    "fleury_.IC_SEXO.value_counts(dropna=False)"
   ]
  },
  {
   "cell_type": "code",
   "execution_count": 13,
   "metadata": {},
   "outputs": [],
   "source": [
    "# Convertendo para dados categoricos\n",
    "fleury_.IC_SEXO = pd.Categorical(fleury_.IC_SEXO,categories=[\"F\",\"M\"])"
   ]
  },
  {
   "cell_type": "markdown",
   "metadata": {},
   "source": [
    "#### AA_NASCIMENTO"
   ]
  },
  {
   "cell_type": "code",
   "execution_count": 14,
   "metadata": {},
   "outputs": [],
   "source": [
    "#Há valores que não podem ser convertidos para numero. Conforme o dicionario de dados, AAAA podem aparecer para anonimizar as informações\n",
    "pd.to_numeric(fleury_.AA_NASCIMENTO.value_counts().index,errors='coerce',downcast='integer')\n",
    "fleury_.AA_NASCIMENTO = pd.to_numeric(fleury_.AA_NASCIMENTO,errors='coerce')"
   ]
  },
  {
   "cell_type": "markdown",
   "metadata": {},
   "source": [
    "#### CD_PAIS"
   ]
  },
  {
   "cell_type": "code",
   "execution_count": 15,
   "metadata": {},
   "outputs": [
    {
     "data": {
      "text/plain": [
       "BR    19274287\n",
       "Name: CD_PAIS, dtype: int64"
      ]
     },
     "execution_count": 15,
     "metadata": {},
     "output_type": "execute_result"
    }
   ],
   "source": [
    "#Só há um país, portanto iremos remover essa info\n",
    "fleury_.CD_PAIS.value_counts()"
   ]
  },
  {
   "cell_type": "code",
   "execution_count": 16,
   "metadata": {},
   "outputs": [],
   "source": [
    "fleury_ = fleury_.drop(columns = \"CD_PAIS\")"
   ]
  },
  {
   "cell_type": "markdown",
   "metadata": {},
   "source": [
    "#### CD_UF"
   ]
  },
  {
   "cell_type": "code",
   "execution_count": 17,
   "metadata": {},
   "outputs": [
    {
     "data": {
      "text/plain": [
       "SP    11608391\n",
       "RJ     4613909\n",
       "RS     1283827\n",
       "PE      782501\n",
       "PR      624400\n",
       "BA      252657\n",
       "UU       43268\n",
       "DF       30411\n",
       "MG       11544\n",
       "MA        7414\n",
       "SC        5275\n",
       "RN        4052\n",
       "GO        2958\n",
       "AM        1066\n",
       "PA         915\n",
       "ES         694\n",
       "AC         459\n",
       "CE         252\n",
       "MT         119\n",
       "PB          95\n",
       "MS          80\n",
       "Name: CD_UF, dtype: int64"
      ]
     },
     "execution_count": 17,
     "metadata": {},
     "output_type": "execute_result"
    }
   ],
   "source": [
    "#Existe uma UF UU, que deve ser removida\n",
    "fleury_.CD_UF.value_counts()"
   ]
  },
  {
   "cell_type": "code",
   "execution_count": 18,
   "metadata": {},
   "outputs": [],
   "source": [
    "fleury_.CD_UF = pd.Categorical(fleury_.CD_UF.replace({\"UU\":np.nan}), categories=fleury_.CD_UF.replace({\"UU\":np.nan}).value_counts().index)"
   ]
  },
  {
   "cell_type": "markdown",
   "metadata": {},
   "source": [
    "#### CD_MUNICIPIO"
   ]
  },
  {
   "cell_type": "code",
   "execution_count": 19,
   "metadata": {},
   "outputs": [
    {
     "data": {
      "text/plain": [
       "SAO PAULO         8523885\n",
       "RIO DE JANEIRO    3586654\n",
       "PORTO ALEGRE      1021221\n",
       "MMMM               701631\n",
       "RECIFE             644701\n",
       "                   ...   \n",
       "RIB. PRETO             20\n",
       "JOAO PESSOA            18\n",
       "FORTALEZA              16\n",
       "GOIANA                 16\n",
       "RIB PRETO              10\n",
       "Name: CD_MUNICIPIO, Length: 134, dtype: int64"
      ]
     },
     "execution_count": 19,
     "metadata": {},
     "output_type": "execute_result"
    }
   ],
   "source": [
    "#Existem municipios MMMM que ocorrem quando houver necessidade de  anonimização ou residente no exterior, conforme informações do dicionario de dados\n",
    "fleury_.CD_MUNICIPIO.value_counts()"
   ]
  },
  {
   "cell_type": "code",
   "execution_count": 20,
   "metadata": {},
   "outputs": [],
   "source": [
    "fleury_.CD_MUNICIPIO = fleury_.CD_MUNICIPIO.replace({\"MMMM\":np.nan})"
   ]
  },
  {
   "cell_type": "markdown",
   "metadata": {},
   "source": [
    "#### CD_CEPREDUZIDO"
   ]
  },
  {
   "cell_type": "code",
   "execution_count": 21,
   "metadata": {},
   "outputs": [
    {
     "data": {
      "text/plain": [
       "CCCC     70.021324\n",
       "60299     1.465937\n",
       "24220     0.772459\n",
       "24230     0.558044\n",
       "51020     0.493647\n",
       "           ...    \n",
       "07074     0.000052\n",
       "14060     0.000052\n",
       "81830     0.000052\n",
       "42802     0.000052\n",
       "13309     0.000052\n",
       "Name: CD_CEPREDUZIDO, Length: 1150, dtype: float64"
      ]
     },
     "execution_count": 21,
     "metadata": {},
     "output_type": "execute_result"
    }
   ],
   "source": [
    "#70% dos CEP são inexistentes, portanto iremos remover essa coluna\n",
    "fleury_.CD_CEPREDUZIDO.value_counts(normalize=True)*100"
   ]
  },
  {
   "cell_type": "code",
   "execution_count": 22,
   "metadata": {},
   "outputs": [],
   "source": [
    "fleury_ = fleury_.drop(columns = \"CD_CEPREDUZIDO\")"
   ]
  },
  {
   "cell_type": "markdown",
   "metadata": {},
   "source": [
    "#### DE_RESULTADO"
   ]
  },
  {
   "cell_type": "markdown",
   "metadata": {},
   "source": [
    "De acordo com o dicionário de dados:\n",
    "\n",
    "<i>\"Se DE_ANALITO exige valor numérico, NNNN se inteiro ou NNNN,NNN se casas decimais\n",
    "Se DE_ANALITO exige qualitativo, String com domínio restrito \n",
    "Se DE_ANALITO por observação microscópica, String conteúdo livre \"</i>\n",
    "\n",
    "Portanto, vamos fazer essa divisão"
   ]
  },
  {
   "cell_type": "code",
   "execution_count": 23,
   "metadata": {},
   "outputs": [
    {
     "data": {
      "text/plain": [
       "NÃO REAGENTE                                                                                                                                                                                                                 816213\n",
       "0,1                                                                                                                                                                                                                          447554\n",
       "negativa                                                                                                                                                                                                                     372826\n",
       "não reagente                                                                                                                                                                                                                 330950\n",
       "não foram observados caracteres tóxico-degenerativos nos neutrófilos, não foram observadas atipias linfocitárias                                                                                                             272859\n",
       "                                                                                                                                                                                                                              ...  \n",
       "Presença de componente monoclonal na região de gamaglobulinas que pode ser de significado clínico indeterminado, Sugerimos acompanhamento, Concentração do componente monoclonal: {} g/dL,0,11;Presença de bisalbuminemia         1\n",
       "97,30                                                                                                                                                                                                                             1\n",
       "alguns micrócitos, poiquilocitose moderada, raros dacriócitos, raros eliptócitos, policromasia discreta, presença de eritroblastos: 1 %                                                                                           1\n",
       "4421                                                                                                                                                                                                                              1\n",
       "230298                                                                                                                                                                                                                            1\n",
       "Name: DE_RESULTADO, Length: 32613, dtype: int64"
      ]
     },
     "execution_count": 23,
     "metadata": {},
     "output_type": "execute_result"
    }
   ],
   "source": [
    "fleury_.DE_RESULTADO.value_counts()"
   ]
  },
  {
   "cell_type": "code",
   "execution_count": 24,
   "metadata": {},
   "outputs": [],
   "source": [
    "def func_filtro_numerico_DE_RESULTADO(x):\n",
    "    if((re.search(\"[0-9]+\",x.lower()) == None) & (re.search(\"[0-9]+,[0-9]+\",x.lower()) == None)):\n",
    "        return False\n",
    "    elif(re.search(\"[0-9]+,[0-9]+\",x.lower()) != None):\n",
    "        if(re.search(\"[0-9]+,[0-9]+\",x.lower()).span()[1] - re.search(\"[0-9]+,[0-9]+\",x.lower()).span()[0] == len(x)):\n",
    "            return True\n",
    "        else:\n",
    "            return False\n",
    "    else:\n",
    "        if(re.search(\"[0-9]+\",x.lower()).span()[1] - re.search(\"[0-9]+\",x.lower()).span()[0] == len(x)):\n",
    "            return True\n",
    "        else:\n",
    "            return False"
   ]
  },
  {
   "cell_type": "code",
   "execution_count": 25,
   "metadata": {},
   "outputs": [],
   "source": [
    "filtro_numerico_DE_RESULTADO = fleury_.DE_RESULTADO.apply(func_filtro_numerico_DE_RESULTADO)"
   ]
  },
  {
   "cell_type": "code",
   "execution_count": 26,
   "metadata": {},
   "outputs": [],
   "source": [
    "fleury_[\"DE_RESULTADO_NUMERICO\"] = pd.to_numeric(fleury_.DE_RESULTADO[filtro_numerico_DE_RESULTADO].str.replace(\",\",\".\"),errors=\"coerce\")\n",
    "fleury_[\"DE_RESULTADO_NAO_NUMERICO\"] = fleury_.DE_RESULTADO[~filtro_numerico_DE_RESULTADO]"
   ]
  },
  {
   "cell_type": "code",
   "execution_count": 27,
   "metadata": {},
   "outputs": [
    {
     "name": "stdout",
     "output_type": "stream",
     "text": [
      "Quantidade de linhas: 19274381\n"
     ]
    },
    {
     "data": {
      "text/html": [
       "<div>\n",
       "<style scoped>\n",
       "    .dataframe tbody tr th:only-of-type {\n",
       "        vertical-align: middle;\n",
       "    }\n",
       "\n",
       "    .dataframe tbody tr th {\n",
       "        vertical-align: top;\n",
       "    }\n",
       "\n",
       "    .dataframe thead th {\n",
       "        text-align: right;\n",
       "    }\n",
       "</style>\n",
       "<table border=\"1\" class=\"dataframe\">\n",
       "  <thead>\n",
       "    <tr style=\"text-align: right;\">\n",
       "      <th></th>\n",
       "      <th>variable</th>\n",
       "      <th>type</th>\n",
       "      <th>na</th>\n",
       "      <th>na_pct</th>\n",
       "      <th>unique</th>\n",
       "      <th>min</th>\n",
       "      <th>quat25</th>\n",
       "      <th>median</th>\n",
       "      <th>mean</th>\n",
       "      <th>quat75</th>\n",
       "      <th>max</th>\n",
       "      <th>std</th>\n",
       "      <th>skewness</th>\n",
       "      <th>kurtosis</th>\n",
       "      <th>media_desvio</th>\n",
       "    </tr>\n",
       "  </thead>\n",
       "  <tbody>\n",
       "    <tr>\n",
       "      <th>0</th>\n",
       "      <td>ID_PACIENTE</td>\n",
       "      <td>object</td>\n",
       "      <td>0</td>\n",
       "      <td>0.0%</td>\n",
       "      <td>470969</td>\n",
       "      <td>-</td>\n",
       "      <td>-</td>\n",
       "      <td>-</td>\n",
       "      <td>-</td>\n",
       "      <td>-</td>\n",
       "      <td>-</td>\n",
       "      <td>-</td>\n",
       "      <td>-</td>\n",
       "      <td>-</td>\n",
       "      <td>-</td>\n",
       "    </tr>\n",
       "    <tr>\n",
       "      <th>1</th>\n",
       "      <td>ID_ATENDIMENTO</td>\n",
       "      <td>object</td>\n",
       "      <td>0</td>\n",
       "      <td>0.0%</td>\n",
       "      <td>952463</td>\n",
       "      <td>-</td>\n",
       "      <td>-</td>\n",
       "      <td>-</td>\n",
       "      <td>-</td>\n",
       "      <td>-</td>\n",
       "      <td>-</td>\n",
       "      <td>-</td>\n",
       "      <td>-</td>\n",
       "      <td>-</td>\n",
       "      <td>-</td>\n",
       "    </tr>\n",
       "    <tr>\n",
       "      <th>2</th>\n",
       "      <td>DT_COLETA</td>\n",
       "      <td>datetime64[ns]</td>\n",
       "      <td>0</td>\n",
       "      <td>0.0%</td>\n",
       "      <td>411</td>\n",
       "      <td>-</td>\n",
       "      <td>-</td>\n",
       "      <td>-</td>\n",
       "      <td>-</td>\n",
       "      <td>-</td>\n",
       "      <td>-</td>\n",
       "      <td>-</td>\n",
       "      <td>-</td>\n",
       "      <td>-</td>\n",
       "      <td>-</td>\n",
       "    </tr>\n",
       "    <tr>\n",
       "      <th>3</th>\n",
       "      <td>DE_EXAME</td>\n",
       "      <td>object</td>\n",
       "      <td>0</td>\n",
       "      <td>0.0%</td>\n",
       "      <td>830</td>\n",
       "      <td>-</td>\n",
       "      <td>-</td>\n",
       "      <td>-</td>\n",
       "      <td>-</td>\n",
       "      <td>-</td>\n",
       "      <td>-</td>\n",
       "      <td>-</td>\n",
       "      <td>-</td>\n",
       "      <td>-</td>\n",
       "      <td>-</td>\n",
       "    </tr>\n",
       "    <tr>\n",
       "      <th>4</th>\n",
       "      <td>DE_ANALITO</td>\n",
       "      <td>object</td>\n",
       "      <td>0</td>\n",
       "      <td>0.0%</td>\n",
       "      <td>1158</td>\n",
       "      <td>-</td>\n",
       "      <td>-</td>\n",
       "      <td>-</td>\n",
       "      <td>-</td>\n",
       "      <td>-</td>\n",
       "      <td>-</td>\n",
       "      <td>-</td>\n",
       "      <td>-</td>\n",
       "      <td>-</td>\n",
       "      <td>-</td>\n",
       "    </tr>\n",
       "    <tr>\n",
       "      <th>5</th>\n",
       "      <td>DE_RESULTADO</td>\n",
       "      <td>object</td>\n",
       "      <td>0</td>\n",
       "      <td>0.0%</td>\n",
       "      <td>32613</td>\n",
       "      <td>-</td>\n",
       "      <td>-</td>\n",
       "      <td>-</td>\n",
       "      <td>-</td>\n",
       "      <td>-</td>\n",
       "      <td>-</td>\n",
       "      <td>-</td>\n",
       "      <td>-</td>\n",
       "      <td>-</td>\n",
       "      <td>-</td>\n",
       "    </tr>\n",
       "    <tr>\n",
       "      <th>6</th>\n",
       "      <td>CD_UNIDADE</td>\n",
       "      <td>category</td>\n",
       "      <td>4913738</td>\n",
       "      <td>25.5%</td>\n",
       "      <td>57</td>\n",
       "      <td>-</td>\n",
       "      <td>-</td>\n",
       "      <td>-</td>\n",
       "      <td>-</td>\n",
       "      <td>-</td>\n",
       "      <td>-</td>\n",
       "      <td>-</td>\n",
       "      <td>-</td>\n",
       "      <td>-</td>\n",
       "      <td>-</td>\n",
       "    </tr>\n",
       "    <tr>\n",
       "      <th>7</th>\n",
       "      <td>DE_VALOR_REFERENCIA</td>\n",
       "      <td>object</td>\n",
       "      <td>4699971</td>\n",
       "      <td>24.4%</td>\n",
       "      <td>1102</td>\n",
       "      <td>-</td>\n",
       "      <td>-</td>\n",
       "      <td>-</td>\n",
       "      <td>-</td>\n",
       "      <td>-</td>\n",
       "      <td>-</td>\n",
       "      <td>-</td>\n",
       "      <td>-</td>\n",
       "      <td>-</td>\n",
       "      <td>-</td>\n",
       "    </tr>\n",
       "    <tr>\n",
       "      <th>8</th>\n",
       "      <td>IC_SEXO</td>\n",
       "      <td>category</td>\n",
       "      <td>94</td>\n",
       "      <td>0.0%</td>\n",
       "      <td>3</td>\n",
       "      <td>-</td>\n",
       "      <td>-</td>\n",
       "      <td>-</td>\n",
       "      <td>-</td>\n",
       "      <td>-</td>\n",
       "      <td>-</td>\n",
       "      <td>-</td>\n",
       "      <td>-</td>\n",
       "      <td>-</td>\n",
       "      <td>-</td>\n",
       "    </tr>\n",
       "    <tr>\n",
       "      <th>9</th>\n",
       "      <td>AA_NASCIMENTO</td>\n",
       "      <td>float64</td>\n",
       "      <td>99511</td>\n",
       "      <td>0.5%</td>\n",
       "      <td>91</td>\n",
       "      <td>1931.0</td>\n",
       "      <td>1964.0</td>\n",
       "      <td>1977.0</td>\n",
       "      <td>1975.13</td>\n",
       "      <td>1986.0</td>\n",
       "      <td>2020.0</td>\n",
       "      <td>16.69</td>\n",
       "      <td>-0.18</td>\n",
       "      <td>-0.21</td>\n",
       "      <td>118.33</td>\n",
       "    </tr>\n",
       "    <tr>\n",
       "      <th>10</th>\n",
       "      <td>CD_UF</td>\n",
       "      <td>category</td>\n",
       "      <td>43362</td>\n",
       "      <td>0.2%</td>\n",
       "      <td>21</td>\n",
       "      <td>-</td>\n",
       "      <td>-</td>\n",
       "      <td>-</td>\n",
       "      <td>-</td>\n",
       "      <td>-</td>\n",
       "      <td>-</td>\n",
       "      <td>-</td>\n",
       "      <td>-</td>\n",
       "      <td>-</td>\n",
       "      <td>-</td>\n",
       "    </tr>\n",
       "    <tr>\n",
       "      <th>11</th>\n",
       "      <td>CD_MUNICIPIO</td>\n",
       "      <td>object</td>\n",
       "      <td>701725</td>\n",
       "      <td>3.6%</td>\n",
       "      <td>135</td>\n",
       "      <td>-</td>\n",
       "      <td>-</td>\n",
       "      <td>-</td>\n",
       "      <td>-</td>\n",
       "      <td>-</td>\n",
       "      <td>-</td>\n",
       "      <td>-</td>\n",
       "      <td>-</td>\n",
       "      <td>-</td>\n",
       "      <td>-</td>\n",
       "    </tr>\n",
       "    <tr>\n",
       "      <th>12</th>\n",
       "      <td>DE_RESULTADO_NUMERICO</td>\n",
       "      <td>float64</td>\n",
       "      <td>4843155</td>\n",
       "      <td>25.1%</td>\n",
       "      <td>23913</td>\n",
       "      <td>NaN</td>\n",
       "      <td>4.03</td>\n",
       "      <td>22.1</td>\n",
       "      <td>5782.21</td>\n",
       "      <td>89.2</td>\n",
       "      <td>NaN</td>\n",
       "      <td>308129.64</td>\n",
       "      <td>2063.51</td>\n",
       "      <td>4749813.63</td>\n",
       "      <td>0.02</td>\n",
       "    </tr>\n",
       "    <tr>\n",
       "      <th>13</th>\n",
       "      <td>DE_RESULTADO_NAO_NUMERICO</td>\n",
       "      <td>object</td>\n",
       "      <td>14431226</td>\n",
       "      <td>74.9%</td>\n",
       "      <td>7156</td>\n",
       "      <td>-</td>\n",
       "      <td>-</td>\n",
       "      <td>-</td>\n",
       "      <td>-</td>\n",
       "      <td>-</td>\n",
       "      <td>-</td>\n",
       "      <td>-</td>\n",
       "      <td>-</td>\n",
       "      <td>-</td>\n",
       "      <td>-</td>\n",
       "    </tr>\n",
       "  </tbody>\n",
       "</table>\n",
       "</div>"
      ],
      "text/plain": [
       "                     variable            type        na na_pct  unique  \\\n",
       "0                 ID_PACIENTE          object         0   0.0%  470969   \n",
       "1              ID_ATENDIMENTO          object         0   0.0%  952463   \n",
       "2                   DT_COLETA  datetime64[ns]         0   0.0%     411   \n",
       "3                    DE_EXAME          object         0   0.0%     830   \n",
       "4                  DE_ANALITO          object         0   0.0%    1158   \n",
       "5                DE_RESULTADO          object         0   0.0%   32613   \n",
       "6                  CD_UNIDADE        category   4913738  25.5%      57   \n",
       "7         DE_VALOR_REFERENCIA          object   4699971  24.4%    1102   \n",
       "8                     IC_SEXO        category        94   0.0%       3   \n",
       "9               AA_NASCIMENTO         float64     99511   0.5%      91   \n",
       "10                      CD_UF        category     43362   0.2%      21   \n",
       "11               CD_MUNICIPIO          object    701725   3.6%     135   \n",
       "12      DE_RESULTADO_NUMERICO         float64   4843155  25.1%   23913   \n",
       "13  DE_RESULTADO_NAO_NUMERICO          object  14431226  74.9%    7156   \n",
       "\n",
       "       min  quat25  median     mean  quat75     max        std skewness  \\\n",
       "0        -       -       -        -       -       -          -        -   \n",
       "1        -       -       -        -       -       -          -        -   \n",
       "2        -       -       -        -       -       -          -        -   \n",
       "3        -       -       -        -       -       -          -        -   \n",
       "4        -       -       -        -       -       -          -        -   \n",
       "5        -       -       -        -       -       -          -        -   \n",
       "6        -       -       -        -       -       -          -        -   \n",
       "7        -       -       -        -       -       -          -        -   \n",
       "8        -       -       -        -       -       -          -        -   \n",
       "9   1931.0  1964.0  1977.0  1975.13  1986.0  2020.0      16.69    -0.18   \n",
       "10       -       -       -        -       -       -          -        -   \n",
       "11       -       -       -        -       -       -          -        -   \n",
       "12     NaN    4.03    22.1  5782.21    89.2     NaN  308129.64  2063.51   \n",
       "13       -       -       -        -       -       -          -        -   \n",
       "\n",
       "      kurtosis media_desvio  \n",
       "0            -            -  \n",
       "1            -            -  \n",
       "2            -            -  \n",
       "3            -            -  \n",
       "4            -            -  \n",
       "5            -            -  \n",
       "6            -            -  \n",
       "7            -            -  \n",
       "8            -            -  \n",
       "9        -0.21       118.33  \n",
       "10           -            -  \n",
       "11           -            -  \n",
       "12  4749813.63         0.02  \n",
       "13           -            -  "
      ]
     },
     "execution_count": 27,
     "metadata": {},
     "output_type": "execute_result"
    }
   ],
   "source": [
    "describe(fleury_)"
   ]
  },
  {
   "cell_type": "code",
   "execution_count": 28,
   "metadata": {},
   "outputs": [],
   "source": [
    "del(fleury)"
   ]
  },
  {
   "cell_type": "code",
   "execution_count": 29,
   "metadata": {},
   "outputs": [],
   "source": [
    "#Como o dataframe é muito grande, vamos separar as demais colunas nao analisadas\n",
    "write_table_from_pandas(fleury_,\"../data/interim/fleury.parquet\")"
   ]
  },
  {
   "cell_type": "code",
   "execution_count": 30,
   "metadata": {},
   "outputs": [],
   "source": [
    "demais_fleury = fleury_[[\"DE_ANALITO\",\"DE_EXAME\"]]"
   ]
  },
  {
   "cell_type": "code",
   "execution_count": 31,
   "metadata": {},
   "outputs": [],
   "source": [
    "del(fleury_)"
   ]
  },
  {
   "cell_type": "markdown",
   "metadata": {},
   "source": [
    "#### DE_ANALITO"
   ]
  },
  {
   "cell_type": "code",
   "execution_count": 5,
   "metadata": {},
   "outputs": [],
   "source": [
    "demais_fleury = read_table_to_pandas(\"../data/interim/fleury.parquet\")[[\"DE_ANALITO\",\"DE_EXAME\"]]"
   ]
  },
  {
   "cell_type": "code",
   "execution_count": null,
   "metadata": {},
   "outputs": [],
   "source": [
    "# O campo analito possui mais de uma informação, por isso, vamos separa num dataframe a parte\n",
    "pickle.dump(obj=np.unique([ana for elem in demais_fleury.DE_ANALITO.apply(lambda x: x.split(\", \")).tolist() for ana in elem]),\n",
    "            file=open(\"../data/interim/fleury_exames_analito/partes/de_analito.pickle\",\"wb\"))"
   ]
  },
  {
   "cell_type": "code",
   "execution_count": 15,
   "metadata": {},
   "outputs": [],
   "source": [
    "# A quantidade de linhas é muito grande, portanto iremos dividir essa quantidade em arquivos menores\n",
    "for i,df in enumerate(np.array_split(demais_fleury,19)):\n",
    "    write_table_from_pandas(df,\"../data/interim/fleury_exames_analito/partes/parte\"+str(i)+\".parquet\")"
   ]
  },
  {
   "cell_type": "code",
   "execution_count": null,
   "metadata": {},
   "outputs": [],
   "source": [
    "del(demais_fleury)"
   ]
  },
  {
   "cell_type": "code",
   "execution_count": 11,
   "metadata": {},
   "outputs": [],
   "source": [
    "analito = pickle.load(open(\"../data/interim/fleury_exames_analito/partes/de_analito.pickle\",\"rb\"))"
   ]
  },
  {
   "cell_type": "code",
   "execution_count": 75,
   "metadata": {},
   "outputs": [
    {
     "name": "stderr",
     "output_type": "stream",
     "text": [
      "  0%|                                                                                           | 0/19 [00:00<?, ?it/s]"
     ]
    },
    {
     "name": "stdout",
     "output_type": "stream",
     "text": [
      "0\n",
      "1\n"
     ]
    },
    {
     "name": "stderr",
     "output_type": "stream",
     "text": [
      "  5%|████▎                                                                              | 1/19 [00:02<00:49,  2.74s/it]\n"
     ]
    },
    {
     "ename": "KeyboardInterrupt",
     "evalue": "",
     "output_type": "error",
     "traceback": [
      "\u001b[1;31m---------------------------------------------------------------------------\u001b[0m",
      "\u001b[1;31mKeyboardInterrupt\u001b[0m                         Traceback (most recent call last)",
      "\u001b[1;32m<ipython-input-75-4eca2e129ac5>\u001b[0m in \u001b[0;36m<module>\u001b[1;34m\u001b[0m\n\u001b[0;32m      6\u001b[0m     \u001b[1;32melse\u001b[0m\u001b[1;33m:\u001b[0m\u001b[1;33m\u001b[0m\u001b[1;33m\u001b[0m\u001b[0m\n\u001b[0;32m      7\u001b[0m         \u001b[0mdemais_parte\u001b[0m \u001b[1;33m=\u001b[0m \u001b[0mread_table_to_pandas\u001b[0m\u001b[1;33m(\u001b[0m\u001b[1;34m\"../data/interim/fleury_exames_analito/partes/parte\"\u001b[0m\u001b[1;33m+\u001b[0m\u001b[0mstr\u001b[0m\u001b[1;33m(\u001b[0m\u001b[0mi\u001b[0m\u001b[1;33m)\u001b[0m\u001b[1;33m+\u001b[0m\u001b[1;34m\".parquet\"\u001b[0m\u001b[1;33m)\u001b[0m\u001b[1;33m[\u001b[0m\u001b[1;33m[\u001b[0m\u001b[1;34m\"DE_ANALITO\"\u001b[0m\u001b[1;33m]\u001b[0m\u001b[1;33m]\u001b[0m\u001b[1;33m\u001b[0m\u001b[1;33m\u001b[0m\u001b[0m\n\u001b[1;32m----> 8\u001b[1;33m         write_table_from_pandas(pd.DataFrame({chave: demais_parte.DE_ANALITO.str.contains(chave).to_numpy() for chave in analito}),\n\u001b[0m\u001b[0;32m      9\u001b[0m                                 \"../data/interim/fleury_exames_analito/analito/onehot_encoding/bool_parte\"+str(i)+\".parquet\")\n",
      "\u001b[1;32m<ipython-input-75-4eca2e129ac5>\u001b[0m in \u001b[0;36m<dictcomp>\u001b[1;34m(.0)\u001b[0m\n\u001b[0;32m      6\u001b[0m     \u001b[1;32melse\u001b[0m\u001b[1;33m:\u001b[0m\u001b[1;33m\u001b[0m\u001b[1;33m\u001b[0m\u001b[0m\n\u001b[0;32m      7\u001b[0m         \u001b[0mdemais_parte\u001b[0m \u001b[1;33m=\u001b[0m \u001b[0mread_table_to_pandas\u001b[0m\u001b[1;33m(\u001b[0m\u001b[1;34m\"../data/interim/fleury_exames_analito/partes/parte\"\u001b[0m\u001b[1;33m+\u001b[0m\u001b[0mstr\u001b[0m\u001b[1;33m(\u001b[0m\u001b[0mi\u001b[0m\u001b[1;33m)\u001b[0m\u001b[1;33m+\u001b[0m\u001b[1;34m\".parquet\"\u001b[0m\u001b[1;33m)\u001b[0m\u001b[1;33m[\u001b[0m\u001b[1;33m[\u001b[0m\u001b[1;34m\"DE_ANALITO\"\u001b[0m\u001b[1;33m]\u001b[0m\u001b[1;33m]\u001b[0m\u001b[1;33m\u001b[0m\u001b[1;33m\u001b[0m\u001b[0m\n\u001b[1;32m----> 8\u001b[1;33m         write_table_from_pandas(pd.DataFrame({chave: demais_parte.DE_ANALITO.str.contains(chave).to_numpy() for chave in analito}),\n\u001b[0m\u001b[0;32m      9\u001b[0m                                 \"../data/interim/fleury_exames_analito/analito/onehot_encoding/bool_parte\"+str(i)+\".parquet\")\n",
      "\u001b[1;32m~\\AppData\\Roaming\\Python\\Python37\\site-packages\\pandas\\core\\strings\\accessor.py\u001b[0m in \u001b[0;36mwrapper\u001b[1;34m(self, *args, **kwargs)\u001b[0m\n\u001b[0;32m     99\u001b[0m                 )\n\u001b[0;32m    100\u001b[0m                 \u001b[1;32mraise\u001b[0m \u001b[0mTypeError\u001b[0m\u001b[1;33m(\u001b[0m\u001b[0mmsg\u001b[0m\u001b[1;33m)\u001b[0m\u001b[1;33m\u001b[0m\u001b[1;33m\u001b[0m\u001b[0m\n\u001b[1;32m--> 101\u001b[1;33m             \u001b[1;32mreturn\u001b[0m \u001b[0mfunc\u001b[0m\u001b[1;33m(\u001b[0m\u001b[0mself\u001b[0m\u001b[1;33m,\u001b[0m \u001b[1;33m*\u001b[0m\u001b[0margs\u001b[0m\u001b[1;33m,\u001b[0m \u001b[1;33m**\u001b[0m\u001b[0mkwargs\u001b[0m\u001b[1;33m)\u001b[0m\u001b[1;33m\u001b[0m\u001b[1;33m\u001b[0m\u001b[0m\n\u001b[0m\u001b[0;32m    102\u001b[0m \u001b[1;33m\u001b[0m\u001b[0m\n\u001b[0;32m    103\u001b[0m         \u001b[0mwrapper\u001b[0m\u001b[1;33m.\u001b[0m\u001b[0m__name__\u001b[0m \u001b[1;33m=\u001b[0m \u001b[0mfunc_name\u001b[0m\u001b[1;33m\u001b[0m\u001b[1;33m\u001b[0m\u001b[0m\n",
      "\u001b[1;32m~\\AppData\\Roaming\\Python\\Python37\\site-packages\\pandas\\core\\strings\\accessor.py\u001b[0m in \u001b[0;36mcontains\u001b[1;34m(self, pat, case, flags, na, regex)\u001b[0m\n\u001b[0;32m   1108\u001b[0m         \u001b[0mdtype\u001b[0m\u001b[1;33m:\u001b[0m \u001b[0mbool\u001b[0m\u001b[1;33m\u001b[0m\u001b[1;33m\u001b[0m\u001b[0m\n\u001b[0;32m   1109\u001b[0m         \"\"\"\n\u001b[1;32m-> 1110\u001b[1;33m         \u001b[0mresult\u001b[0m \u001b[1;33m=\u001b[0m \u001b[0mself\u001b[0m\u001b[1;33m.\u001b[0m\u001b[0m_data\u001b[0m\u001b[1;33m.\u001b[0m\u001b[0marray\u001b[0m\u001b[1;33m.\u001b[0m\u001b[0m_str_contains\u001b[0m\u001b[1;33m(\u001b[0m\u001b[0mpat\u001b[0m\u001b[1;33m,\u001b[0m \u001b[0mcase\u001b[0m\u001b[1;33m,\u001b[0m \u001b[0mflags\u001b[0m\u001b[1;33m,\u001b[0m \u001b[0mna\u001b[0m\u001b[1;33m,\u001b[0m \u001b[0mregex\u001b[0m\u001b[1;33m)\u001b[0m\u001b[1;33m\u001b[0m\u001b[1;33m\u001b[0m\u001b[0m\n\u001b[0m\u001b[0;32m   1111\u001b[0m         \u001b[1;32mreturn\u001b[0m \u001b[0mself\u001b[0m\u001b[1;33m.\u001b[0m\u001b[0m_wrap_result\u001b[0m\u001b[1;33m(\u001b[0m\u001b[0mresult\u001b[0m\u001b[1;33m,\u001b[0m \u001b[0mfill_value\u001b[0m\u001b[1;33m=\u001b[0m\u001b[0mna\u001b[0m\u001b[1;33m,\u001b[0m \u001b[0mreturns_string\u001b[0m\u001b[1;33m=\u001b[0m\u001b[1;32mFalse\u001b[0m\u001b[1;33m)\u001b[0m\u001b[1;33m\u001b[0m\u001b[1;33m\u001b[0m\u001b[0m\n\u001b[0;32m   1112\u001b[0m \u001b[1;33m\u001b[0m\u001b[0m\n",
      "\u001b[1;32m~\\AppData\\Roaming\\Python\\Python37\\site-packages\\pandas\\core\\strings\\object_array.py\u001b[0m in \u001b[0;36m_str_contains\u001b[1;34m(self, pat, case, flags, na, regex)\u001b[0m\n\u001b[0;32m    125\u001b[0m                 \u001b[0mupper_pat\u001b[0m \u001b[1;33m=\u001b[0m \u001b[0mpat\u001b[0m\u001b[1;33m.\u001b[0m\u001b[0mupper\u001b[0m\u001b[1;33m(\u001b[0m\u001b[1;33m)\u001b[0m\u001b[1;33m\u001b[0m\u001b[1;33m\u001b[0m\u001b[0m\n\u001b[0;32m    126\u001b[0m                 \u001b[0mf\u001b[0m \u001b[1;33m=\u001b[0m \u001b[1;32mlambda\u001b[0m \u001b[0mx\u001b[0m\u001b[1;33m:\u001b[0m \u001b[0mupper_pat\u001b[0m \u001b[1;32min\u001b[0m \u001b[0mx\u001b[0m\u001b[1;33m.\u001b[0m\u001b[0mupper\u001b[0m\u001b[1;33m(\u001b[0m\u001b[1;33m)\u001b[0m\u001b[1;33m\u001b[0m\u001b[1;33m\u001b[0m\u001b[0m\n\u001b[1;32m--> 127\u001b[1;33m         \u001b[1;32mreturn\u001b[0m \u001b[0mself\u001b[0m\u001b[1;33m.\u001b[0m\u001b[0m_str_map\u001b[0m\u001b[1;33m(\u001b[0m\u001b[0mf\u001b[0m\u001b[1;33m,\u001b[0m \u001b[0mna\u001b[0m\u001b[1;33m,\u001b[0m \u001b[0mdtype\u001b[0m\u001b[1;33m=\u001b[0m\u001b[0mnp\u001b[0m\u001b[1;33m.\u001b[0m\u001b[0mdtype\u001b[0m\u001b[1;33m(\u001b[0m\u001b[1;34m\"bool\"\u001b[0m\u001b[1;33m)\u001b[0m\u001b[1;33m)\u001b[0m\u001b[1;33m\u001b[0m\u001b[1;33m\u001b[0m\u001b[0m\n\u001b[0m\u001b[0;32m    128\u001b[0m \u001b[1;33m\u001b[0m\u001b[0m\n\u001b[0;32m    129\u001b[0m     \u001b[1;32mdef\u001b[0m \u001b[0m_str_startswith\u001b[0m\u001b[1;33m(\u001b[0m\u001b[0mself\u001b[0m\u001b[1;33m,\u001b[0m \u001b[0mpat\u001b[0m\u001b[1;33m,\u001b[0m \u001b[0mna\u001b[0m\u001b[1;33m=\u001b[0m\u001b[1;32mNone\u001b[0m\u001b[1;33m)\u001b[0m\u001b[1;33m:\u001b[0m\u001b[1;33m\u001b[0m\u001b[1;33m\u001b[0m\u001b[0m\n",
      "\u001b[1;32m~\\AppData\\Roaming\\Python\\Python37\\site-packages\\pandas\\core\\strings\\object_array.py\u001b[0m in \u001b[0;36m_str_map\u001b[1;34m(self, f, na_value, dtype)\u001b[0m\n\u001b[0;32m     59\u001b[0m         \u001b[0mconvert\u001b[0m \u001b[1;33m=\u001b[0m \u001b[1;32mnot\u001b[0m \u001b[0mnp\u001b[0m\u001b[1;33m.\u001b[0m\u001b[0mall\u001b[0m\u001b[1;33m(\u001b[0m\u001b[0mmask\u001b[0m\u001b[1;33m)\u001b[0m\u001b[1;33m\u001b[0m\u001b[1;33m\u001b[0m\u001b[0m\n\u001b[0;32m     60\u001b[0m         \u001b[1;32mtry\u001b[0m\u001b[1;33m:\u001b[0m\u001b[1;33m\u001b[0m\u001b[1;33m\u001b[0m\u001b[0m\n\u001b[1;32m---> 61\u001b[1;33m             \u001b[0mresult\u001b[0m \u001b[1;33m=\u001b[0m \u001b[0mlib\u001b[0m\u001b[1;33m.\u001b[0m\u001b[0mmap_infer_mask\u001b[0m\u001b[1;33m(\u001b[0m\u001b[0marr\u001b[0m\u001b[1;33m,\u001b[0m \u001b[0mf\u001b[0m\u001b[1;33m,\u001b[0m \u001b[0mmask\u001b[0m\u001b[1;33m.\u001b[0m\u001b[0mview\u001b[0m\u001b[1;33m(\u001b[0m\u001b[0mnp\u001b[0m\u001b[1;33m.\u001b[0m\u001b[0muint8\u001b[0m\u001b[1;33m)\u001b[0m\u001b[1;33m,\u001b[0m \u001b[0mconvert\u001b[0m\u001b[1;33m)\u001b[0m\u001b[1;33m\u001b[0m\u001b[1;33m\u001b[0m\u001b[0m\n\u001b[0m\u001b[0;32m     62\u001b[0m         \u001b[1;32mexcept\u001b[0m \u001b[1;33m(\u001b[0m\u001b[0mTypeError\u001b[0m\u001b[1;33m,\u001b[0m \u001b[0mAttributeError\u001b[0m\u001b[1;33m)\u001b[0m \u001b[1;32mas\u001b[0m \u001b[0me\u001b[0m\u001b[1;33m:\u001b[0m\u001b[1;33m\u001b[0m\u001b[1;33m\u001b[0m\u001b[0m\n\u001b[0;32m     63\u001b[0m             \u001b[1;31m# Reraise the exception if callable `f` got wrong number of args.\u001b[0m\u001b[1;33m\u001b[0m\u001b[1;33m\u001b[0m\u001b[1;33m\u001b[0m\u001b[0m\n",
      "\u001b[1;32mpandas\\_libs\\lib.pyx\u001b[0m in \u001b[0;36mpandas._libs.lib.map_infer_mask\u001b[1;34m()\u001b[0m\n",
      "\u001b[1;32m~\\AppData\\Roaming\\Python\\Python37\\site-packages\\pandas\\core\\strings\\object_array.py\u001b[0m in \u001b[0;36m<lambda>\u001b[1;34m(x)\u001b[0m\n\u001b[0;32m    118\u001b[0m                 )\n\u001b[0;32m    119\u001b[0m \u001b[1;33m\u001b[0m\u001b[0m\n\u001b[1;32m--> 120\u001b[1;33m             \u001b[0mf\u001b[0m \u001b[1;33m=\u001b[0m \u001b[1;32mlambda\u001b[0m \u001b[0mx\u001b[0m\u001b[1;33m:\u001b[0m \u001b[0mregex\u001b[0m\u001b[1;33m.\u001b[0m\u001b[0msearch\u001b[0m\u001b[1;33m(\u001b[0m\u001b[0mx\u001b[0m\u001b[1;33m)\u001b[0m \u001b[1;32mis\u001b[0m \u001b[1;32mnot\u001b[0m \u001b[1;32mNone\u001b[0m\u001b[1;33m\u001b[0m\u001b[1;33m\u001b[0m\u001b[0m\n\u001b[0m\u001b[0;32m    121\u001b[0m         \u001b[1;32melse\u001b[0m\u001b[1;33m:\u001b[0m\u001b[1;33m\u001b[0m\u001b[1;33m\u001b[0m\u001b[0m\n\u001b[0;32m    122\u001b[0m             \u001b[1;32mif\u001b[0m \u001b[0mcase\u001b[0m\u001b[1;33m:\u001b[0m\u001b[1;33m\u001b[0m\u001b[1;33m\u001b[0m\u001b[0m\n",
      "\u001b[1;31mKeyboardInterrupt\u001b[0m: "
     ]
    }
   ],
   "source": [
    "#Criando um DataFrame no estilo OneHotEncoding para analito\n",
    "for i in tqdm.tqdm(range(19)):\n",
    "    if(\"bool_parte\"+str(i)+\".parquet\" in os.listdir(\"../data/interim/fleury_exames_analito/analito/onehot_encoding\")):\n",
    "        continue\n",
    "    else:\n",
    "        demais_parte = read_table_to_pandas(\"../data/interim/fleury_exames_analito/partes/parte\"+str(i)+\".parquet\")[[\"DE_ANALITO\"]]\n",
    "        write_table_from_pandas(pd.DataFrame({chave: demais_parte.DE_ANALITO.str.contains(chave).to_numpy() for chave in analito}),\n",
    "                                \"../data/interim/fleury_exames_analito/analito/onehot_encoding/bool_parte\"+str(i)+\".parquet\")"
   ]
  },
  {
   "cell_type": "markdown",
   "metadata": {},
   "source": [
    "#### DE_EXAME"
   ]
  },
  {
   "cell_type": "code",
   "execution_count": null,
   "metadata": {},
   "outputs": [],
   "source": [
    "demais_fleury = read_table_to_pandas(\"../data/interim/fleury.parquet\")[[\"DE_EXAME\"]]"
   ]
  },
  {
   "cell_type": "code",
   "execution_count": 57,
   "metadata": {},
   "outputs": [
    {
     "data": {
      "text/plain": [
       "array([None, 'NOVO CORONAVÍRUS 2019 (SARS-CoV-2), DETECÇÃO POR PCR',\n",
       "       'NOVO CORONAVÍRUS 2019 (SARS-CoV-2), DETECÇÃO POR PCR', ...,\n",
       "       'HTLV1/2, ANTICORPOS, soro',\n",
       "       'SIFILIS, ANTICORPOS TOTAIS ESPECIFICOS ANTI-T.PALLIDUM, soro',\n",
       "       'SIFILIS, ANTICORPOS TOTAIS ESPECIFICOS ANTI-T.PALLIDUM, soro'],\n",
       "      dtype=object)"
      ]
     },
     "execution_count": 57,
     "metadata": {},
     "output_type": "execute_result"
    }
   ],
   "source": [
    "np.concatenate((exames,read_table_to_pandas(\"../data/interim/fleury_exames_analito/partes/parte\"+str(i)+\".parquet\")[\"DE_EXAME\"].to_numpy()))"
   ]
  },
  {
   "cell_type": "code",
   "execution_count": 62,
   "metadata": {},
   "outputs": [
    {
     "name": "stderr",
     "output_type": "stream",
     "text": [
      "100%|██████████████████████████████████████████████████████████████████████████████████| 19/19 [01:40<00:00,  5.30s/it]\n"
     ]
    }
   ],
   "source": [
    "exames = np.array([],dtype=np.object_)\n",
    "for i in tqdm.tqdm(range(19)):\n",
    "    exame_parte = read_table_to_pandas(\"../data/interim/fleury_exames_analito/partes/parte\"+str(i)+\".parquet\")[[\"DE_EXAME\"]]\n",
    "    exames = np.unique(np.concatenate((exames,\n",
    "                                      np.unique([ex for elem in exame_parte.DE_EXAME.apply(lambda x: x.split(\", \")).tolist() for ex in elem]))))"
   ]
  },
  {
   "cell_type": "code",
   "execution_count": 63,
   "metadata": {},
   "outputs": [],
   "source": [
    "# O campo exame possui mais de uma informação, por isso, vamos separa num dataframe a parte\n",
    "pickle.dump(obj=exames,\n",
    "            file=open(\"../data/interim/fleury_exames_analito/partes/de_exame.pickle\",\"wb\"))"
   ]
  },
  {
   "cell_type": "code",
   "execution_count": 64,
   "metadata": {},
   "outputs": [],
   "source": [
    "exames = pickle.load(open(\"../data/interim/fleury_exames_analito/partes/de_exame.pickle\",\"rb\"))"
   ]
  },
  {
   "cell_type": "code",
   "execution_count": null,
   "metadata": {},
   "outputs": [],
   "source": [
    "#Criando um DataFrame no estilo OneHotEncoding para exames\n",
    "for i in tqdm.tqdm(range(19)):\n",
    "    if(\"bool_parte\"+str(i)+\".parquet\" in os.listdir(\"../data/interim/fleury_exames_analito/exames/onehot_encoding\")):\n",
    "        continue\n",
    "    else:\n",
    "        demais_parte = read_table_to_pandas(\"../data/interim/fleury_exames_analito/partes/parte\"+str(i)+\".parquet\")[[\"DE_EXAME\"]]\n",
    "        write_table_from_pandas(pd.DataFrame({chave: demais_parte.DE_EXAME.str.contains(chave).to_numpy() for chave in exames}),\n",
    "                                \"../data/interim/fleury_exames_analito/exames/onehot_encoding/bool_parte\"+str(i)+\".parquet\")"
   ]
  },
  {
   "cell_type": "code",
   "execution_count": null,
   "metadata": {},
   "outputs": [],
   "source": []
  },
  {
   "cell_type": "code",
   "execution_count": null,
   "metadata": {},
   "outputs": [],
   "source": []
  },
  {
   "cell_type": "code",
   "execution_count": null,
   "metadata": {},
   "outputs": [],
   "source": []
  },
  {
   "cell_type": "code",
   "execution_count": null,
   "metadata": {},
   "outputs": [],
   "source": []
  },
  {
   "cell_type": "code",
   "execution_count": null,
   "metadata": {},
   "outputs": [],
   "source": []
  },
  {
   "cell_type": "code",
   "execution_count": null,
   "metadata": {},
   "outputs": [],
   "source": []
  },
  {
   "cell_type": "code",
   "execution_count": null,
   "metadata": {},
   "outputs": [],
   "source": []
  }
 ],
 "metadata": {
  "kernelspec": {
   "display_name": "Python 3",
   "language": "python",
   "name": "python3"
  },
  "language_info": {
   "codemirror_mode": {
    "name": "ipython",
    "version": 3
   },
   "file_extension": ".py",
   "mimetype": "text/x-python",
   "name": "python",
   "nbconvert_exporter": "python",
   "pygments_lexer": "ipython3",
   "version": "3.7.4"
  },
  "toc-autonumbering": true
 },
 "nbformat": 4,
 "nbformat_minor": 4
}
