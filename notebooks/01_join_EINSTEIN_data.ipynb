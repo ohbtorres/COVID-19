{
 "cells": [
  {
   "cell_type": "markdown",
   "metadata": {},
   "source": [
    "# Importando bibliotecas"
   ]
  },
  {
   "cell_type": "code",
   "execution_count": 21,
   "metadata": {},
   "outputs": [
    {
     "name": "stdout",
     "output_type": "stream",
     "text": [
      "pyarrow   : 4.0.0\n",
      "pandas    : 1.2.2\n",
      "plotnine  : 0.7.1\n",
      "seaborn   : 0.11.1\n",
      "numpy     : 1.20.1\n",
      "matplotlib: 3.3.3\n",
      "re        : 2.2.1\n",
      "sys       : 3.7.4 (default, Aug  9 2019, 18:34:13) [MSC v.1915 64 bit (AMD64)]\n",
      "\n"
     ]
    }
   ],
   "source": [
    "# biblotecas para manipulação de dados\n",
    "import pandas as pd\n",
    "import numpy as np\n",
    "\n",
    "#Bibliotecas auxiliares\n",
    "import os\n",
    "from functools import reduce\n",
    "import re\n",
    "\n",
    "#Biblioteca propria\n",
    "import sys\n",
    "sys.path.append(\"../src/\")\n",
    "from eda.eda import describe\n",
    "from io_pyarrow.io_pyarrow import pa_read_csv,pa_write_csv #leitura e escrita de arquivos csv grandes\n",
    "\n",
    "%reload_ext watermark\n",
    "%watermark --iversions"
   ]
  },
  {
   "cell_type": "markdown",
   "metadata": {},
   "source": [
    "___"
   ]
  },
  {
   "cell_type": "markdown",
   "metadata": {},
   "source": [
    "# Importando arquivos"
   ]
  },
  {
   "cell_type": "code",
   "execution_count": 4,
   "metadata": {},
   "outputs": [],
   "source": [
    "#Definindo path dos arquivos\n",
    "path_data = \"../data/raw/\""
   ]
  },
  {
   "cell_type": "code",
   "execution_count": 5,
   "metadata": {},
   "outputs": [],
   "source": [
    "def pa_read_csv(source,sep=\",\"):\n",
    "    return csv.read_csv(source,parse_options=csv.ParseOptions(delimiter=sep)).to_pandas()"
   ]
  },
  {
   "cell_type": "markdown",
   "metadata": {},
   "source": [
    "## Dados da FAPESP\n",
    "<b> Descrição </b>: Pasta de arquivos, com dados anonimizados de pacientes que fizeram teste para COVID-19 a partir de 1/11/2019 e respectivos resultados de exames laboratoriais, contendo dentre outros o identificador anonimizado do paciente  <br>\n",
    "fonte: https://repositoriodatasharingfapesp.uspdigital.usp.br/"
   ]
  },
  {
   "cell_type": "markdown",
   "metadata": {},
   "source": [
    "### Hospital Albert Einstein"
   ]
  },
  {
   "cell_type": "code",
   "execution_count": 6,
   "metadata": {},
   "outputs": [],
   "source": [
    "einstein_exames = pa_read_csv(path_data + \"FAPESP/EINSTEIN_Exames_2.csv\",sep=\"|\")\n",
    "einstein_pacientes = pa_read_csv(path_data + \"FAPESP/EINSTEIN_Pacientes_2.csv\",sep=\"|\")"
   ]
  },
  {
   "cell_type": "markdown",
   "metadata": {},
   "source": [
    "### Grupo Fleury"
   ]
  },
  {
   "cell_type": "code",
   "execution_count": 9,
   "metadata": {},
   "outputs": [],
   "source": [
    "fleury_exames = pa_read_csv(path_data + \"FAPESP/GrupoFleury_Exames_3.csv\",sep=\"|\")\n",
    "fleury_pacientes = pa_read_csv(path_data + \"FAPESP/GrupoFleury_Pacientes_3.csv\",sep=\"|\")"
   ]
  },
  {
   "cell_type": "markdown",
   "metadata": {},
   "source": [
    "### Hospital Sírio Libanes"
   ]
  },
  {
   "cell_type": "code",
   "execution_count": 10,
   "metadata": {},
   "outputs": [],
   "source": [
    "sl_exames = pa_read_csv(path_data + \"FAPESP/HSL_Exames_3.csv\",sep=\"|\")\n",
    "sl_pacientes = pa_read_csv(path_data + \"FAPESP/HSL_Pacientes_3.csv\",sep=\"|\")\n",
    "sl_desfecho = pa_read_csv(path_data + \"FAPESP/HSL_Desfechos_3.csv\",sep=\"|\")"
   ]
  },
  {
   "cell_type": "markdown",
   "metadata": {},
   "source": [
    "### Hospital das Clinicas da Faculdade de Medicina da Universidade de Sao Paulo "
   ]
  },
  {
   "cell_type": "code",
   "execution_count": 11,
   "metadata": {},
   "outputs": [],
   "source": [
    "hc_exames = pa_read_csv(path_data + \"FAPESP/HC_EXAMES_1.csv\",sep=\"|\")\n",
    "hc_pacientes = pa_read_csv(path_data + \"FAPESP/HC_PACIENTES_1.csv\",sep=\"|\")"
   ]
  },
  {
   "cell_type": "markdown",
   "metadata": {},
   "source": [
    "### Beneficência Portuguesa de São Paulo"
   ]
  },
  {
   "cell_type": "code",
   "execution_count": 12,
   "metadata": {},
   "outputs": [],
   "source": [
    "bpsp_exames = pa_read_csv(path_data + \"FAPESP/bpsp_exames_01.csv\",sep=\"|\")\n",
    "bpsp_pacientes = pa_read_csv(path_data + \"FAPESP/bpsp_pacientes_01.csv\",sep=\"|\")\n",
    "bpsp_desfecho = pa_read_csv(path_data + \"FAPESP/bpsp_desfecho_01.csv\",sep=\"|\")"
   ]
  },
  {
   "cell_type": "markdown",
   "metadata": {},
   "source": [
    "## Portal da Transparência"
   ]
  },
  {
   "cell_type": "markdown",
   "metadata": {},
   "source": [
    "<b>Descrição</b>: A atualização permanente do número de registros de óbitos em meio a pandemia da Covid-19 é uma iniciativa dos Cartórios de Registro Civil do Brasil <br>\n",
    "fonte: https://transparencia.registrocivil.org.br/especial-covid"
   ]
  },
  {
   "cell_type": "code",
   "execution_count": 15,
   "metadata": {},
   "outputs": [],
   "source": [
    "obitos = reduce(lambda x,y: pd.concat((x,y),axis = 0),\n",
    "                [pa_read_csv(path_data + \"Portal_Transparencia/\" + file) for file in os.listdir(path_data + \"Portal_Transparencia\")])"
   ]
  },
  {
   "cell_type": "markdown",
   "metadata": {},
   "source": [
    "## Fiocruz\n",
    "fonte: https://bigdata.icict.fiocruz.br/covid-19"
   ]
  },
  {
   "cell_type": "markdown",
   "metadata": {},
   "source": [
    "### COVID SAUDE\n",
    "<b>Descrição</b>: Os dados dos estados e municípios são obtidos na página oficial do Ministério da Saúde.<br>\n",
    "fonte: https://covid.saude.gov.br/"
   ]
  },
  {
   "cell_type": "code",
   "execution_count": 16,
   "metadata": {},
   "outputs": [],
   "source": [
    "obitos_brasil = pa_read_csv(path_data+\"Fiocruz/COVID_MS/HIST_PAINEL_COVIDBR_06mai2021.csv\",sep = \";\")"
   ]
  },
  {
   "cell_type": "markdown",
   "metadata": {},
   "source": [
    "## SEADE\n",
    "fonte: https://www.seade.gov.br/coronavirus/"
   ]
  },
  {
   "cell_type": "code",
   "execution_count": 17,
   "metadata": {},
   "outputs": [],
   "source": [
    "casos_obitos_doencas_preexistentes = pa_read_csv(path_data+\"SEADE/casos_obitos_doencas_preexistentes.csv\",sep=\";\")\n",
    "casos_obitos_raca_cor = pa_read_csv(path_data+\"SEADE/casos_obitos_raca_cor.csv\",sep=\";\")\n",
    "dados_covid_sp = pa_read_csv(path_data+\"SEADE/dados_covid_sp.csv\",sep=\";\")\n",
    "plano_sp_leitos_internacoes = pa_read_csv(path_data+\"SEADE/plano_sp_leitos_internacoes_serie_nova.csv\",sep=\";\")"
   ]
  },
  {
   "cell_type": "markdown",
   "metadata": {},
   "source": [
    "## OpenData SUS\n",
    "fonte: https://opendatasus.saude.gov.br/dataset"
   ]
  },
  {
   "cell_type": "code",
   "execution_count": 18,
   "metadata": {},
   "outputs": [],
   "source": [
    "ocupacao_leitos = pa_read_csv(path_data + \"OpenDataSUS/esus-vepi.LeitoOcupacao.csv\",sep=\";\")"
   ]
  },
  {
   "cell_type": "markdown",
   "metadata": {},
   "source": [
    "___"
   ]
  },
  {
   "cell_type": "markdown",
   "metadata": {},
   "source": [
    "# Analisando as bases de dados"
   ]
  },
  {
   "cell_type": "code",
   "execution_count": 19,
   "metadata": {},
   "outputs": [],
   "source": [
    "#Função para uma descrição geral dos dados\n",
    "def describe(df):\n",
    "    print(\"Quantidade de linhas:\",df.shape[0])\n",
    "    df_out = pd.DataFrame(columns = ['variable','type','na' ,'na_pct' ,'unique','min', 'quat25','median','mean', \\\n",
    "                                     'quat75','max','std','skewness','kurtosis','media_desvio'])\n",
    "    df_out['variable'] = df.columns\n",
    "    df_out['type'] = df.dtypes.values\n",
    "    df_out['na'] = [sum(df[coluna].isna()) for coluna in df.columns]\n",
    "    df_out['na_pct'] = [str(round(100*sum(df[coluna].isna())/df.shape[0],1))+'%' for coluna in df.columns]\n",
    "    df_out['unique'] = [len(df[coluna].unique()) for coluna in df.columns]\n",
    "    df_out['min']  = [round(min(df[coluna]),2) if 'int' in str(df[coluna].dtype) or 'float' in str(df[coluna].dtype) else '-' for coluna in df.columns]\n",
    "    df_out['mean'] = [round(df[coluna].mean(),2) if 'int' in str(df[coluna].dtype) or \\\n",
    "                      'float' in str(df[coluna].dtype) else '-' for coluna in df.columns]\n",
    "    df_out['max']  = [round(max(df[coluna]),2) if 'int' in str(df[coluna].dtype) or 'float' in str(df[coluna].dtype) else '-' for coluna in df.columns]\n",
    "    df_out['std'] = [round(df[coluna].std(),2) if 'int' in str(df[coluna].dtype) or \\\n",
    "                      'float' in str(df[coluna].dtype) else '-' for coluna in df.columns]\n",
    "    df_out['quat25'] = [round(df[coluna].quantile(0.25),2) if 'int' in str(df[coluna].dtype) or \\\n",
    "                      'float' in str(df[coluna].dtype) else '-' for coluna in df.columns]\n",
    "    df_out['quat75'] = [round(df[coluna].quantile(0.75),2) if 'int' in str(df[coluna].dtype) or \\\n",
    "                      'float' in str(df[coluna].dtype) else '-' for coluna in df.columns]\n",
    "    df_out['median'] = [round(df[coluna].quantile(0.5),2) if 'int' in str(df[coluna].dtype) or \\\n",
    "                      'float' in str(df[coluna].dtype) else '-' for coluna in df.columns]\n",
    "    df_out['skewness'] = [round(df[coluna].skew(),2) if 'int' in str(df[coluna].dtype) or \\\n",
    "                          'float' in str(df[coluna].dtype) else '-' for coluna in df.columns]\n",
    "    df_out['kurtosis'] = [round(df[coluna].kurt(),2) if 'int' in str(df[coluna].dtype) or \\\n",
    "                          'float' in str(df[coluna].dtype) else '-' for coluna in df.columns]\n",
    "    \n",
    "    df_out_media_desvio_list = []\n",
    "    for coluna in df.columns:\n",
    "        if(('int' in str(df[coluna].dtype)) or ('float' in str(df[coluna].dtype)) ):\n",
    "            if((all(df[coluna] == 0)) or (df[coluna].std() == 0)):\n",
    "                df_out_media_desvio_list.append(0)\n",
    "            else:\n",
    "                df_out_media_desvio_list.append(round(df[coluna].mean()/df[coluna].std(),2))\n",
    "        else:\n",
    "            df_out_media_desvio_list.append('-')\n",
    "    \n",
    "    df_out['media_desvio'] = df_out_media_desvio_list\n",
    "    return(df_out)"
   ]
  },
  {
   "cell_type": "markdown",
   "metadata": {},
   "source": [
    "## FAPESP"
   ]
  },
  {
   "cell_type": "markdown",
   "metadata": {},
   "source": [
    "### Ajustando dados do Einstein"
   ]
  },
  {
   "cell_type": "code",
   "execution_count": 20,
   "metadata": {},
   "outputs": [
    {
     "name": "stdout",
     "output_type": "stream",
     "text": [
      "Quantidade de linhas: 3415155\n"
     ]
    },
    {
     "data": {
      "text/html": [
       "<div>\n",
       "<style scoped>\n",
       "    .dataframe tbody tr th:only-of-type {\n",
       "        vertical-align: middle;\n",
       "    }\n",
       "\n",
       "    .dataframe tbody tr th {\n",
       "        vertical-align: top;\n",
       "    }\n",
       "\n",
       "    .dataframe thead th {\n",
       "        text-align: right;\n",
       "    }\n",
       "</style>\n",
       "<table border=\"1\" class=\"dataframe\">\n",
       "  <thead>\n",
       "    <tr style=\"text-align: right;\">\n",
       "      <th></th>\n",
       "      <th>variable</th>\n",
       "      <th>type</th>\n",
       "      <th>na</th>\n",
       "      <th>na_pct</th>\n",
       "      <th>unique</th>\n",
       "      <th>min</th>\n",
       "      <th>quat25</th>\n",
       "      <th>median</th>\n",
       "      <th>mean</th>\n",
       "      <th>quat75</th>\n",
       "      <th>max</th>\n",
       "      <th>std</th>\n",
       "      <th>skewness</th>\n",
       "      <th>kurtosis</th>\n",
       "      <th>media_desvio</th>\n",
       "    </tr>\n",
       "  </thead>\n",
       "  <tbody>\n",
       "    <tr>\n",
       "      <th>0</th>\n",
       "      <td>ID_PACIENTE</td>\n",
       "      <td>object</td>\n",
       "      <td>0</td>\n",
       "      <td>0.0%</td>\n",
       "      <td>79840</td>\n",
       "      <td>-</td>\n",
       "      <td>-</td>\n",
       "      <td>-</td>\n",
       "      <td>-</td>\n",
       "      <td>-</td>\n",
       "      <td>-</td>\n",
       "      <td>-</td>\n",
       "      <td>-</td>\n",
       "      <td>-</td>\n",
       "      <td>-</td>\n",
       "    </tr>\n",
       "    <tr>\n",
       "      <th>1</th>\n",
       "      <td>DT_COLETA</td>\n",
       "      <td>object</td>\n",
       "      <td>0</td>\n",
       "      <td>0.0%</td>\n",
       "      <td>285</td>\n",
       "      <td>-</td>\n",
       "      <td>-</td>\n",
       "      <td>-</td>\n",
       "      <td>-</td>\n",
       "      <td>-</td>\n",
       "      <td>-</td>\n",
       "      <td>-</td>\n",
       "      <td>-</td>\n",
       "      <td>-</td>\n",
       "      <td>-</td>\n",
       "    </tr>\n",
       "    <tr>\n",
       "      <th>2</th>\n",
       "      <td>DE_ORIGEM</td>\n",
       "      <td>object</td>\n",
       "      <td>0</td>\n",
       "      <td>0.0%</td>\n",
       "      <td>1</td>\n",
       "      <td>-</td>\n",
       "      <td>-</td>\n",
       "      <td>-</td>\n",
       "      <td>-</td>\n",
       "      <td>-</td>\n",
       "      <td>-</td>\n",
       "      <td>-</td>\n",
       "      <td>-</td>\n",
       "      <td>-</td>\n",
       "      <td>-</td>\n",
       "    </tr>\n",
       "    <tr>\n",
       "      <th>3</th>\n",
       "      <td>DE_EXAME</td>\n",
       "      <td>object</td>\n",
       "      <td>0</td>\n",
       "      <td>0.0%</td>\n",
       "      <td>63</td>\n",
       "      <td>-</td>\n",
       "      <td>-</td>\n",
       "      <td>-</td>\n",
       "      <td>-</td>\n",
       "      <td>-</td>\n",
       "      <td>-</td>\n",
       "      <td>-</td>\n",
       "      <td>-</td>\n",
       "      <td>-</td>\n",
       "      <td>-</td>\n",
       "    </tr>\n",
       "    <tr>\n",
       "      <th>4</th>\n",
       "      <td>DE_ANALITO</td>\n",
       "      <td>object</td>\n",
       "      <td>0</td>\n",
       "      <td>0.0%</td>\n",
       "      <td>126</td>\n",
       "      <td>-</td>\n",
       "      <td>-</td>\n",
       "      <td>-</td>\n",
       "      <td>-</td>\n",
       "      <td>-</td>\n",
       "      <td>-</td>\n",
       "      <td>-</td>\n",
       "      <td>-</td>\n",
       "      <td>-</td>\n",
       "      <td>-</td>\n",
       "    </tr>\n",
       "    <tr>\n",
       "      <th>5</th>\n",
       "      <td>DE_RESULTADO</td>\n",
       "      <td>object</td>\n",
       "      <td>0</td>\n",
       "      <td>0.0%</td>\n",
       "      <td>27631</td>\n",
       "      <td>-</td>\n",
       "      <td>-</td>\n",
       "      <td>-</td>\n",
       "      <td>-</td>\n",
       "      <td>-</td>\n",
       "      <td>-</td>\n",
       "      <td>-</td>\n",
       "      <td>-</td>\n",
       "      <td>-</td>\n",
       "      <td>-</td>\n",
       "    </tr>\n",
       "    <tr>\n",
       "      <th>6</th>\n",
       "      <td>CD_UNIDADE</td>\n",
       "      <td>object</td>\n",
       "      <td>0</td>\n",
       "      <td>0.0%</td>\n",
       "      <td>19</td>\n",
       "      <td>-</td>\n",
       "      <td>-</td>\n",
       "      <td>-</td>\n",
       "      <td>-</td>\n",
       "      <td>-</td>\n",
       "      <td>-</td>\n",
       "      <td>-</td>\n",
       "      <td>-</td>\n",
       "      <td>-</td>\n",
       "      <td>-</td>\n",
       "    </tr>\n",
       "    <tr>\n",
       "      <th>7</th>\n",
       "      <td>DE_VALOR_REFERENCIA</td>\n",
       "      <td>object</td>\n",
       "      <td>0</td>\n",
       "      <td>0.0%</td>\n",
       "      <td>308</td>\n",
       "      <td>-</td>\n",
       "      <td>-</td>\n",
       "      <td>-</td>\n",
       "      <td>-</td>\n",
       "      <td>-</td>\n",
       "      <td>-</td>\n",
       "      <td>-</td>\n",
       "      <td>-</td>\n",
       "      <td>-</td>\n",
       "      <td>-</td>\n",
       "    </tr>\n",
       "    <tr>\n",
       "      <th>8</th>\n",
       "      <td>IC_SEXO</td>\n",
       "      <td>object</td>\n",
       "      <td>0</td>\n",
       "      <td>0.0%</td>\n",
       "      <td>2</td>\n",
       "      <td>-</td>\n",
       "      <td>-</td>\n",
       "      <td>-</td>\n",
       "      <td>-</td>\n",
       "      <td>-</td>\n",
       "      <td>-</td>\n",
       "      <td>-</td>\n",
       "      <td>-</td>\n",
       "      <td>-</td>\n",
       "      <td>-</td>\n",
       "    </tr>\n",
       "    <tr>\n",
       "      <th>9</th>\n",
       "      <td>AA_NASCIMENTO</td>\n",
       "      <td>object</td>\n",
       "      <td>0</td>\n",
       "      <td>0.0%</td>\n",
       "      <td>91</td>\n",
       "      <td>-</td>\n",
       "      <td>-</td>\n",
       "      <td>-</td>\n",
       "      <td>-</td>\n",
       "      <td>-</td>\n",
       "      <td>-</td>\n",
       "      <td>-</td>\n",
       "      <td>-</td>\n",
       "      <td>-</td>\n",
       "      <td>-</td>\n",
       "    </tr>\n",
       "    <tr>\n",
       "      <th>10</th>\n",
       "      <td>CD_UF</td>\n",
       "      <td>object</td>\n",
       "      <td>0</td>\n",
       "      <td>0.0%</td>\n",
       "      <td>4</td>\n",
       "      <td>-</td>\n",
       "      <td>-</td>\n",
       "      <td>-</td>\n",
       "      <td>-</td>\n",
       "      <td>-</td>\n",
       "      <td>-</td>\n",
       "      <td>-</td>\n",
       "      <td>-</td>\n",
       "      <td>-</td>\n",
       "      <td>-</td>\n",
       "    </tr>\n",
       "    <tr>\n",
       "      <th>11</th>\n",
       "      <td>CD_MUNICIPIO</td>\n",
       "      <td>object</td>\n",
       "      <td>0</td>\n",
       "      <td>0.0%</td>\n",
       "      <td>43</td>\n",
       "      <td>-</td>\n",
       "      <td>-</td>\n",
       "      <td>-</td>\n",
       "      <td>-</td>\n",
       "      <td>-</td>\n",
       "      <td>-</td>\n",
       "      <td>-</td>\n",
       "      <td>-</td>\n",
       "      <td>-</td>\n",
       "      <td>-</td>\n",
       "    </tr>\n",
       "    <tr>\n",
       "      <th>12</th>\n",
       "      <td>CD_CEPREDUZIDO</td>\n",
       "      <td>object</td>\n",
       "      <td>0</td>\n",
       "      <td>0.0%</td>\n",
       "      <td>63</td>\n",
       "      <td>-</td>\n",
       "      <td>-</td>\n",
       "      <td>-</td>\n",
       "      <td>-</td>\n",
       "      <td>-</td>\n",
       "      <td>-</td>\n",
       "      <td>-</td>\n",
       "      <td>-</td>\n",
       "      <td>-</td>\n",
       "      <td>-</td>\n",
       "    </tr>\n",
       "    <tr>\n",
       "      <th>13</th>\n",
       "      <td>CD_PAIS</td>\n",
       "      <td>object</td>\n",
       "      <td>0</td>\n",
       "      <td>0.0%</td>\n",
       "      <td>1</td>\n",
       "      <td>-</td>\n",
       "      <td>-</td>\n",
       "      <td>-</td>\n",
       "      <td>-</td>\n",
       "      <td>-</td>\n",
       "      <td>-</td>\n",
       "      <td>-</td>\n",
       "      <td>-</td>\n",
       "      <td>-</td>\n",
       "      <td>-</td>\n",
       "    </tr>\n",
       "  </tbody>\n",
       "</table>\n",
       "</div>"
      ],
      "text/plain": [
       "               variable    type  na na_pct  unique min quat25 median mean  \\\n",
       "0           ID_PACIENTE  object   0   0.0%   79840   -      -      -    -   \n",
       "1             DT_COLETA  object   0   0.0%     285   -      -      -    -   \n",
       "2             DE_ORIGEM  object   0   0.0%       1   -      -      -    -   \n",
       "3              DE_EXAME  object   0   0.0%      63   -      -      -    -   \n",
       "4            DE_ANALITO  object   0   0.0%     126   -      -      -    -   \n",
       "5          DE_RESULTADO  object   0   0.0%   27631   -      -      -    -   \n",
       "6            CD_UNIDADE  object   0   0.0%      19   -      -      -    -   \n",
       "7   DE_VALOR_REFERENCIA  object   0   0.0%     308   -      -      -    -   \n",
       "8               IC_SEXO  object   0   0.0%       2   -      -      -    -   \n",
       "9         AA_NASCIMENTO  object   0   0.0%      91   -      -      -    -   \n",
       "10                CD_UF  object   0   0.0%       4   -      -      -    -   \n",
       "11         CD_MUNICIPIO  object   0   0.0%      43   -      -      -    -   \n",
       "12       CD_CEPREDUZIDO  object   0   0.0%      63   -      -      -    -   \n",
       "13              CD_PAIS  object   0   0.0%       1   -      -      -    -   \n",
       "\n",
       "   quat75 max std skewness kurtosis media_desvio  \n",
       "0       -   -   -        -        -            -  \n",
       "1       -   -   -        -        -            -  \n",
       "2       -   -   -        -        -            -  \n",
       "3       -   -   -        -        -            -  \n",
       "4       -   -   -        -        -            -  \n",
       "5       -   -   -        -        -            -  \n",
       "6       -   -   -        -        -            -  \n",
       "7       -   -   -        -        -            -  \n",
       "8       -   -   -        -        -            -  \n",
       "9       -   -   -        -        -            -  \n",
       "10      -   -   -        -        -            -  \n",
       "11      -   -   -        -        -            -  \n",
       "12      -   -   -        -        -            -  \n",
       "13      -   -   -        -        -            -  "
      ]
     },
     "execution_count": 20,
     "metadata": {},
     "output_type": "execute_result"
    }
   ],
   "source": [
    "#Unindos as tabelas de pacientes e exames pelo ID dos pacientes e depois removendo as tabelas intermediárias\n",
    "einstein = einstein_exames.merge(einstein_pacientes,\n",
    "                                 how = \"left\",\n",
    "                                 on = \"ID_PACIENTE\")\n",
    "del(einstein_pacientes)\n",
    "del(einstein_exames)\n",
    "describe(einstein)"
   ]
  },
  {
   "cell_type": "markdown",
   "metadata": {},
   "source": [
    "#### DT_COLETA"
   ]
  },
  {
   "cell_type": "code",
   "execution_count": 31,
   "metadata": {},
   "outputs": [],
   "source": [
    "# Algumas informações passam a ser desnecessárias agora\n",
    "# O ID do paciente somente nos ajuda a fazer o merge das tabelas, mas nao agrega informação\n",
    "# Algumas colunas, como DE_ORIGEM, CD_PAIS, somente possuem um unico valor, então são desnecessárias\n",
    "einstein_ = einstein.drop(columns = [\"DE_ORIGEM\",\"CD_PAIS\"])\n",
    "\n",
    "#Coluna DT_COLETA é uma variável de data\n",
    "einstein_.DT_COLETA = pd.to_datetime(einstein.DT_COLETA,errors='coerce')"
   ]
  },
  {
   "cell_type": "markdown",
   "metadata": {},
   "source": [
    "#### DE_EXAME"
   ]
  },
  {
   "cell_type": "code",
   "execution_count": 92,
   "metadata": {
    "scrolled": true
   },
   "outputs": [
    {
     "data": {
      "text/plain": [
       "array([['Hemograma com Plaquetas'],\n",
       "       ['Hemograma Contagem Auto'],\n",
       "       ['Diferencial Manual'],\n",
       "       ['Urina Tipo I'],\n",
       "       ['Gasometria Venosa'],\n",
       "       ['PCR em tempo real para detecção de Coron'],\n",
       "       ['Gasometria Arterial'],\n",
       "       ['Painel Molecular Patogenos Respiratorios'],\n",
       "       ['Dosagem de Bilirrubina Total e Frações'],\n",
       "       ['Dosagem de Glicose'],\n",
       "       ['Dosagem de Uréia'],\n",
       "       ['Dosagem de CreatiNINA'],\n",
       "       ['Dosagem de Potássio'],\n",
       "       ['Dosagem de Sódio'],\n",
       "       ['Sorologia SARS-CoV-2/COVID19 IgG/IgM'],\n",
       "       ['Dosagem de TGP'],\n",
       "       ['TTPA'],\n",
       "       ['Dosagem de TGO'],\n",
       "       ['Tempo de Protrombina'],\n",
       "       ['Dosagem de Gama GT'],\n",
       "       ['Dosagem de Cálcio Iônico'],\n",
       "       ['Dosagem de Magnésio'],\n",
       "       ['Dosagem de Fosfatase Alcalina'],\n",
       "       ['Dosagem de D-Dímero'],\n",
       "       ['Dosagem de Ferritina'],\n",
       "       ['Dosagem de Vitamina B12'],\n",
       "       ['Dosagem de Fósforo'],\n",
       "       ['Dosagem de Desidrogenase Láctica'],\n",
       "       ['Dosagem de Lipase'],\n",
       "       ['Dosagem de CPK'],\n",
       "       ['Pesquisa Rápida para Influenza A e B'],\n",
       "       ['Dosagem de Insulina'],\n",
       "       ['Cirúrgico :GAA,Hb,Ht,Na,K,Glic,CA++,Lact'],\n",
       "       ['Dosagem de Testosterona Total e Livre'],\n",
       "       ['Contagem de Plaquetas'],\n",
       "       ['Triagem de Urina'],\n",
       "       ['Pesquisa de Estreptococos do Grupo A'],\n",
       "       ['Dosagem de Proteínas Totais e Frações'],\n",
       "       ['Contagem dos Reticulócitos'],\n",
       "       ['Dosagem de Hemoglobina'],\n",
       "       ['Dosagem de Hematócrito'],\n",
       "       ['Dosagem de Lactato (arterial)'],\n",
       "       ['Dosagem de Albumina'],\n",
       "       ['Teste rápido Coronavirus COVID19 IgG/IgM'],\n",
       "       ['Sedimento Urinário'],\n",
       "       ['TP POCT'],\n",
       "       ['Anticorpos IgA e IgG SARS-CoV-2/COVID19'],\n",
       "       ['Empresarial: Anticorpos Totais  IgG+IgM '],\n",
       "       ['Leucograma Auto'],\n",
       "       ['Clearance de Creatinina'],\n",
       "       ['Determinação de Osmolalidade'],\n",
       "       ['PCR para Influenza A/B e VRS'],\n",
       "       ['Hemograma Painel Mielóide'],\n",
       "       ['Leucograma Manual'],\n",
       "       ['Leucograma'],\n",
       "       ['Perfil de Oximetria Arterial'],\n",
       "       ['Revisão Lamina Hemograma'],\n",
       "       ['Eritrograma'],\n",
       "       ['Clearance de Uréia'],\n",
       "       ['PCR para Bordetella Pertussis'],\n",
       "       ['zzPesquisa de Pigmentos Biliares'],\n",
       "       ['Densidade Urinária'],\n",
       "       ['Contagem de Hemácias']], dtype=object)"
      ]
     },
     "execution_count": 92,
     "metadata": {},
     "output_type": "execute_result"
    }
   ],
   "source": [
    "#Aparentemente não há problemas com os dados de DE_EXAME\n",
    "einstein_.DE_EXAME.value_counts().index.to_numpy().reshape(-1,1)"
   ]
  },
  {
   "cell_type": "markdown",
   "metadata": {},
   "source": [
    "#### AA_NASCIMENTO"
   ]
  },
  {
   "cell_type": "markdown",
   "metadata": {},
   "source": [
    "De acordo como  dicionario de dados, AA_NASCIMENTO:\n",
    "\n",
    "<i>\"Os 4 dígitos do ano do nascimento: </i>\n",
    "* <i> AAAA - para ano de nascimento igual ou anterior a 1930 (visando anonimização) </i>\n",
    "* <i> YYYY - quaisquer outros anos, em caso de anonimização do ano\"</i>"
   ]
  },
  {
   "cell_type": "code",
   "execution_count": 32,
   "metadata": {},
   "outputs": [
    {
     "data": {
      "text/plain": [
       "AAAA    186901\n",
       "1980     64355\n",
       "1982     63864\n",
       "1975     61682\n",
       "1978     61498\n",
       "         ...  \n",
       "2015      7815\n",
       "2006      7786\n",
       "2013      7109\n",
       "2005      6794\n",
       "2011      6790\n",
       "Name: AA_NASCIMENTO, Length: 91, dtype: int64"
      ]
     },
     "execution_count": 32,
     "metadata": {},
     "output_type": "execute_result"
    }
   ],
   "source": [
    "# É possivel notar que existe uma quantidade considerável de anos abaixo de 1930. \n",
    "# Vamos converter para numérico, mas tenhamos em mente que os valores abaixo de 1930 serão os faltantes\n",
    "einstein_.AA_NASCIMENTO.value_counts()"
   ]
  },
  {
   "cell_type": "code",
   "execution_count": 33,
   "metadata": {},
   "outputs": [],
   "source": [
    "einstein_.AA_NASCIMENTO = pd.to_numeric(einstein_.AA_NASCIMENTO,errors='coerce')"
   ]
  },
  {
   "cell_type": "markdown",
   "metadata": {},
   "source": [
    "#### DE_VALOR_REFERENCIA"
   ]
  },
  {
   "cell_type": "code",
   "execution_count": 34,
   "metadata": {},
   "outputs": [
    {
     "data": {
      "text/plain": [
       "                 752292\n",
       "Não detectado    197758\n",
       "Ausentes         109214\n",
       "6.5 a 15.0        79659\n",
       "31.0 a 36.0       77335\n",
       "                  ...  \n",
       "3,5 a 5,2             1\n",
       "3.9 a 6.9             1\n",
       "25,6 a 35,5           1\n",
       "21 a 53               1\n",
       "0 a 850               1\n",
       "Name: DE_VALOR_REFERENCIA, Length: 308, dtype: int64"
      ]
     },
     "execution_count": 34,
     "metadata": {},
     "output_type": "execute_result"
    }
   ],
   "source": [
    "#Coluna valor de referencia é uma variável categórica proveninente de uma numérica. Porém, existem alguns valores que estão em branco ou\n",
    "# que a informação já diz que está ausente (dados faltantes). Dessa forma, vamos considerá-las ausente para fins de análise \n",
    "einstein_.DE_VALOR_REFERENCIA.value_counts()"
   ]
  },
  {
   "cell_type": "code",
   "execution_count": 35,
   "metadata": {},
   "outputs": [],
   "source": [
    "einstein_.DE_VALOR_REFERENCIA = einstein_.DE_VALOR_REFERENCIA.apply(lambda x: np.nan if (x == \"Ausentes\") | (x == \"\") else x)"
   ]
  },
  {
   "cell_type": "markdown",
   "metadata": {},
   "source": [
    "#### DE_ANALITO"
   ]
  },
  {
   "cell_type": "code",
   "execution_count": 36,
   "metadata": {
    "scrolled": true
   },
   "outputs": [
    {
     "data": {
      "text/plain": [
       "array([['Resultado COVID-19:'],\n",
       "       ['Hematócrito'],\n",
       "       ['Hemoglobina'],\n",
       "       ['Plaquetas'],\n",
       "       ['Hemácias'],\n",
       "       ['Dosagem de Glicose'],\n",
       "       ['Volume Médio Plaquetário'],\n",
       "       ['Leucócitos'],\n",
       "       ['Leucócitos #'],\n",
       "       ['VCM'],\n",
       "       ['CHCM'],\n",
       "       ['HCM'],\n",
       "       ['Linfócitos #'],\n",
       "       ['Monócitos #'],\n",
       "       ['Linfócitos'],\n",
       "       ['Monócitos'],\n",
       "       ['Eosinófilos  #'],\n",
       "       ['Eosinófilos'],\n",
       "       ['RDW'],\n",
       "       ['Basófilos #'],\n",
       "       ['Basófilos'],\n",
       "       ['Uréia'],\n",
       "       ['Neutrófilos'],\n",
       "       ['Neutrófilos  #'],\n",
       "       ['Creatinina'],\n",
       "       ['Potássio'],\n",
       "       ['Sódio'],\n",
       "       ['TGP'],\n",
       "       ['TGO'],\n",
       "       ['Gama GT'],\n",
       "       ['Cálcio Iônico mmol/L'],\n",
       "       ['Magnésio'],\n",
       "       ['Fosfatase Alcalina'],\n",
       "       ['Bilirrubina Indireta'],\n",
       "       ['Bilirrubina Total'],\n",
       "       ['Bilirrubina Direta'],\n",
       "       ['Densidade'],\n",
       "       ['pH'],\n",
       "       ['Esterase'],\n",
       "       ['Proteína'],\n",
       "       ['Açúcar'],\n",
       "       ['Hemoglobina Urina'],\n",
       "       ['Aspecto'],\n",
       "       ['Nitrito'],\n",
       "       ['Corpos cetônicos'],\n",
       "       ['Pigmentos biliares'],\n",
       "       ['Urobilinogênio'],\n",
       "       ['Leucócitos Urina'],\n",
       "       ['Hemácias Urina'],\n",
       "       ['Cristais'],\n",
       "       ['Cilindros hialinos'],\n",
       "       ['Leveduras'],\n",
       "       ['Cilindros granulosos'],\n",
       "       ['TTPA segundos'],\n",
       "       ['Cor'],\n",
       "       ['Relação (Paciente/Normal)'],\n",
       "       ['Segmentados #'],\n",
       "       ['Segmentados'],\n",
       "       ['Bastonetes #'],\n",
       "       ['Bastonestes'],\n",
       "       ['Metamielócitos #'],\n",
       "       ['Metamielócitos'],\n",
       "       ['RNI'],\n",
       "       ['Mielócitos #'],\n",
       "       ['Mielócitos'],\n",
       "       ['Promielócitos #'],\n",
       "       ['Promielócitos'],\n",
       "       ['Mieloblastos'],\n",
       "       ['Mieloblastos #'],\n",
       "       ['TP, Atividade'],\n",
       "       ['pO2 (gasometria venosa)'],\n",
       "       ['Saturação da Hb (gasometria venosa)'],\n",
       "       ['pH (gasometria venosa)'],\n",
       "       ['D-Dímero'],\n",
       "       ['pCO2 (gasometria venosa)'],\n",
       "       ['CO2 Total (gasometria venosa)'],\n",
       "       ['BE (gasometria venosa)'],\n",
       "       ['HCO3 (gasometria venosa)'],\n",
       "       ['Fio2 (gasometria venosa)'],\n",
       "       ['IgG, COVID19'],\n",
       "       ['IgM, COVID19'],\n",
       "       ['Ferritina'],\n",
       "       ['Dosagem de Vitamina B12'],\n",
       "       ['Fósforo'],\n",
       "       ['Dehidrogenase Láctica'],\n",
       "       ['Ácido Lático Arterial'],\n",
       "       ['Dosagem de Lipase'],\n",
       "       ['Albumina'],\n",
       "       ['COVID IgG Interp'],\n",
       "       ['COVID IgM Interp'],\n",
       "       ['pO2 (gasometria arterial)'],\n",
       "       ['pCO2 (gasometria arterial)'],\n",
       "       ['pH (gasometria arterial)'],\n",
       "       ['Saturação da Hb (gasometria arterial)'],\n",
       "       ['BE (gasometria arterial)'],\n",
       "       ['CO2 Total (gasometria arterial)'],\n",
       "       ['HCO3 (gasometria arterial)'],\n",
       "       ['ctO2 (gasometria arterial)'],\n",
       "       ['CPK'],\n",
       "       ['Fio2 Arterial'],\n",
       "       ['Influenza  A'],\n",
       "       ['Vírus Sincicial Respiratório'],\n",
       "       ['Influenza  B'],\n",
       "       ['Bordetella pertussis'],\n",
       "       ['Metapneumovírus'],\n",
       "       ['Rhinovírus/Enterovírus'],\n",
       "       ['Inf A H1N1 2009'],\n",
       "       ['Mycoplasma pneumoniae'],\n",
       "       ['Coronavírus229E'],\n",
       "       ['Parainfluenza 3'],\n",
       "       ['CoronavírusNL63'],\n",
       "       ['CoronavírusOC43'],\n",
       "       ['Parainfluenza 2'],\n",
       "       ['Adenovirus'],\n",
       "       ['Parainfluenza 4'],\n",
       "       ['Parainfluenza 1'],\n",
       "       ['CoronavírusHKU1'],\n",
       "       ['Chlamydophila pneumoniae'],\n",
       "       ['Influenza A, teste rápido'],\n",
       "       ['Influenza B,  teste rápido'],\n",
       "       ['Strepto A'],\n",
       "       ['COVID19 IgG, teste rápido'],\n",
       "       ['COVID19 IgM, teste rápido'],\n",
       "       ['IgA, COVID19:'],\n",
       "       ['COVID IgA Intepr'],\n",
       "       ['COVID19, IgG + IgM']], dtype=object)"
      ]
     },
     "execution_count": 36,
     "metadata": {},
     "output_type": "execute_result"
    }
   ],
   "source": [
    "# alguns analitos possuem um sustenido, mas a raiz do analito aparece. Vamos investigar o que pode ser\n",
    "einstein_.DE_ANALITO.value_counts().index.to_numpy().reshape(-1,1)"
   ]
  },
  {
   "cell_type": "code",
   "execution_count": 39,
   "metadata": {},
   "outputs": [
    {
     "data": {
      "text/html": [
       "<div>\n",
       "<style scoped>\n",
       "    .dataframe tbody tr th:only-of-type {\n",
       "        vertical-align: middle;\n",
       "    }\n",
       "\n",
       "    .dataframe tbody tr th {\n",
       "        vertical-align: top;\n",
       "    }\n",
       "\n",
       "    .dataframe thead th {\n",
       "        text-align: right;\n",
       "    }\n",
       "</style>\n",
       "<table border=\"1\" class=\"dataframe\">\n",
       "  <thead>\n",
       "    <tr style=\"text-align: right;\">\n",
       "      <th></th>\n",
       "      <th>ID_PACIENTE</th>\n",
       "      <th>DT_COLETA</th>\n",
       "      <th>DE_EXAME</th>\n",
       "      <th>DE_ANALITO</th>\n",
       "      <th>DE_RESULTADO</th>\n",
       "      <th>CD_UNIDADE</th>\n",
       "      <th>DE_VALOR_REFERENCIA</th>\n",
       "      <th>IC_SEXO</th>\n",
       "      <th>AA_NASCIMENTO</th>\n",
       "      <th>CD_UF</th>\n",
       "      <th>CD_MUNICIPIO</th>\n",
       "      <th>CD_CEPREDUZIDO</th>\n",
       "    </tr>\n",
       "  </thead>\n",
       "  <tbody>\n",
       "    <tr>\n",
       "      <th>503</th>\n",
       "      <td>000bb5ffdfd9bfd09e40294697e95a196f299307</td>\n",
       "      <td>2020-02-06</td>\n",
       "      <td>Diferencial Manual</td>\n",
       "      <td>Mieloblastos</td>\n",
       "      <td>0.0</td>\n",
       "      <td>%</td>\n",
       "      <td>NaN</td>\n",
       "      <td>M</td>\n",
       "      <td>1944.0</td>\n",
       "      <td>SP</td>\n",
       "      <td>SAO PAULO</td>\n",
       "      <td>CCCC</td>\n",
       "    </tr>\n",
       "    <tr>\n",
       "      <th>515</th>\n",
       "      <td>000bb5ffdfd9bfd09e40294697e95a196f299307</td>\n",
       "      <td>2020-02-06</td>\n",
       "      <td>Diferencial Manual</td>\n",
       "      <td>Mieloblastos #</td>\n",
       "      <td>0</td>\n",
       "      <td>µL</td>\n",
       "      <td>0 a 0</td>\n",
       "      <td>M</td>\n",
       "      <td>1944.0</td>\n",
       "      <td>SP</td>\n",
       "      <td>SAO PAULO</td>\n",
       "      <td>CCCC</td>\n",
       "    </tr>\n",
       "    <tr>\n",
       "      <th>699</th>\n",
       "      <td>000bb5ffdfd9bfd09e40294697e95a196f299307</td>\n",
       "      <td>2020-06-05</td>\n",
       "      <td>Diferencial Manual</td>\n",
       "      <td>Mieloblastos #</td>\n",
       "      <td>0</td>\n",
       "      <td>µL</td>\n",
       "      <td>0 a 0</td>\n",
       "      <td>M</td>\n",
       "      <td>1944.0</td>\n",
       "      <td>SP</td>\n",
       "      <td>SAO PAULO</td>\n",
       "      <td>CCCC</td>\n",
       "    </tr>\n",
       "    <tr>\n",
       "      <th>732</th>\n",
       "      <td>000bb5ffdfd9bfd09e40294697e95a196f299307</td>\n",
       "      <td>2020-06-05</td>\n",
       "      <td>Diferencial Manual</td>\n",
       "      <td>Mieloblastos</td>\n",
       "      <td>0.0</td>\n",
       "      <td>%</td>\n",
       "      <td>NaN</td>\n",
       "      <td>M</td>\n",
       "      <td>1944.0</td>\n",
       "      <td>SP</td>\n",
       "      <td>SAO PAULO</td>\n",
       "      <td>CCCC</td>\n",
       "    </tr>\n",
       "    <tr>\n",
       "      <th>934</th>\n",
       "      <td>000bb5ffdfd9bfd09e40294697e95a196f299307</td>\n",
       "      <td>2020-10-08</td>\n",
       "      <td>Diferencial Manual</td>\n",
       "      <td>Mieloblastos #</td>\n",
       "      <td>0</td>\n",
       "      <td>µL</td>\n",
       "      <td>0 a 0</td>\n",
       "      <td>M</td>\n",
       "      <td>1944.0</td>\n",
       "      <td>SP</td>\n",
       "      <td>SAO PAULO</td>\n",
       "      <td>CCCC</td>\n",
       "    </tr>\n",
       "  </tbody>\n",
       "</table>\n",
       "</div>"
      ],
      "text/plain": [
       "                                  ID_PACIENTE  DT_COLETA            DE_EXAME  \\\n",
       "503  000bb5ffdfd9bfd09e40294697e95a196f299307 2020-02-06  Diferencial Manual   \n",
       "515  000bb5ffdfd9bfd09e40294697e95a196f299307 2020-02-06  Diferencial Manual   \n",
       "699  000bb5ffdfd9bfd09e40294697e95a196f299307 2020-06-05  Diferencial Manual   \n",
       "732  000bb5ffdfd9bfd09e40294697e95a196f299307 2020-06-05  Diferencial Manual   \n",
       "934  000bb5ffdfd9bfd09e40294697e95a196f299307 2020-10-08  Diferencial Manual   \n",
       "\n",
       "         DE_ANALITO DE_RESULTADO CD_UNIDADE DE_VALOR_REFERENCIA IC_SEXO  \\\n",
       "503    Mieloblastos          0.0          %                 NaN       M   \n",
       "515  Mieloblastos #            0         µL               0 a 0       M   \n",
       "699  Mieloblastos #            0         µL               0 a 0       M   \n",
       "732    Mieloblastos          0.0          %                 NaN       M   \n",
       "934  Mieloblastos #            0         µL               0 a 0       M   \n",
       "\n",
       "     AA_NASCIMENTO CD_UF CD_MUNICIPIO CD_CEPREDUZIDO  \n",
       "503         1944.0    SP    SAO PAULO           CCCC  \n",
       "515         1944.0    SP    SAO PAULO           CCCC  \n",
       "699         1944.0    SP    SAO PAULO           CCCC  \n",
       "732         1944.0    SP    SAO PAULO           CCCC  \n",
       "934         1944.0    SP    SAO PAULO           CCCC  "
      ]
     },
     "execution_count": 39,
     "metadata": {},
     "output_type": "execute_result"
    }
   ],
   "source": [
    "#Ao que parece, o analito com # possui uma unidade de medida diferente\n",
    "einstein_[einstein_[\"DE_ANALITO\"].isin(['Mieloblastos','Mieloblastos #'])].head()"
   ]
  },
  {
   "cell_type": "code",
   "execution_count": 50,
   "metadata": {},
   "outputs": [
    {
     "data": {
      "text/plain": [
       "DE_ANALITO        CD_UNIDADE\n",
       "Bastonetes #      µL            17679\n",
       "Basófilos         %             78554\n",
       "Basófilos #       µL            78656\n",
       "Eosinófilos       %             78777\n",
       "Eosinófilos  #    µL            78813\n",
       "Leucócitos        x10^3/uL      79152\n",
       "Leucócitos #      µL            79152\n",
       "Linfócitos        %             79011\n",
       "Linfócitos #      µL            79034\n",
       "Metamielócitos    %             17538\n",
       "Metamielócitos #  NULL              1\n",
       "                  µL            17592\n",
       "Mieloblastos      %             17299\n",
       "Mieloblastos #    NULL              2\n",
       "                  µL            17295\n",
       "Mielócitos        %             17460\n",
       "Mielócitos #      NULL              1\n",
       "                  µL            17491\n",
       "Monócitos         %             78998\n",
       "Monócitos #       µL            79028\n",
       "Neutrófilos       %             61338\n",
       "Neutrófilos  #    µL            61332\n",
       "Promielócitos     %             17316\n",
       "Promielócitos #   NULL              2\n",
       "                  µL            17317\n",
       "Segmentados       %             17685\n",
       "Segmentados #     µL            17707\n",
       "Name: ID_PACIENTE, dtype: int64"
      ]
     },
     "execution_count": 50,
     "metadata": {},
     "output_type": "execute_result"
    }
   ],
   "source": [
    "#Vamos confirmar se as variaveis que possuem # possuem unidades de medida diferentes\n",
    "var_sustenido = einstein_[einstein_[\"DE_ANALITO\"].str.contains(\" #\")].DE_ANALITO.unique()\n",
    "var_raiz = np.array([[var.split(\" \")[0],var] for var in var_sustenido]).flatten()\n",
    "\n",
    "einstein_[einstein_[\"DE_ANALITO\"].apply(lambda x: x in var_raiz)].groupby([\"DE_ANALITO\",\"CD_UNIDADE\"]).ID_PACIENTE.size().sort_index()"
   ]
  },
  {
   "cell_type": "markdown",
   "metadata": {},
   "source": [
    "Além de comprovar que o # representa uma unidade de medida diferente, ainda foi possível encontrar quais deveriam ser os valores a serem preenchidos no lugar de NULL"
   ]
  },
  {
   "cell_type": "code",
   "execution_count": 82,
   "metadata": {},
   "outputs": [],
   "source": [
    "#Primeiro, vamos atribuir NaN aos valores NULL\n",
    "einstein_[\"CD_UNIDADE\"] = einstein_[\"CD_UNIDADE\"].replace({\"NULL\":np.nan})"
   ]
  },
  {
   "cell_type": "code",
   "execution_count": 83,
   "metadata": {},
   "outputs": [],
   "source": [
    "# Em seguida, recuperar quem sao os valores a serem mapeados e realizar o mapeamento\n",
    "analito_unidade = einstein_[einstein_[\"DE_ANALITO\"].apply(lambda x: x in var_raiz)].groupby([\"DE_ANALITO\",\"CD_UNIDADE\"]).ID_PACIENTE.size().sort_values(ascending = False)\n",
    "einstein_[\"CD_UNIDADE\"] = einstein_[\"CD_UNIDADE\"].fillna(einstein_[\"DE_ANALITO\"].map(analito_unidade.reset_index().groupby(\"DE_ANALITO\").CD_UNIDADE.first().to_dict()))"
   ]
  },
  {
   "cell_type": "code",
   "execution_count": 84,
   "metadata": {},
   "outputs": [
    {
     "data": {
      "text/plain": [
       "DE_ANALITO        CD_UNIDADE\n",
       "Bastonetes #      µL            17679\n",
       "Basófilos         %             78554\n",
       "Basófilos #       µL            78656\n",
       "Eosinófilos       %             78777\n",
       "Eosinófilos  #    µL            78813\n",
       "Leucócitos        x10^3/uL      79152\n",
       "Leucócitos #      µL            79152\n",
       "Linfócitos        %             79011\n",
       "Linfócitos #      µL            79034\n",
       "Metamielócitos    %             17538\n",
       "Metamielócitos #  µL            17593\n",
       "Mieloblastos      %             17299\n",
       "Mieloblastos #    µL            17297\n",
       "Mielócitos        %             17460\n",
       "Mielócitos #      µL            17492\n",
       "Monócitos         %             78998\n",
       "Monócitos #       µL            79028\n",
       "Neutrófilos       %             61338\n",
       "Neutrófilos  #    µL            61332\n",
       "Promielócitos     %             17316\n",
       "Promielócitos #   µL            17319\n",
       "Segmentados       %             17685\n",
       "Segmentados #     µL            17707\n",
       "Name: ID_PACIENTE, dtype: int64"
      ]
     },
     "execution_count": 84,
     "metadata": {},
     "output_type": "execute_result"
    }
   ],
   "source": [
    "#Mapeamento corrigido\n",
    "einstein_[einstein_[\"DE_ANALITO\"].apply(lambda x: x in var_raiz)].groupby([\"DE_ANALITO\",\"CD_UNIDADE\"]).ID_PACIENTE.size().sort_index()"
   ]
  },
  {
   "cell_type": "markdown",
   "metadata": {},
   "source": [
    "#### DE_RESULTADO"
   ]
  },
  {
   "cell_type": "markdown",
   "metadata": {},
   "source": [
    "De acordo com o dicinário de dados, \n",
    "\n",
    "<i>\"Se DE_ANALITO exige valor numérico, Inteiro ou Decimal, se DE_ANALITO exige qualitativo, String com domínio restrito\"</i>\n",
    "\n",
    "Portanto, há valores numericos e não numericos. Vamos dividir em duas colunas para facilitar nossa analise. Mas antes, vamos ver se não haverá nenhum problema na conversão"
   ]
  },
  {
   "cell_type": "code",
   "execution_count": 101,
   "metadata": {},
   "outputs": [
    {
     "data": {
      "text/html": [
       "<div>\n",
       "<style scoped>\n",
       "    .dataframe tbody tr th:only-of-type {\n",
       "        vertical-align: middle;\n",
       "    }\n",
       "\n",
       "    .dataframe tbody tr th {\n",
       "        vertical-align: top;\n",
       "    }\n",
       "\n",
       "    .dataframe thead th {\n",
       "        text-align: right;\n",
       "    }\n",
       "</style>\n",
       "<table border=\"1\" class=\"dataframe\">\n",
       "  <thead>\n",
       "    <tr style=\"text-align: right;\">\n",
       "      <th></th>\n",
       "      <th>Conversao</th>\n",
       "      <th>HaNumero</th>\n",
       "    </tr>\n",
       "  </thead>\n",
       "  <tbody>\n",
       "    <tr>\n",
       "      <th>0</th>\n",
       "      <td>863.00</td>\n",
       "      <td>True</td>\n",
       "    </tr>\n",
       "    <tr>\n",
       "      <th>1</th>\n",
       "      <td>13.00</td>\n",
       "      <td>True</td>\n",
       "    </tr>\n",
       "    <tr>\n",
       "      <th>2</th>\n",
       "      <td>134.00</td>\n",
       "      <td>True</td>\n",
       "    </tr>\n",
       "    <tr>\n",
       "      <th>3</th>\n",
       "      <td>1.30</td>\n",
       "      <td>True</td>\n",
       "    </tr>\n",
       "    <tr>\n",
       "      <th>4</th>\n",
       "      <td>24.00</td>\n",
       "      <td>True</td>\n",
       "    </tr>\n",
       "    <tr>\n",
       "      <th>...</th>\n",
       "      <td>...</td>\n",
       "      <td>...</td>\n",
       "    </tr>\n",
       "    <tr>\n",
       "      <th>3415150</th>\n",
       "      <td>41.40</td>\n",
       "      <td>True</td>\n",
       "    </tr>\n",
       "    <tr>\n",
       "      <th>3415151</th>\n",
       "      <td>NaN</td>\n",
       "      <td>False</td>\n",
       "    </tr>\n",
       "    <tr>\n",
       "      <th>3415152</th>\n",
       "      <td>0.26</td>\n",
       "      <td>True</td>\n",
       "    </tr>\n",
       "    <tr>\n",
       "      <th>3415153</th>\n",
       "      <td>0.55</td>\n",
       "      <td>True</td>\n",
       "    </tr>\n",
       "    <tr>\n",
       "      <th>3415154</th>\n",
       "      <td>NaN</td>\n",
       "      <td>False</td>\n",
       "    </tr>\n",
       "  </tbody>\n",
       "</table>\n",
       "<p>3415155 rows × 2 columns</p>\n",
       "</div>"
      ],
      "text/plain": [
       "         Conversao  HaNumero\n",
       "0           863.00      True\n",
       "1            13.00      True\n",
       "2           134.00      True\n",
       "3             1.30      True\n",
       "4            24.00      True\n",
       "...            ...       ...\n",
       "3415150      41.40      True\n",
       "3415151        NaN     False\n",
       "3415152       0.26      True\n",
       "3415153       0.55      True\n",
       "3415154        NaN     False\n",
       "\n",
       "[3415155 rows x 2 columns]"
      ]
     },
     "execution_count": 101,
     "metadata": {},
     "output_type": "execute_result"
    }
   ],
   "source": [
    "teste_sanidade_DE_RESULTADO = pd.DataFrame({\"Conversao\":pd.to_numeric(einstein_.DE_RESULTADO,errors='coerce'),\n",
    "                                            \"HaNumero\":einstein_.DE_RESULTADO.apply(lambda x: len(re.findall(\"[0-9]+\",x)) > 0)})\n",
    "teste_sanidade_DE_RESULTADO"
   ]
  },
  {
   "cell_type": "code",
   "execution_count": 102,
   "metadata": {},
   "outputs": [
    {
     "data": {
      "text/html": [
       "<div>\n",
       "<style scoped>\n",
       "    .dataframe tbody tr th:only-of-type {\n",
       "        vertical-align: middle;\n",
       "    }\n",
       "\n",
       "    .dataframe tbody tr th {\n",
       "        vertical-align: top;\n",
       "    }\n",
       "\n",
       "    .dataframe thead th {\n",
       "        text-align: right;\n",
       "    }\n",
       "</style>\n",
       "<table border=\"1\" class=\"dataframe\">\n",
       "  <thead>\n",
       "    <tr style=\"text-align: right;\">\n",
       "      <th></th>\n",
       "      <th>Conversao</th>\n",
       "      <th>HaNumero</th>\n",
       "    </tr>\n",
       "  </thead>\n",
       "  <tbody>\n",
       "    <tr>\n",
       "      <th>161</th>\n",
       "      <td>NaN</td>\n",
       "      <td>True</td>\n",
       "    </tr>\n",
       "    <tr>\n",
       "      <th>286</th>\n",
       "      <td>NaN</td>\n",
       "      <td>True</td>\n",
       "    </tr>\n",
       "    <tr>\n",
       "      <th>320</th>\n",
       "      <td>NaN</td>\n",
       "      <td>True</td>\n",
       "    </tr>\n",
       "    <tr>\n",
       "      <th>332</th>\n",
       "      <td>NaN</td>\n",
       "      <td>True</td>\n",
       "    </tr>\n",
       "    <tr>\n",
       "      <th>610</th>\n",
       "      <td>NaN</td>\n",
       "      <td>True</td>\n",
       "    </tr>\n",
       "    <tr>\n",
       "      <th>...</th>\n",
       "      <td>...</td>\n",
       "      <td>...</td>\n",
       "    </tr>\n",
       "    <tr>\n",
       "      <th>3415039</th>\n",
       "      <td>NaN</td>\n",
       "      <td>True</td>\n",
       "    </tr>\n",
       "    <tr>\n",
       "      <th>3415051</th>\n",
       "      <td>NaN</td>\n",
       "      <td>True</td>\n",
       "    </tr>\n",
       "    <tr>\n",
       "      <th>3415054</th>\n",
       "      <td>NaN</td>\n",
       "      <td>True</td>\n",
       "    </tr>\n",
       "    <tr>\n",
       "      <th>3415060</th>\n",
       "      <td>NaN</td>\n",
       "      <td>True</td>\n",
       "    </tr>\n",
       "    <tr>\n",
       "      <th>3415120</th>\n",
       "      <td>NaN</td>\n",
       "      <td>True</td>\n",
       "    </tr>\n",
       "  </tbody>\n",
       "</table>\n",
       "<p>20322 rows × 2 columns</p>\n",
       "</div>"
      ],
      "text/plain": [
       "         Conversao  HaNumero\n",
       "161            NaN      True\n",
       "286            NaN      True\n",
       "320            NaN      True\n",
       "332            NaN      True\n",
       "610            NaN      True\n",
       "...            ...       ...\n",
       "3415039        NaN      True\n",
       "3415051        NaN      True\n",
       "3415054        NaN      True\n",
       "3415060        NaN      True\n",
       "3415120        NaN      True\n",
       "\n",
       "[20322 rows x 2 columns]"
      ]
     },
     "execution_count": 102,
     "metadata": {},
     "output_type": "execute_result"
    }
   ],
   "source": [
    "# Vamos verificar se existe algum caso que dizia que havia numero mas nao houve conversão\n",
    "teste_sanidade_DE_RESULTADO.query(\"HaNumero == True & Conversao != Conversao\")"
   ]
  },
  {
   "cell_type": "code",
   "execution_count": 107,
   "metadata": {},
   "outputs": [
    {
     "data": {
      "text/plain": [
       "<1000                7256\n",
       "1+ (~30 mg/dL)       1983\n",
       "1+ (~25 WBCs/µL)     1674\n",
       "<215                 1546\n",
       "3+ (~500 WBCs/µL)     964\n",
       "                     ... \n",
       "118,3                   1\n",
       "158,9                   1\n",
       "2,08                    1\n",
       "85,6                    1\n",
       "1,00                    1\n",
       "Name: DE_RESULTADO, Length: 456, dtype: int64"
      ]
     },
     "execution_count": 107,
     "metadata": {},
     "output_type": "execute_result"
    }
   ],
   "source": [
    "# Nota-se que existem casos que existem numeros, mas a conversão não foi possível. Vamos verificar o motivo no original\n",
    "einstein_.iloc[teste_sanidade_DE_RESULTADO.query(\"HaNumero == True & Conversao != Conversao\").index,:][\"DE_RESULTADO\"].value_counts()"
   ]
  },
  {
   "cell_type": "code",
   "execution_count": 127,
   "metadata": {},
   "outputs": [
    {
     "data": {
      "text/plain": [
       "False    680\n",
       "True      16\n",
       "Name: DE_RESULTADO, dtype: int64"
      ]
     },
     "execution_count": 127,
     "metadata": {},
     "output_type": "execute_result"
    }
   ],
   "source": [
    "# Em alguns casos, temos números mesmo, mas por conta da \",\" não foi possível a conversão correta. Vejamos desses casos, aqueles que possuem \",\" para o devido tratamento\n",
    "de_resultado_verificar_numero = einstein_.iloc[teste_sanidade_DE_RESULTADO.query(\"HaNumero == True & Conversao != Conversao\").index,:][\"DE_RESULTADO\"]\n",
    "index_converter_virgula = pd.to_numeric(de_resultado_verificar_numero[de_resultado_verificar_numero.apply(lambda x: \",\" in x)].str.replace(\",\",\".\"),errors=\"coerce\").isna()\n",
    "index_converter_virgula.value_counts()"
   ]
  },
  {
   "cell_type": "code",
   "execution_count": 138,
   "metadata": {},
   "outputs": [
    {
     "data": {
      "text/plain": [
       "243343        2,5 L O2/min\n",
       "575482           0,5 LITRO\n",
       "1038068       3,0 L O2/min\n",
       "1113748              21,0%\n",
       "1624244       3,0 L O2/min\n",
       "1893670       2,0 L O2/min\n",
       "1963099       2,0 L O2/min\n",
       "2046949             >160,0\n",
       "2572943    7,0 L de O2/min\n",
       "2646327             >160,0\n",
       "2685704       2,0 L O2/min\n",
       "2775121             >160,0\n",
       "2946838         0,5 Litros\n",
       "2949733             >160,0\n",
       "2974611          ?32.737,0\n",
       "3402611             >160,0\n",
       "Name: DE_RESULTADO, dtype: object"
      ]
     },
     "execution_count": 138,
     "metadata": {},
     "output_type": "execute_result"
    }
   ],
   "source": [
    "# Ainda há casos com virgula que não é possivel converter. Vamos ver do que se trata\n",
    "de_resultado_verificar_numero[index_converter_virgula[index_converter_virgula==True].index]"
   ]
  },
  {
   "cell_type": "markdown",
   "metadata": {},
   "source": [
    "Como podemos ver, podemos fazer o seguinte tratamento, para resolver a questão:\n",
    "* \",0\" pode ser substituido por \"\" sem perda de informação\n",
    "* ? pode representar um erro. Vamos verificar"
   ]
  },
  {
   "cell_type": "code",
   "execution_count": 159,
   "metadata": {},
   "outputs": [
    {
     "data": {
      "text/html": [
       "<div>\n",
       "<style scoped>\n",
       "    .dataframe tbody tr th:only-of-type {\n",
       "        vertical-align: middle;\n",
       "    }\n",
       "\n",
       "    .dataframe tbody tr th {\n",
       "        vertical-align: top;\n",
       "    }\n",
       "\n",
       "    .dataframe thead th {\n",
       "        text-align: right;\n",
       "    }\n",
       "</style>\n",
       "<table border=\"1\" class=\"dataframe\">\n",
       "  <thead>\n",
       "    <tr style=\"text-align: right;\">\n",
       "      <th></th>\n",
       "      <th>ID_PACIENTE</th>\n",
       "      <th>DT_COLETA</th>\n",
       "      <th>DE_EXAME</th>\n",
       "      <th>DE_ANALITO</th>\n",
       "      <th>DE_RESULTADO</th>\n",
       "      <th>CD_UNIDADE</th>\n",
       "      <th>DE_VALOR_REFERENCIA</th>\n",
       "      <th>IC_SEXO</th>\n",
       "      <th>AA_NASCIMENTO</th>\n",
       "      <th>CD_UF</th>\n",
       "      <th>CD_MUNICIPIO</th>\n",
       "      <th>CD_CEPREDUZIDO</th>\n",
       "    </tr>\n",
       "  </thead>\n",
       "  <tbody>\n",
       "    <tr>\n",
       "      <th>182107</th>\n",
       "      <td>0d84bbdd3063f9f599b3b2aa54eb8ecf0f045983</td>\n",
       "      <td>2020-05-15</td>\n",
       "      <td>Gasometria Arterial</td>\n",
       "      <td>Ácido Lático Arterial</td>\n",
       "      <td>?1</td>\n",
       "      <td>mg/dL</td>\n",
       "      <td>4.5 a 14.4</td>\n",
       "      <td>M</td>\n",
       "      <td>1939.0</td>\n",
       "      <td>SP</td>\n",
       "      <td>SAO PAULO</td>\n",
       "      <td>CCCC</td>\n",
       "    </tr>\n",
       "    <tr>\n",
       "      <th>182110</th>\n",
       "      <td>0d84bbdd3063f9f599b3b2aa54eb8ecf0f045983</td>\n",
       "      <td>2020-05-15</td>\n",
       "      <td>Dosagem de Lactato (arterial)</td>\n",
       "      <td>Ácido Lático Arterial</td>\n",
       "      <td>?1</td>\n",
       "      <td>mg/dL</td>\n",
       "      <td>4.5 a 14.4</td>\n",
       "      <td>M</td>\n",
       "      <td>1939.0</td>\n",
       "      <td>SP</td>\n",
       "      <td>SAO PAULO</td>\n",
       "      <td>CCCC</td>\n",
       "    </tr>\n",
       "    <tr>\n",
       "      <th>774376</th>\n",
       "      <td>3ac6af7bd5c04a8534c751454dfc0cbc720bef6d</td>\n",
       "      <td>2020-04-29</td>\n",
       "      <td>Gasometria Venosa</td>\n",
       "      <td>Saturação da Hb (gasometria venosa)</td>\n",
       "      <td>?.....</td>\n",
       "      <td>%</td>\n",
       "      <td>40.0 a 70.0</td>\n",
       "      <td>M</td>\n",
       "      <td>1971.0</td>\n",
       "      <td>SP</td>\n",
       "      <td>SAO PAULO</td>\n",
       "      <td>CCCC</td>\n",
       "    </tr>\n",
       "    <tr>\n",
       "      <th>2105506</th>\n",
       "      <td>a37dd7ecccd88383831b95621ca8cae35deb1190</td>\n",
       "      <td>2020-04-26</td>\n",
       "      <td>Gasometria Arterial</td>\n",
       "      <td>ctO2 (gasometria arterial)</td>\n",
       "      <td>?3.0</td>\n",
       "      <td>mmol/L</td>\n",
       "      <td>8.4 a 9.9</td>\n",
       "      <td>M</td>\n",
       "      <td>1958.0</td>\n",
       "      <td>SP</td>\n",
       "      <td>SAO PAULO</td>\n",
       "      <td>CCCC</td>\n",
       "    </tr>\n",
       "    <tr>\n",
       "      <th>2974611</th>\n",
       "      <td>e2220446ffaa6b84e5877a05333e27d142a505c9</td>\n",
       "      <td>2019-12-23</td>\n",
       "      <td>Gasometria Venosa</td>\n",
       "      <td>pO2 (gasometria venosa)</td>\n",
       "      <td>?32.737,0</td>\n",
       "      <td>mm Hg</td>\n",
       "      <td>25.0 a 40.0</td>\n",
       "      <td>M</td>\n",
       "      <td>1935.0</td>\n",
       "      <td>SP</td>\n",
       "      <td>SAO PAULO</td>\n",
       "      <td>CCCC</td>\n",
       "    </tr>\n",
       "  </tbody>\n",
       "</table>\n",
       "</div>"
      ],
      "text/plain": [
       "                                      ID_PACIENTE  DT_COLETA  \\\n",
       "182107   0d84bbdd3063f9f599b3b2aa54eb8ecf0f045983 2020-05-15   \n",
       "182110   0d84bbdd3063f9f599b3b2aa54eb8ecf0f045983 2020-05-15   \n",
       "774376   3ac6af7bd5c04a8534c751454dfc0cbc720bef6d 2020-04-29   \n",
       "2105506  a37dd7ecccd88383831b95621ca8cae35deb1190 2020-04-26   \n",
       "2974611  e2220446ffaa6b84e5877a05333e27d142a505c9 2019-12-23   \n",
       "\n",
       "                              DE_EXAME                           DE_ANALITO  \\\n",
       "182107             Gasometria Arterial                Ácido Lático Arterial   \n",
       "182110   Dosagem de Lactato (arterial)                Ácido Lático Arterial   \n",
       "774376               Gasometria Venosa  Saturação da Hb (gasometria venosa)   \n",
       "2105506            Gasometria Arterial           ctO2 (gasometria arterial)   \n",
       "2974611              Gasometria Venosa              pO2 (gasometria venosa)   \n",
       "\n",
       "        DE_RESULTADO CD_UNIDADE DE_VALOR_REFERENCIA IC_SEXO  AA_NASCIMENTO  \\\n",
       "182107            ?1      mg/dL          4.5 a 14.4       M         1939.0   \n",
       "182110            ?1      mg/dL          4.5 a 14.4       M         1939.0   \n",
       "774376        ?.....          %         40.0 a 70.0       M         1971.0   \n",
       "2105506         ?3.0     mmol/L           8.4 a 9.9       M         1958.0   \n",
       "2974611    ?32.737,0      mm Hg         25.0 a 40.0       M         1935.0   \n",
       "\n",
       "        CD_UF CD_MUNICIPIO CD_CEPREDUZIDO  \n",
       "182107     SP    SAO PAULO           CCCC  \n",
       "182110     SP    SAO PAULO           CCCC  \n",
       "774376     SP    SAO PAULO           CCCC  \n",
       "2105506    SP    SAO PAULO           CCCC  \n",
       "2974611    SP    SAO PAULO           CCCC  "
      ]
     },
     "execution_count": 159,
     "metadata": {},
     "output_type": "execute_result"
    }
   ],
   "source": [
    "# Ao que tudo, indica, trata-se de erro de digitação. Vamos confirmar\n",
    "einstein_[einstein_.DE_RESULTADO.str.contains('\\?')]"
   ]
  },
  {
   "cell_type": "code",
   "execution_count": 160,
   "metadata": {},
   "outputs": [
    {
     "data": {
      "text/plain": [
       "21      9092\n",
       "2       2056\n",
       "30      1392\n",
       "40      1353\n",
       "        1064\n",
       "        ... \n",
       "0,7        1\n",
       "27,4       1\n",
       "59,4       1\n",
       "63         1\n",
       "19,0       1\n",
       "Name: DE_RESULTADO, Length: 2407, dtype: int64"
      ]
     },
     "execution_count": 160,
     "metadata": {},
     "output_type": "execute_result"
    }
   ],
   "source": [
    "#Exames com \"Gasometria\" possuem valores numericos sem \"?\", então podemos remover sem perda de informação\n",
    "einstein_[einstein_.DE_EXAME.str.contains('Gasometria')].DE_RESULTADO.value_counts()"
   ]
  },
  {
   "cell_type": "code",
   "execution_count": 172,
   "metadata": {},
   "outputs": [
    {
     "name": "stderr",
     "output_type": "stream",
     "text": [
      "C:\\Users\\ohbto\\Anaconda3\\lib\\site-packages\\ipykernel_launcher.py:1: FutureWarning: The default value of regex will change from True to False in a future version.\n"
     ]
    }
   ],
   "source": [
    "#Portando agora, podemos fazer a conversão considerando o teste de sanidade HaNumero == True & Conversao == NaN pois está verificado\n",
    "de_resultado_aux = einstein_.DE_RESULTADO.str.replace(\",0\",\"\").str.replace(\"\\?\",\"\")"
   ]
  },
  {
   "cell_type": "code",
   "execution_count": 190,
   "metadata": {},
   "outputs": [],
   "source": [
    "#Vamos seperar os dados em resultados numericos e resultados nao numericos\n",
    "einstein_[\"DE_RESULTADO_NUMERICO\"] = pd.to_numeric(de_resultado_aux,errors='coerce')\n",
    "einstein_[\"DE_RESULTADO_NAO_NUMERICO\"] = einstein_.apply(lambda x: x[\"DE_RESULTADO\"] if pd.isna(x[\"DE_RESULTADO_NUMERICO\"]) else np.nan,axis = 1)"
   ]
  },
  {
   "cell_type": "markdown",
   "metadata": {},
   "source": [
    "#### CD_UNIDADE"
   ]
  },
  {
   "cell_type": "code",
   "execution_count": 204,
   "metadata": {},
   "outputs": [
    {
     "data": {
      "text/html": [
       "<div>\n",
       "<style scoped>\n",
       "    .dataframe tbody tr th:only-of-type {\n",
       "        vertical-align: middle;\n",
       "    }\n",
       "\n",
       "    .dataframe tbody tr th {\n",
       "        vertical-align: top;\n",
       "    }\n",
       "\n",
       "    .dataframe thead th {\n",
       "        text-align: right;\n",
       "    }\n",
       "</style>\n",
       "<table border=\"1\" class=\"dataframe\">\n",
       "  <thead>\n",
       "    <tr style=\"text-align: right;\">\n",
       "      <th></th>\n",
       "      <th>DE_RESULTADO</th>\n",
       "      <th>CD_UNIDADE</th>\n",
       "      <th>ID_PACIENTE</th>\n",
       "    </tr>\n",
       "  </thead>\n",
       "  <tbody>\n",
       "    <tr>\n",
       "      <th>0</th>\n",
       "      <td></td>\n",
       "      <td>NaN</td>\n",
       "      <td>49603</td>\n",
       "    </tr>\n",
       "    <tr>\n",
       "      <th>17</th>\n",
       "      <td>*</td>\n",
       "      <td>NaN</td>\n",
       "      <td>252</td>\n",
       "    </tr>\n",
       "    <tr>\n",
       "      <th>22</th>\n",
       "      <td>**</td>\n",
       "      <td>NaN</td>\n",
       "      <td>50</td>\n",
       "    </tr>\n",
       "    <tr>\n",
       "      <th>24</th>\n",
       "      <td>***</td>\n",
       "      <td>NaN</td>\n",
       "      <td>17</td>\n",
       "    </tr>\n",
       "    <tr>\n",
       "      <th>27</th>\n",
       "      <td>*NOVA COLETA</td>\n",
       "      <td>NaN</td>\n",
       "      <td>2</td>\n",
       "    </tr>\n",
       "    <tr>\n",
       "      <th>...</th>\n",
       "      <td>...</td>\n",
       "      <td>...</td>\n",
       "      <td>...</td>\n",
       "    </tr>\n",
       "    <tr>\n",
       "      <th>44587</th>\n",
       "      <td>nova coleta</td>\n",
       "      <td>NaN</td>\n",
       "      <td>268</td>\n",
       "    </tr>\n",
       "    <tr>\n",
       "      <th>44589</th>\n",
       "      <td>vide nota</td>\n",
       "      <td>NaN</td>\n",
       "      <td>2</td>\n",
       "    </tr>\n",
       "    <tr>\n",
       "      <th>44591</th>\n",
       "      <td>Ácido Úrico +++</td>\n",
       "      <td>NaN</td>\n",
       "      <td>20</td>\n",
       "    </tr>\n",
       "    <tr>\n",
       "      <th>44592</th>\n",
       "      <td>Ácido Úrico -++</td>\n",
       "      <td>NaN</td>\n",
       "      <td>2</td>\n",
       "    </tr>\n",
       "    <tr>\n",
       "      <th>44593</th>\n",
       "      <td>Ácido Úrico --+</td>\n",
       "      <td>NaN</td>\n",
       "      <td>16</td>\n",
       "    </tr>\n",
       "  </tbody>\n",
       "</table>\n",
       "<p>2511 rows × 3 columns</p>\n",
       "</div>"
      ],
      "text/plain": [
       "          DE_RESULTADO CD_UNIDADE  ID_PACIENTE\n",
       "0                             NaN        49603\n",
       "17                   *        NaN          252\n",
       "22                  **        NaN           50\n",
       "24                 ***        NaN           17\n",
       "27        *NOVA COLETA        NaN            2\n",
       "...                ...        ...          ...\n",
       "44587      nova coleta        NaN          268\n",
       "44589        vide nota        NaN            2\n",
       "44591  Ácido Úrico +++        NaN           20\n",
       "44592  Ácido Úrico -++        NaN            2\n",
       "44593  Ácido Úrico --+        NaN           16\n",
       "\n",
       "[2511 rows x 3 columns]"
      ]
     },
     "execution_count": 204,
     "metadata": {},
     "output_type": "execute_result"
    }
   ],
   "source": [
    "#Não há uma explicação clara da falta de valores\n",
    "einstein_.groupby([\"DE_RESULTADO\",\"CD_UNIDADE\"],dropna=False).ID_PACIENTE.size().reset_index().query(\"CD_UNIDADE != CD_UNIDADE\")"
   ]
  },
  {
   "cell_type": "markdown",
   "metadata": {},
   "source": [
    "#### CD_UF"
   ]
  },
  {
   "cell_type": "code",
   "execution_count": 209,
   "metadata": {},
   "outputs": [
    {
     "data": {
      "text/plain": [
       "SP    3256973\n",
       "UU     155273\n",
       "MG       2896\n",
       "RJ         13\n",
       "Name: CD_UF, dtype: int64"
      ]
     },
     "execution_count": 209,
     "metadata": {},
     "output_type": "execute_result"
    }
   ],
   "source": [
    "# Há uma UF == UU\n",
    "einstein_.CD_UF.value_counts()"
   ]
  },
  {
   "cell_type": "code",
   "execution_count": 213,
   "metadata": {},
   "outputs": [
    {
     "data": {
      "text/plain": [
       "MMMM    155273\n",
       "Name: CD_MUNICIPIO, dtype: int64"
      ]
     },
     "execution_count": 213,
     "metadata": {},
     "output_type": "execute_result"
    }
   ],
   "source": [
    "# Esses casos ocorrem quando, de acordo com o dicionario de dados, há necessida de anonimização ou o paciente é estrangeiro\n",
    "einstein_[einstein_.CD_UF == \"UU\"].CD_MUNICIPIO.value_counts()"
   ]
  },
  {
   "cell_type": "code",
   "execution_count": 217,
   "metadata": {},
   "outputs": [],
   "source": [
    "einstein_.CD_UF = einstein_.CD_UF.replace({\"UU\":np.nan})"
   ]
  },
  {
   "cell_type": "markdown",
   "metadata": {},
   "source": [
    "#### CD_MUNICIPIO"
   ]
  },
  {
   "cell_type": "code",
   "execution_count": 218,
   "metadata": {},
   "outputs": [
    {
     "data": {
      "text/plain": [
       "SAO PAULO                2550567\n",
       "MMMM                      526886\n",
       "SANTANA DE PARNAIBA       116978\n",
       "BARUERI                    98919\n",
       "OSASCO                     19321\n",
       "COTIA                      18130\n",
       "JUNDIAI                    14165\n",
       "GUARULHOS                  10959\n",
       "SAO BERNARDO DO CAMPO       9289\n",
       "TABOAO DA SERRA             8405\n",
       "CARAPICUIBA                 8026\n",
       "SANTO ANDRE                 7542\n",
       "SANTOS                      4560\n",
       "CAMPINAS                    4234\n",
       "EMBU                        3274\n",
       "SOROCABA                    2380\n",
       "DIADEMA                     2301\n",
       "JANDIRA                     2231\n",
       "SAO CAETANO DO SUL          2006\n",
       "ITAPECERICA DA SERRA        1413\n",
       "ITAPEVI                     1183\n",
       "MAUA                         503\n",
       "SAO JOSE DOS CAMPOS          441\n",
       "CAJAMAR                      340\n",
       "ATIBAIA                      312\n",
       "PIRACICABA                   157\n",
       "JARINU                       157\n",
       "CABREUVA                     142\n",
       "MOGI DAS CRUZES              118\n",
       "CAIEIRAS                      47\n",
       "PRAIA GRANDE                  46\n",
       "RIBEIRAO PIRES                25\n",
       "ITAQUAQUECETUBA               12\n",
       "PORTO FELIZ                   12\n",
       "FRANCISCO MORATO              11\n",
       "RIBEIRAO PRETO                10\n",
       "ARARAQUARA                    10\n",
       "FRANCO DA ROCHA               10\n",
       "LIMEIRA                        9\n",
       "RIO DE JANEIRO                 7\n",
       "EMBU-GUACU                     7\n",
       "MIRASSOL                       5\n",
       "NOVO HORIZONTE                 5\n",
       "Name: CD_MUNICIPIO, dtype: int64"
      ]
     },
     "execution_count": 218,
     "metadata": {},
     "output_type": "execute_result"
    }
   ],
   "source": [
    "einstein_.CD_MUNICIPIO.value_counts()"
   ]
  },
  {
   "cell_type": "code",
   "execution_count": 220,
   "metadata": {},
   "outputs": [],
   "source": [
    "# Corrigindo os dados anonimizados do municipio\n",
    "einstein_.CD_MUNICIPIO = einstein_.CD_MUNICIPIO.replace({\"MMMM\",np.nan})"
   ]
  },
  {
   "cell_type": "markdown",
   "metadata": {},
   "source": [
    "#### CD_CEPREDUZIDO"
   ]
  },
  {
   "cell_type": "code",
   "execution_count": 223,
   "metadata": {},
   "outputs": [
    {
     "data": {
      "text/plain": [
       "CCCC        0.986184\n",
       "05652900    0.008932\n",
       "05679010    0.000914\n",
       "13213080    0.000627\n",
       "06543001    0.000606\n",
       "              ...   \n",
       "04738000    0.000001\n",
       "14960000    0.000001\n",
       "14802632    0.000001\n",
       "13026275    0.000001\n",
       "13486710    0.000001\n",
       "Name: CD_CEPREDUZIDO, Length: 63, dtype: float64"
      ]
     },
     "execution_count": 223,
     "metadata": {},
     "output_type": "execute_result"
    }
   ],
   "source": [
    "#De acordo com o dicionario de dados, os CEP CCC são anonimizados. Porém, mais de 98% dos dados não possuem a informação correta de CEP. Portanto, iremos remover da base\n",
    "einstein_.CD_CEPREDUZIDO.value_counts(normalize=True)"
   ]
  },
  {
   "cell_type": "code",
   "execution_count": 224,
   "metadata": {},
   "outputs": [],
   "source": [
    "einstein_ = einstein_.drop(columns = \"CD_CEPREDUZIDO\")"
   ]
  },
  {
   "cell_type": "code",
   "execution_count": 225,
   "metadata": {},
   "outputs": [
    {
     "name": "stdout",
     "output_type": "stream",
     "text": [
      "Quantidade de linhas: 3415155\n"
     ]
    },
    {
     "data": {
      "text/html": [
       "<div>\n",
       "<style scoped>\n",
       "    .dataframe tbody tr th:only-of-type {\n",
       "        vertical-align: middle;\n",
       "    }\n",
       "\n",
       "    .dataframe tbody tr th {\n",
       "        vertical-align: top;\n",
       "    }\n",
       "\n",
       "    .dataframe thead th {\n",
       "        text-align: right;\n",
       "    }\n",
       "</style>\n",
       "<table border=\"1\" class=\"dataframe\">\n",
       "  <thead>\n",
       "    <tr style=\"text-align: right;\">\n",
       "      <th></th>\n",
       "      <th>variable</th>\n",
       "      <th>type</th>\n",
       "      <th>na</th>\n",
       "      <th>na_pct</th>\n",
       "      <th>unique</th>\n",
       "      <th>min</th>\n",
       "      <th>quat25</th>\n",
       "      <th>median</th>\n",
       "      <th>mean</th>\n",
       "      <th>quat75</th>\n",
       "      <th>max</th>\n",
       "      <th>std</th>\n",
       "      <th>skewness</th>\n",
       "      <th>kurtosis</th>\n",
       "      <th>media_desvio</th>\n",
       "    </tr>\n",
       "  </thead>\n",
       "  <tbody>\n",
       "    <tr>\n",
       "      <th>0</th>\n",
       "      <td>ID_PACIENTE</td>\n",
       "      <td>object</td>\n",
       "      <td>0</td>\n",
       "      <td>0.0%</td>\n",
       "      <td>79840</td>\n",
       "      <td>-</td>\n",
       "      <td>-</td>\n",
       "      <td>-</td>\n",
       "      <td>-</td>\n",
       "      <td>-</td>\n",
       "      <td>-</td>\n",
       "      <td>-</td>\n",
       "      <td>-</td>\n",
       "      <td>-</td>\n",
       "      <td>-</td>\n",
       "    </tr>\n",
       "    <tr>\n",
       "      <th>1</th>\n",
       "      <td>DT_COLETA</td>\n",
       "      <td>datetime64[ns]</td>\n",
       "      <td>0</td>\n",
       "      <td>0.0%</td>\n",
       "      <td>285</td>\n",
       "      <td>-</td>\n",
       "      <td>-</td>\n",
       "      <td>-</td>\n",
       "      <td>-</td>\n",
       "      <td>-</td>\n",
       "      <td>-</td>\n",
       "      <td>-</td>\n",
       "      <td>-</td>\n",
       "      <td>-</td>\n",
       "      <td>-</td>\n",
       "    </tr>\n",
       "    <tr>\n",
       "      <th>2</th>\n",
       "      <td>DE_EXAME</td>\n",
       "      <td>object</td>\n",
       "      <td>0</td>\n",
       "      <td>0.0%</td>\n",
       "      <td>63</td>\n",
       "      <td>-</td>\n",
       "      <td>-</td>\n",
       "      <td>-</td>\n",
       "      <td>-</td>\n",
       "      <td>-</td>\n",
       "      <td>-</td>\n",
       "      <td>-</td>\n",
       "      <td>-</td>\n",
       "      <td>-</td>\n",
       "      <td>-</td>\n",
       "    </tr>\n",
       "    <tr>\n",
       "      <th>3</th>\n",
       "      <td>DE_ANALITO</td>\n",
       "      <td>object</td>\n",
       "      <td>0</td>\n",
       "      <td>0.0%</td>\n",
       "      <td>126</td>\n",
       "      <td>-</td>\n",
       "      <td>-</td>\n",
       "      <td>-</td>\n",
       "      <td>-</td>\n",
       "      <td>-</td>\n",
       "      <td>-</td>\n",
       "      <td>-</td>\n",
       "      <td>-</td>\n",
       "      <td>-</td>\n",
       "      <td>-</td>\n",
       "    </tr>\n",
       "    <tr>\n",
       "      <th>4</th>\n",
       "      <td>CD_UNIDADE</td>\n",
       "      <td>object</td>\n",
       "      <td>669174</td>\n",
       "      <td>19.6%</td>\n",
       "      <td>19</td>\n",
       "      <td>-</td>\n",
       "      <td>-</td>\n",
       "      <td>-</td>\n",
       "      <td>-</td>\n",
       "      <td>-</td>\n",
       "      <td>-</td>\n",
       "      <td>-</td>\n",
       "      <td>-</td>\n",
       "      <td>-</td>\n",
       "      <td>-</td>\n",
       "    </tr>\n",
       "    <tr>\n",
       "      <th>5</th>\n",
       "      <td>DE_VALOR_REFERENCIA</td>\n",
       "      <td>object</td>\n",
       "      <td>861506</td>\n",
       "      <td>25.2%</td>\n",
       "      <td>307</td>\n",
       "      <td>-</td>\n",
       "      <td>-</td>\n",
       "      <td>-</td>\n",
       "      <td>-</td>\n",
       "      <td>-</td>\n",
       "      <td>-</td>\n",
       "      <td>-</td>\n",
       "      <td>-</td>\n",
       "      <td>-</td>\n",
       "      <td>-</td>\n",
       "    </tr>\n",
       "    <tr>\n",
       "      <th>6</th>\n",
       "      <td>IC_SEXO</td>\n",
       "      <td>object</td>\n",
       "      <td>0</td>\n",
       "      <td>0.0%</td>\n",
       "      <td>2</td>\n",
       "      <td>-</td>\n",
       "      <td>-</td>\n",
       "      <td>-</td>\n",
       "      <td>-</td>\n",
       "      <td>-</td>\n",
       "      <td>-</td>\n",
       "      <td>-</td>\n",
       "      <td>-</td>\n",
       "      <td>-</td>\n",
       "      <td>-</td>\n",
       "    </tr>\n",
       "    <tr>\n",
       "      <th>7</th>\n",
       "      <td>AA_NASCIMENTO</td>\n",
       "      <td>float64</td>\n",
       "      <td>186901</td>\n",
       "      <td>5.5%</td>\n",
       "      <td>91</td>\n",
       "      <td>1931.0</td>\n",
       "      <td>1950.0</td>\n",
       "      <td>1967.0</td>\n",
       "      <td>1967.76</td>\n",
       "      <td>1982.0</td>\n",
       "      <td>2020.0</td>\n",
       "      <td>21.45</td>\n",
       "      <td>0.32</td>\n",
       "      <td>-0.56</td>\n",
       "      <td>91.73</td>\n",
       "    </tr>\n",
       "    <tr>\n",
       "      <th>8</th>\n",
       "      <td>CD_UF</td>\n",
       "      <td>object</td>\n",
       "      <td>155273</td>\n",
       "      <td>4.5%</td>\n",
       "      <td>4</td>\n",
       "      <td>-</td>\n",
       "      <td>-</td>\n",
       "      <td>-</td>\n",
       "      <td>-</td>\n",
       "      <td>-</td>\n",
       "      <td>-</td>\n",
       "      <td>-</td>\n",
       "      <td>-</td>\n",
       "      <td>-</td>\n",
       "      <td>-</td>\n",
       "    </tr>\n",
       "    <tr>\n",
       "      <th>9</th>\n",
       "      <td>CD_MUNICIPIO</td>\n",
       "      <td>object</td>\n",
       "      <td>0</td>\n",
       "      <td>0.0%</td>\n",
       "      <td>43</td>\n",
       "      <td>-</td>\n",
       "      <td>-</td>\n",
       "      <td>-</td>\n",
       "      <td>-</td>\n",
       "      <td>-</td>\n",
       "      <td>-</td>\n",
       "      <td>-</td>\n",
       "      <td>-</td>\n",
       "      <td>-</td>\n",
       "      <td>-</td>\n",
       "    </tr>\n",
       "    <tr>\n",
       "      <th>10</th>\n",
       "      <td>DE_RESULTADO_NUMERICO</td>\n",
       "      <td>float64</td>\n",
       "      <td>573515</td>\n",
       "      <td>16.8%</td>\n",
       "      <td>23883</td>\n",
       "      <td>-28.0</td>\n",
       "      <td>4.39</td>\n",
       "      <td>25.0</td>\n",
       "      <td>6323.31</td>\n",
       "      <td>89.8</td>\n",
       "      <td>3233754000.0</td>\n",
       "      <td>2155972.86</td>\n",
       "      <td>1271.36</td>\n",
       "      <td>1820745.94</td>\n",
       "      <td>0.0</td>\n",
       "    </tr>\n",
       "    <tr>\n",
       "      <th>11</th>\n",
       "      <td>DE_RESULTADO_NAO_NUMERICO</td>\n",
       "      <td>object</td>\n",
       "      <td>2841640</td>\n",
       "      <td>83.2%</td>\n",
       "      <td>520</td>\n",
       "      <td>-</td>\n",
       "      <td>-</td>\n",
       "      <td>-</td>\n",
       "      <td>-</td>\n",
       "      <td>-</td>\n",
       "      <td>-</td>\n",
       "      <td>-</td>\n",
       "      <td>-</td>\n",
       "      <td>-</td>\n",
       "      <td>-</td>\n",
       "    </tr>\n",
       "    <tr>\n",
       "      <th>12</th>\n",
       "      <td>DE_RESULTADO</td>\n",
       "      <td>object</td>\n",
       "      <td>0</td>\n",
       "      <td>0.0%</td>\n",
       "      <td>27591</td>\n",
       "      <td>-</td>\n",
       "      <td>-</td>\n",
       "      <td>-</td>\n",
       "      <td>-</td>\n",
       "      <td>-</td>\n",
       "      <td>-</td>\n",
       "      <td>-</td>\n",
       "      <td>-</td>\n",
       "      <td>-</td>\n",
       "      <td>-</td>\n",
       "    </tr>\n",
       "  </tbody>\n",
       "</table>\n",
       "</div>"
      ],
      "text/plain": [
       "                     variable            type       na na_pct  unique     min  \\\n",
       "0                 ID_PACIENTE          object        0   0.0%   79840       -   \n",
       "1                   DT_COLETA  datetime64[ns]        0   0.0%     285       -   \n",
       "2                    DE_EXAME          object        0   0.0%      63       -   \n",
       "3                  DE_ANALITO          object        0   0.0%     126       -   \n",
       "4                  CD_UNIDADE          object   669174  19.6%      19       -   \n",
       "5         DE_VALOR_REFERENCIA          object   861506  25.2%     307       -   \n",
       "6                     IC_SEXO          object        0   0.0%       2       -   \n",
       "7               AA_NASCIMENTO         float64   186901   5.5%      91  1931.0   \n",
       "8                       CD_UF          object   155273   4.5%       4       -   \n",
       "9                CD_MUNICIPIO          object        0   0.0%      43       -   \n",
       "10      DE_RESULTADO_NUMERICO         float64   573515  16.8%   23883   -28.0   \n",
       "11  DE_RESULTADO_NAO_NUMERICO          object  2841640  83.2%     520       -   \n",
       "12               DE_RESULTADO          object        0   0.0%   27591       -   \n",
       "\n",
       "    quat25  median     mean  quat75           max         std skewness  \\\n",
       "0        -       -        -       -             -           -        -   \n",
       "1        -       -        -       -             -           -        -   \n",
       "2        -       -        -       -             -           -        -   \n",
       "3        -       -        -       -             -           -        -   \n",
       "4        -       -        -       -             -           -        -   \n",
       "5        -       -        -       -             -           -        -   \n",
       "6        -       -        -       -             -           -        -   \n",
       "7   1950.0  1967.0  1967.76  1982.0        2020.0       21.45     0.32   \n",
       "8        -       -        -       -             -           -        -   \n",
       "9        -       -        -       -             -           -        -   \n",
       "10    4.39    25.0  6323.31    89.8  3233754000.0  2155972.86  1271.36   \n",
       "11       -       -        -       -             -           -        -   \n",
       "12       -       -        -       -             -           -        -   \n",
       "\n",
       "      kurtosis media_desvio  \n",
       "0            -            -  \n",
       "1            -            -  \n",
       "2            -            -  \n",
       "3            -            -  \n",
       "4            -            -  \n",
       "5            -            -  \n",
       "6            -            -  \n",
       "7        -0.56        91.73  \n",
       "8            -            -  \n",
       "9            -            -  \n",
       "10  1820745.94          0.0  \n",
       "11           -            -  \n",
       "12           -            -  "
      ]
     },
     "execution_count": 225,
     "metadata": {},
     "output_type": "execute_result"
    }
   ],
   "source": [
    "# Describe final\n",
    "describe(einstein_)"
   ]
  },
  {
   "cell_type": "code",
   "execution_count": 226,
   "metadata": {},
   "outputs": [],
   "source": [
    "pa_write_csv(einstein_,\"../data/interim/eistein.csv\")"
   ]
  },
  {
   "cell_type": "code",
   "execution_count": null,
   "metadata": {},
   "outputs": [],
   "source": []
  },
  {
   "cell_type": "code",
   "execution_count": null,
   "metadata": {},
   "outputs": [],
   "source": []
  },
  {
   "cell_type": "code",
   "execution_count": 194,
   "metadata": {},
   "outputs": [],
   "source": [
    "# sl = sl_exames.merge(sl_pacientes,\n",
    "#                      how = 'left',\n",
    "#                      on = 'ID_PACIENTE').merge(sl_desfecho,\n",
    "#                                                how = 'left',\n",
    "#                                                on = ['ID_PACIENTE','ID_ATENDIMENTO'])\n",
    "# del(sl_exames)\n",
    "# del(sl_pacientes)\n",
    "# del(sl_desfecho)\n",
    "# describe(sl)"
   ]
  },
  {
   "cell_type": "code",
   "execution_count": 193,
   "metadata": {},
   "outputs": [],
   "source": [
    "# hc = hc_exames.merge(hc_pacientes,\n",
    "#                      on = 'ID_PACIENTE',\n",
    "#                      how = 'left')\n",
    "# del(hc_pacientes)\n",
    "# del(hc_exames)\n",
    "# describe(hc)"
   ]
  },
  {
   "cell_type": "code",
   "execution_count": 192,
   "metadata": {},
   "outputs": [],
   "source": [
    "# bpsp = bpsp_exames.merge(bpsp_pacientes,\n",
    "#                          on = \"ID_PACIENTE\",\n",
    "#                          how = 'left').merge(bpsp_desfecho,\n",
    "#                                               how = 'left',\n",
    "#                                               on = ['ID_PACIENTE','ID_ATENDIMENTO'])\n",
    "# describe(bpsp)"
   ]
  },
  {
   "cell_type": "code",
   "execution_count": null,
   "metadata": {},
   "outputs": [],
   "source": []
  }
 ],
 "metadata": {
  "kernelspec": {
   "display_name": "Python 3",
   "language": "python",
   "name": "python3"
  },
  "language_info": {
   "codemirror_mode": {
    "name": "ipython",
    "version": 3
   },
   "file_extension": ".py",
   "mimetype": "text/x-python",
   "name": "python",
   "nbconvert_exporter": "python",
   "pygments_lexer": "ipython3",
   "version": "3.7.4"
  },
  "toc-autonumbering": true
 },
 "nbformat": 4,
 "nbformat_minor": 4
}
